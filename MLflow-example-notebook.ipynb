{
  "nbformat": 4,
  "nbformat_minor": 0,
  "metadata": {
    "colab": {
      "name": "MLflow-example-notebook.ipynb",
      "provenance": [],
      "collapsed_sections": [],
      "authorship_tag": "ABX9TyMUyEIXKPIvKiU5I2T//pwx",
      "include_colab_link": true
    },
    "kernelspec": {
      "name": "python3",
      "display_name": "Python 3"
    }
  },
  "cells": [
    {
      "cell_type": "markdown",
      "metadata": {
        "id": "view-in-github",
        "colab_type": "text"
      },
      "source": [
        "<a href=\"https://colab.research.google.com/github/alfozan/mlflow-example/blob/master/MLflow-example-notebook.ipynb\" target=\"_parent\"><img src=\"https://colab.research.google.com/assets/colab-badge.svg\" alt=\"Open In Colab\"/></a>"
      ]
    },
    {
      "cell_type": "markdown",
      "metadata": {
        "id": "y7wSVnqQ7xZB"
      },
      "source": [
        "# MLflow Example Notebook\n",
        "\n",
        "## Repo: https://github.com/alfozan/mlflow-example\n",
        "---\n",
        "\n",
        "This notebook demonstrates an example of dataset preprocessing, ML model training and evaluation, model tuning via MLflow tracking and finally REST API model serving via MLflow models.\n",
        "\n",
        "- **Talks:** https://twitter.com/PyDataRiyadh/status/1291043529146466304 and https://twitter.com/PyDataRiyadh/status/1314841078999154689?s=20\n",
        "- **Author:** Abdulrahman Alfozan ([@alfozan](https://twitter.com/alfozan)), [github](https://github.com/alfozan)\n",
        "---\n",
        "- **Dateset:** Bike Sharing Dataset: http://archive.ics.uci.edu/ml/datasets/Bike+Sharing+Dataset\n",
        "- **Goal:** predict `rented_bikes` (count per hour) based on weather and time information.\n",
        "\n",
        "\n",
        "**References:**\n",
        "- https://docs.databricks.com/_static/notebooks/gbt-regression.html\n",
        "- https://www.kaggle.com/pratsiuk/mlflow-experiment-automation-top-9\n",
        "- https://mlflow.org/docs/latest/tracking.html"
      ]
    },
    {
      "cell_type": "markdown",
      "metadata": {
        "id": "6dR-JRDBngFJ"
      },
      "source": [
        "# Import Libraries\n"
      ]
    },
    {
      "cell_type": "code",
      "metadata": {
        "id": "5C1LuP7Oodd8",
        "outputId": "6a47110e-5994-4d05-e380-58540915e624",
        "colab": {
          "base_uri": "https://localhost:8080/",
          "height": 363
        }
      },
      "source": [
        "!pip install mlflow --quiet\n",
        "import pandas as pd\n",
        "import numpy as np\n",
        "import matplotlib.pyplot as plt\n",
        "import seaborn as sns\n",
        "\n",
        "import mlflow\n",
        "import mlflow.sklearn\n",
        "from mlflow import log_metric, log_param, log_artifact\n",
        "\n",
        "from sklearn.ensemble import GradientBoostingRegressor\n",
        "from sklearn.metrics import mean_squared_error\n",
        "from sklearn.model_selection import KFold, cross_val_score, train_test_split\n",
        "from sklearn.inspection import permutation_importance\n",
        "from mlflow.models.signature import infer_signature\n",
        "from sklearn import tree\n",
        "\n",
        "from pydotplus import graph_from_dot_data\n",
        "import graphviz\n",
        "from IPython.display import Image\n",
        "\n",
        "import itertools\n",
        "\n",
        "plt.style.use(\"fivethirtyeight\")\n",
        "pd.plotting.register_matplotlib_converters()\n",
        "\n",
        "import warnings\n",
        "warnings.filterwarnings('ignore')"
      ],
      "execution_count": null,
      "outputs": [
        {
          "output_type": "stream",
          "text": [
            "\u001b[K     |████████████████████████████████| 13.9MB 299kB/s \n",
            "\u001b[K     |████████████████████████████████| 61kB 7.0MB/s \n",
            "\u001b[K     |████████████████████████████████| 327kB 45.6MB/s \n",
            "\u001b[K     |████████████████████████████████| 81kB 6.2MB/s \n",
            "\u001b[K     |████████████████████████████████| 1.1MB 40.3MB/s \n",
            "\u001b[K     |████████████████████████████████| 163kB 42.2MB/s \n",
            "\u001b[K     |████████████████████████████████| 153kB 48.8MB/s \n",
            "\u001b[K     |████████████████████████████████| 6.0MB 47.0MB/s \n",
            "\u001b[K     |████████████████████████████████| 92kB 8.3MB/s \n",
            "\u001b[K     |████████████████████████████████| 2.6MB 46.6MB/s \n",
            "\u001b[K     |████████████████████████████████| 122kB 42.6MB/s \n",
            "\u001b[K     |████████████████████████████████| 81kB 8.7MB/s \n",
            "\u001b[K     |████████████████████████████████| 71kB 7.5MB/s \n",
            "\u001b[K     |████████████████████████████████| 204kB 52.2MB/s \n",
            "\u001b[K     |████████████████████████████████| 51kB 4.5MB/s \n",
            "\u001b[?25h  Building wheel for querystring-parser (setup.py) ... \u001b[?25l\u001b[?25hdone\n",
            "  Building wheel for databricks-cli (setup.py) ... \u001b[?25l\u001b[?25hdone\n",
            "  Building wheel for prometheus-flask-exporter (setup.py) ... \u001b[?25l\u001b[?25hdone\n",
            "  Building wheel for alembic (setup.py) ... \u001b[?25l\u001b[?25hdone\n",
            "  Building wheel for sqlalchemy (setup.py) ... \u001b[?25l\u001b[?25hdone\n"
          ],
          "name": "stdout"
        }
      ]
    },
    {
      "cell_type": "markdown",
      "metadata": {
        "id": "TwKZC40S-e0R"
      },
      "source": [
        "# Import Data\n",
        "\n",
        "Dataset and explanation:\n",
        "http://archive.ics.uci.edu/ml/datasets/Bike+Sharing+Dataset\n",
        "\n",
        "- Input file: `hour.csv` - contains bike sharing counts aggregated on hourly basis. \n",
        "- Size: 17379 hours / rows\n"
      ]
    },
    {
      "cell_type": "code",
      "metadata": {
        "id": "1SZF_ZgD-gez",
        "outputId": "2dad51e5-5194-44af-c06c-5481c81d7639",
        "colab": {
          "base_uri": "https://localhost:8080/",
          "height": 276
        }
      },
      "source": [
        "# download and extract csv files into Data folder\n",
        "!wget -nc \"http://archive.ics.uci.edu/ml/machine-learning-databases/00275/Bike-Sharing-Dataset.zip\"\n",
        "!unzip -o \"Bike-Sharing-Dataset.zip\""
      ],
      "execution_count": null,
      "outputs": [
        {
          "output_type": "stream",
          "text": [
            "--2020-10-20 11:27:34--  http://archive.ics.uci.edu/ml/machine-learning-databases/00275/Bike-Sharing-Dataset.zip\n",
            "Resolving archive.ics.uci.edu (archive.ics.uci.edu)... 128.195.10.252\n",
            "Connecting to archive.ics.uci.edu (archive.ics.uci.edu)|128.195.10.252|:80... connected.\n",
            "HTTP request sent, awaiting response... 200 OK\n",
            "Length: 279992 (273K) [application/x-httpd-php]\n",
            "Saving to: ‘Bike-Sharing-Dataset.zip’\n",
            "\n",
            "Bike-Sharing-Datase 100%[===================>] 273.43K   470KB/s    in 0.6s    \n",
            "\n",
            "2020-10-20 11:27:35 (470 KB/s) - ‘Bike-Sharing-Dataset.zip’ saved [279992/279992]\n",
            "\n",
            "Archive:  Bike-Sharing-Dataset.zip\n",
            "  inflating: Readme.txt              \n",
            "  inflating: day.csv                 \n",
            "  inflating: hour.csv                \n"
          ],
          "name": "stdout"
        }
      ]
    },
    {
      "cell_type": "code",
      "metadata": {
        "id": "mFGzYdKCCNiK",
        "outputId": "8783bf81-d46a-4958-d2dc-59a324868a64",
        "colab": {
          "base_uri": "https://localhost:8080/",
          "height": 407
        }
      },
      "source": [
        "# load input data into pandas dataframe\n",
        "bike_sharing = pd.read_csv(\"hour.csv\")\n",
        "bike_sharing        "
      ],
      "execution_count": null,
      "outputs": [
        {
          "output_type": "execute_result",
          "data": {
            "text/html": [
              "<div>\n",
              "<style scoped>\n",
              "    .dataframe tbody tr th:only-of-type {\n",
              "        vertical-align: middle;\n",
              "    }\n",
              "\n",
              "    .dataframe tbody tr th {\n",
              "        vertical-align: top;\n",
              "    }\n",
              "\n",
              "    .dataframe thead th {\n",
              "        text-align: right;\n",
              "    }\n",
              "</style>\n",
              "<table border=\"1\" class=\"dataframe\">\n",
              "  <thead>\n",
              "    <tr style=\"text-align: right;\">\n",
              "      <th></th>\n",
              "      <th>instant</th>\n",
              "      <th>dteday</th>\n",
              "      <th>season</th>\n",
              "      <th>yr</th>\n",
              "      <th>mnth</th>\n",
              "      <th>hr</th>\n",
              "      <th>holiday</th>\n",
              "      <th>weekday</th>\n",
              "      <th>workingday</th>\n",
              "      <th>weathersit</th>\n",
              "      <th>temp</th>\n",
              "      <th>atemp</th>\n",
              "      <th>hum</th>\n",
              "      <th>windspeed</th>\n",
              "      <th>casual</th>\n",
              "      <th>registered</th>\n",
              "      <th>cnt</th>\n",
              "    </tr>\n",
              "  </thead>\n",
              "  <tbody>\n",
              "    <tr>\n",
              "      <th>0</th>\n",
              "      <td>1</td>\n",
              "      <td>2011-01-01</td>\n",
              "      <td>1</td>\n",
              "      <td>0</td>\n",
              "      <td>1</td>\n",
              "      <td>0</td>\n",
              "      <td>0</td>\n",
              "      <td>6</td>\n",
              "      <td>0</td>\n",
              "      <td>1</td>\n",
              "      <td>0.24</td>\n",
              "      <td>0.2879</td>\n",
              "      <td>0.81</td>\n",
              "      <td>0.0000</td>\n",
              "      <td>3</td>\n",
              "      <td>13</td>\n",
              "      <td>16</td>\n",
              "    </tr>\n",
              "    <tr>\n",
              "      <th>1</th>\n",
              "      <td>2</td>\n",
              "      <td>2011-01-01</td>\n",
              "      <td>1</td>\n",
              "      <td>0</td>\n",
              "      <td>1</td>\n",
              "      <td>1</td>\n",
              "      <td>0</td>\n",
              "      <td>6</td>\n",
              "      <td>0</td>\n",
              "      <td>1</td>\n",
              "      <td>0.22</td>\n",
              "      <td>0.2727</td>\n",
              "      <td>0.80</td>\n",
              "      <td>0.0000</td>\n",
              "      <td>8</td>\n",
              "      <td>32</td>\n",
              "      <td>40</td>\n",
              "    </tr>\n",
              "    <tr>\n",
              "      <th>2</th>\n",
              "      <td>3</td>\n",
              "      <td>2011-01-01</td>\n",
              "      <td>1</td>\n",
              "      <td>0</td>\n",
              "      <td>1</td>\n",
              "      <td>2</td>\n",
              "      <td>0</td>\n",
              "      <td>6</td>\n",
              "      <td>0</td>\n",
              "      <td>1</td>\n",
              "      <td>0.22</td>\n",
              "      <td>0.2727</td>\n",
              "      <td>0.80</td>\n",
              "      <td>0.0000</td>\n",
              "      <td>5</td>\n",
              "      <td>27</td>\n",
              "      <td>32</td>\n",
              "    </tr>\n",
              "    <tr>\n",
              "      <th>3</th>\n",
              "      <td>4</td>\n",
              "      <td>2011-01-01</td>\n",
              "      <td>1</td>\n",
              "      <td>0</td>\n",
              "      <td>1</td>\n",
              "      <td>3</td>\n",
              "      <td>0</td>\n",
              "      <td>6</td>\n",
              "      <td>0</td>\n",
              "      <td>1</td>\n",
              "      <td>0.24</td>\n",
              "      <td>0.2879</td>\n",
              "      <td>0.75</td>\n",
              "      <td>0.0000</td>\n",
              "      <td>3</td>\n",
              "      <td>10</td>\n",
              "      <td>13</td>\n",
              "    </tr>\n",
              "    <tr>\n",
              "      <th>4</th>\n",
              "      <td>5</td>\n",
              "      <td>2011-01-01</td>\n",
              "      <td>1</td>\n",
              "      <td>0</td>\n",
              "      <td>1</td>\n",
              "      <td>4</td>\n",
              "      <td>0</td>\n",
              "      <td>6</td>\n",
              "      <td>0</td>\n",
              "      <td>1</td>\n",
              "      <td>0.24</td>\n",
              "      <td>0.2879</td>\n",
              "      <td>0.75</td>\n",
              "      <td>0.0000</td>\n",
              "      <td>0</td>\n",
              "      <td>1</td>\n",
              "      <td>1</td>\n",
              "    </tr>\n",
              "    <tr>\n",
              "      <th>...</th>\n",
              "      <td>...</td>\n",
              "      <td>...</td>\n",
              "      <td>...</td>\n",
              "      <td>...</td>\n",
              "      <td>...</td>\n",
              "      <td>...</td>\n",
              "      <td>...</td>\n",
              "      <td>...</td>\n",
              "      <td>...</td>\n",
              "      <td>...</td>\n",
              "      <td>...</td>\n",
              "      <td>...</td>\n",
              "      <td>...</td>\n",
              "      <td>...</td>\n",
              "      <td>...</td>\n",
              "      <td>...</td>\n",
              "      <td>...</td>\n",
              "    </tr>\n",
              "    <tr>\n",
              "      <th>17374</th>\n",
              "      <td>17375</td>\n",
              "      <td>2012-12-31</td>\n",
              "      <td>1</td>\n",
              "      <td>1</td>\n",
              "      <td>12</td>\n",
              "      <td>19</td>\n",
              "      <td>0</td>\n",
              "      <td>1</td>\n",
              "      <td>1</td>\n",
              "      <td>2</td>\n",
              "      <td>0.26</td>\n",
              "      <td>0.2576</td>\n",
              "      <td>0.60</td>\n",
              "      <td>0.1642</td>\n",
              "      <td>11</td>\n",
              "      <td>108</td>\n",
              "      <td>119</td>\n",
              "    </tr>\n",
              "    <tr>\n",
              "      <th>17375</th>\n",
              "      <td>17376</td>\n",
              "      <td>2012-12-31</td>\n",
              "      <td>1</td>\n",
              "      <td>1</td>\n",
              "      <td>12</td>\n",
              "      <td>20</td>\n",
              "      <td>0</td>\n",
              "      <td>1</td>\n",
              "      <td>1</td>\n",
              "      <td>2</td>\n",
              "      <td>0.26</td>\n",
              "      <td>0.2576</td>\n",
              "      <td>0.60</td>\n",
              "      <td>0.1642</td>\n",
              "      <td>8</td>\n",
              "      <td>81</td>\n",
              "      <td>89</td>\n",
              "    </tr>\n",
              "    <tr>\n",
              "      <th>17376</th>\n",
              "      <td>17377</td>\n",
              "      <td>2012-12-31</td>\n",
              "      <td>1</td>\n",
              "      <td>1</td>\n",
              "      <td>12</td>\n",
              "      <td>21</td>\n",
              "      <td>0</td>\n",
              "      <td>1</td>\n",
              "      <td>1</td>\n",
              "      <td>1</td>\n",
              "      <td>0.26</td>\n",
              "      <td>0.2576</td>\n",
              "      <td>0.60</td>\n",
              "      <td>0.1642</td>\n",
              "      <td>7</td>\n",
              "      <td>83</td>\n",
              "      <td>90</td>\n",
              "    </tr>\n",
              "    <tr>\n",
              "      <th>17377</th>\n",
              "      <td>17378</td>\n",
              "      <td>2012-12-31</td>\n",
              "      <td>1</td>\n",
              "      <td>1</td>\n",
              "      <td>12</td>\n",
              "      <td>22</td>\n",
              "      <td>0</td>\n",
              "      <td>1</td>\n",
              "      <td>1</td>\n",
              "      <td>1</td>\n",
              "      <td>0.26</td>\n",
              "      <td>0.2727</td>\n",
              "      <td>0.56</td>\n",
              "      <td>0.1343</td>\n",
              "      <td>13</td>\n",
              "      <td>48</td>\n",
              "      <td>61</td>\n",
              "    </tr>\n",
              "    <tr>\n",
              "      <th>17378</th>\n",
              "      <td>17379</td>\n",
              "      <td>2012-12-31</td>\n",
              "      <td>1</td>\n",
              "      <td>1</td>\n",
              "      <td>12</td>\n",
              "      <td>23</td>\n",
              "      <td>0</td>\n",
              "      <td>1</td>\n",
              "      <td>1</td>\n",
              "      <td>1</td>\n",
              "      <td>0.26</td>\n",
              "      <td>0.2727</td>\n",
              "      <td>0.65</td>\n",
              "      <td>0.1343</td>\n",
              "      <td>12</td>\n",
              "      <td>37</td>\n",
              "      <td>49</td>\n",
              "    </tr>\n",
              "  </tbody>\n",
              "</table>\n",
              "<p>17379 rows × 17 columns</p>\n",
              "</div>"
            ],
            "text/plain": [
              "       instant      dteday  season  yr  ...  windspeed  casual  registered  cnt\n",
              "0            1  2011-01-01       1   0  ...     0.0000       3          13   16\n",
              "1            2  2011-01-01       1   0  ...     0.0000       8          32   40\n",
              "2            3  2011-01-01       1   0  ...     0.0000       5          27   32\n",
              "3            4  2011-01-01       1   0  ...     0.0000       3          10   13\n",
              "4            5  2011-01-01       1   0  ...     0.0000       0           1    1\n",
              "...        ...         ...     ...  ..  ...        ...     ...         ...  ...\n",
              "17374    17375  2012-12-31       1   1  ...     0.1642      11         108  119\n",
              "17375    17376  2012-12-31       1   1  ...     0.1642       8          81   89\n",
              "17376    17377  2012-12-31       1   1  ...     0.1642       7          83   90\n",
              "17377    17378  2012-12-31       1   1  ...     0.1343      13          48   61\n",
              "17378    17379  2012-12-31       1   1  ...     0.1343      12          37   49\n",
              "\n",
              "[17379 rows x 17 columns]"
            ]
          },
          "metadata": {
            "tags": []
          },
          "execution_count": 3
        }
      ]
    },
    {
      "cell_type": "markdown",
      "metadata": {
        "id": "fQk3RQt2FB8x"
      },
      "source": [
        "## Data preprocessing"
      ]
    },
    {
      "cell_type": "code",
      "metadata": {
        "id": "vyS5Ru5aE5Y7",
        "outputId": "5d0b2528-9664-437d-8e3f-61119fdaad5e",
        "colab": {
          "base_uri": "https://localhost:8080/",
          "height": 407
        }
      },
      "source": [
        "# remove unused columns\n",
        "bike_sharing.drop(columns=[\"instant\", \"dteday\", \"registered\", \"casual\"], inplace=True)\n",
        "\n",
        "# use better names\n",
        "bike_sharing.rename(\n",
        "    columns={\n",
        "        \"yr\": \"year\",\n",
        "        \"mnth\": \"month\",\n",
        "        \"hr\": \"hour_of_day\",\n",
        "        \"holiday\": \"is_holiday\",\n",
        "        \"workingday\": \"is_workingday\",\n",
        "        \"weathersit\": \"weather_situation\",\n",
        "        \"temp\": \"temperature\",\n",
        "        \"atemp\": \"feels_like_temperature\",\n",
        "        \"hum\": \"humidity\",\n",
        "        \"cnt\": \"rented_bikes\",\n",
        "    },\n",
        "    inplace=True,\n",
        ")\n",
        "\n",
        "# show samples\n",
        "bike_sharing"
      ],
      "execution_count": null,
      "outputs": [
        {
          "output_type": "execute_result",
          "data": {
            "text/html": [
              "<div>\n",
              "<style scoped>\n",
              "    .dataframe tbody tr th:only-of-type {\n",
              "        vertical-align: middle;\n",
              "    }\n",
              "\n",
              "    .dataframe tbody tr th {\n",
              "        vertical-align: top;\n",
              "    }\n",
              "\n",
              "    .dataframe thead th {\n",
              "        text-align: right;\n",
              "    }\n",
              "</style>\n",
              "<table border=\"1\" class=\"dataframe\">\n",
              "  <thead>\n",
              "    <tr style=\"text-align: right;\">\n",
              "      <th></th>\n",
              "      <th>season</th>\n",
              "      <th>year</th>\n",
              "      <th>month</th>\n",
              "      <th>hour_of_day</th>\n",
              "      <th>is_holiday</th>\n",
              "      <th>weekday</th>\n",
              "      <th>is_workingday</th>\n",
              "      <th>weather_situation</th>\n",
              "      <th>temperature</th>\n",
              "      <th>feels_like_temperature</th>\n",
              "      <th>humidity</th>\n",
              "      <th>windspeed</th>\n",
              "      <th>rented_bikes</th>\n",
              "    </tr>\n",
              "  </thead>\n",
              "  <tbody>\n",
              "    <tr>\n",
              "      <th>0</th>\n",
              "      <td>1</td>\n",
              "      <td>0</td>\n",
              "      <td>1</td>\n",
              "      <td>0</td>\n",
              "      <td>0</td>\n",
              "      <td>6</td>\n",
              "      <td>0</td>\n",
              "      <td>1</td>\n",
              "      <td>0.24</td>\n",
              "      <td>0.2879</td>\n",
              "      <td>0.81</td>\n",
              "      <td>0.0000</td>\n",
              "      <td>16</td>\n",
              "    </tr>\n",
              "    <tr>\n",
              "      <th>1</th>\n",
              "      <td>1</td>\n",
              "      <td>0</td>\n",
              "      <td>1</td>\n",
              "      <td>1</td>\n",
              "      <td>0</td>\n",
              "      <td>6</td>\n",
              "      <td>0</td>\n",
              "      <td>1</td>\n",
              "      <td>0.22</td>\n",
              "      <td>0.2727</td>\n",
              "      <td>0.80</td>\n",
              "      <td>0.0000</td>\n",
              "      <td>40</td>\n",
              "    </tr>\n",
              "    <tr>\n",
              "      <th>2</th>\n",
              "      <td>1</td>\n",
              "      <td>0</td>\n",
              "      <td>1</td>\n",
              "      <td>2</td>\n",
              "      <td>0</td>\n",
              "      <td>6</td>\n",
              "      <td>0</td>\n",
              "      <td>1</td>\n",
              "      <td>0.22</td>\n",
              "      <td>0.2727</td>\n",
              "      <td>0.80</td>\n",
              "      <td>0.0000</td>\n",
              "      <td>32</td>\n",
              "    </tr>\n",
              "    <tr>\n",
              "      <th>3</th>\n",
              "      <td>1</td>\n",
              "      <td>0</td>\n",
              "      <td>1</td>\n",
              "      <td>3</td>\n",
              "      <td>0</td>\n",
              "      <td>6</td>\n",
              "      <td>0</td>\n",
              "      <td>1</td>\n",
              "      <td>0.24</td>\n",
              "      <td>0.2879</td>\n",
              "      <td>0.75</td>\n",
              "      <td>0.0000</td>\n",
              "      <td>13</td>\n",
              "    </tr>\n",
              "    <tr>\n",
              "      <th>4</th>\n",
              "      <td>1</td>\n",
              "      <td>0</td>\n",
              "      <td>1</td>\n",
              "      <td>4</td>\n",
              "      <td>0</td>\n",
              "      <td>6</td>\n",
              "      <td>0</td>\n",
              "      <td>1</td>\n",
              "      <td>0.24</td>\n",
              "      <td>0.2879</td>\n",
              "      <td>0.75</td>\n",
              "      <td>0.0000</td>\n",
              "      <td>1</td>\n",
              "    </tr>\n",
              "    <tr>\n",
              "      <th>...</th>\n",
              "      <td>...</td>\n",
              "      <td>...</td>\n",
              "      <td>...</td>\n",
              "      <td>...</td>\n",
              "      <td>...</td>\n",
              "      <td>...</td>\n",
              "      <td>...</td>\n",
              "      <td>...</td>\n",
              "      <td>...</td>\n",
              "      <td>...</td>\n",
              "      <td>...</td>\n",
              "      <td>...</td>\n",
              "      <td>...</td>\n",
              "    </tr>\n",
              "    <tr>\n",
              "      <th>17374</th>\n",
              "      <td>1</td>\n",
              "      <td>1</td>\n",
              "      <td>12</td>\n",
              "      <td>19</td>\n",
              "      <td>0</td>\n",
              "      <td>1</td>\n",
              "      <td>1</td>\n",
              "      <td>2</td>\n",
              "      <td>0.26</td>\n",
              "      <td>0.2576</td>\n",
              "      <td>0.60</td>\n",
              "      <td>0.1642</td>\n",
              "      <td>119</td>\n",
              "    </tr>\n",
              "    <tr>\n",
              "      <th>17375</th>\n",
              "      <td>1</td>\n",
              "      <td>1</td>\n",
              "      <td>12</td>\n",
              "      <td>20</td>\n",
              "      <td>0</td>\n",
              "      <td>1</td>\n",
              "      <td>1</td>\n",
              "      <td>2</td>\n",
              "      <td>0.26</td>\n",
              "      <td>0.2576</td>\n",
              "      <td>0.60</td>\n",
              "      <td>0.1642</td>\n",
              "      <td>89</td>\n",
              "    </tr>\n",
              "    <tr>\n",
              "      <th>17376</th>\n",
              "      <td>1</td>\n",
              "      <td>1</td>\n",
              "      <td>12</td>\n",
              "      <td>21</td>\n",
              "      <td>0</td>\n",
              "      <td>1</td>\n",
              "      <td>1</td>\n",
              "      <td>1</td>\n",
              "      <td>0.26</td>\n",
              "      <td>0.2576</td>\n",
              "      <td>0.60</td>\n",
              "      <td>0.1642</td>\n",
              "      <td>90</td>\n",
              "    </tr>\n",
              "    <tr>\n",
              "      <th>17377</th>\n",
              "      <td>1</td>\n",
              "      <td>1</td>\n",
              "      <td>12</td>\n",
              "      <td>22</td>\n",
              "      <td>0</td>\n",
              "      <td>1</td>\n",
              "      <td>1</td>\n",
              "      <td>1</td>\n",
              "      <td>0.26</td>\n",
              "      <td>0.2727</td>\n",
              "      <td>0.56</td>\n",
              "      <td>0.1343</td>\n",
              "      <td>61</td>\n",
              "    </tr>\n",
              "    <tr>\n",
              "      <th>17378</th>\n",
              "      <td>1</td>\n",
              "      <td>1</td>\n",
              "      <td>12</td>\n",
              "      <td>23</td>\n",
              "      <td>0</td>\n",
              "      <td>1</td>\n",
              "      <td>1</td>\n",
              "      <td>1</td>\n",
              "      <td>0.26</td>\n",
              "      <td>0.2727</td>\n",
              "      <td>0.65</td>\n",
              "      <td>0.1343</td>\n",
              "      <td>49</td>\n",
              "    </tr>\n",
              "  </tbody>\n",
              "</table>\n",
              "<p>17379 rows × 13 columns</p>\n",
              "</div>"
            ],
            "text/plain": [
              "       season  year  month  ...  humidity  windspeed  rented_bikes\n",
              "0           1     0      1  ...      0.81     0.0000            16\n",
              "1           1     0      1  ...      0.80     0.0000            40\n",
              "2           1     0      1  ...      0.80     0.0000            32\n",
              "3           1     0      1  ...      0.75     0.0000            13\n",
              "4           1     0      1  ...      0.75     0.0000             1\n",
              "...       ...   ...    ...  ...       ...        ...           ...\n",
              "17374       1     1     12  ...      0.60     0.1642           119\n",
              "17375       1     1     12  ...      0.60     0.1642            89\n",
              "17376       1     1     12  ...      0.60     0.1642            90\n",
              "17377       1     1     12  ...      0.56     0.1343            61\n",
              "17378       1     1     12  ...      0.65     0.1343            49\n",
              "\n",
              "[17379 rows x 13 columns]"
            ]
          },
          "metadata": {
            "tags": []
          },
          "execution_count": 4
        }
      ]
    },
    {
      "cell_type": "markdown",
      "metadata": {
        "id": "40MGTHbNFKTP"
      },
      "source": [
        "### Data Visualization "
      ]
    },
    {
      "cell_type": "code",
      "metadata": {
        "id": "bNZOegwGHzUR",
        "outputId": "45a00d75-c019-4c39-96c4-08e3995fb381",
        "colab": {
          "base_uri": "https://localhost:8080/",
          "height": 639
        }
      },
      "source": [
        "hour_of_day_agg = bike_sharing.groupby([\"hour_of_day\"])[\"rented_bikes\"].sum()\n",
        "\n",
        "hour_of_day_agg.plot(\n",
        "    kind=\"line\", \n",
        "    title=\"Total rented bikes by hour of day\",\n",
        "    xticks=hour_of_day_agg.index,\n",
        "    figsize=(15, 10),\n",
        ")"
      ],
      "execution_count": null,
      "outputs": [
        {
          "output_type": "execute_result",
          "data": {
            "text/plain": [
              "<matplotlib.axes._subplots.AxesSubplot at 0x7ffa1bc83a20>"
            ]
          },
          "metadata": {
            "tags": []
          },
          "execution_count": 7
        },
        {
          "output_type": "display_data",
          "data": {
            "image/png": "[encoded data removed]",
            "text/plain": [
              "<Figure size 1080x720 with 1 Axes>"
            ]
          },
          "metadata": {
            "tags": [],
            "needs_background": "light"
          }
        }
      ]
    },
    {
      "cell_type": "markdown",
      "metadata": {
        "id": "ZMg_JKoUKq9j"
      },
      "source": [
        "## Prepare training and test data sets\n"
      ]
    },
    {
      "cell_type": "code",
      "metadata": {
        "id": "ZwtDgaZ9Ktie",
        "outputId": "4971f3d6-5e99-4583-acb6-4ef73892a633",
        "colab": {
          "base_uri": "https://localhost:8080/",
          "height": 52
        }
      },
      "source": [
        "# Split the dataset randomly into 70% for training and 30% for testing.\n",
        "X = bike_sharing.drop(\"rented_bikes\", axis=1)\n",
        "y = bike_sharing.rented_bikes\n",
        "X_train, X_test, y_train, y_test = train_test_split(X, y, train_size=0.7, test_size=0.3, random_state=42)\n",
        "\n",
        "print(f\"Training samples: {X_train.size}\")\n",
        "print(f\"Test samples: {X_test.size}\")"
      ],
      "execution_count": null,
      "outputs": [
        {
          "output_type": "stream",
          "text": [
            "Training samples: 145980\n",
            "Test samples: 62568\n"
          ],
          "name": "stdout"
        }
      ]
    },
    {
      "cell_type": "markdown",
      "metadata": {
        "id": "HN0w6zFJSb87"
      },
      "source": [
        "# Evaluation Metrics\n",
        "\n",
        "Create evaluation methods to be used in training stage (next step)"
      ]
    },
    {
      "cell_type": "markdown",
      "metadata": {
        "id": "eC1wzz_T_tSA"
      },
      "source": [
        "## Root Mean Square Error (RMSE)\n",
        "\n",
        "References: \n",
        "- https://medium.com/@xaviergeerinck/artificial-intelligence-how-to-measure-performance-accuracy-precision-recall-f1-roc-rmse-611d10e4caac\n",
        "- https://www.kaggle.com/residentmario/model-fit-metrics#Root-mean-squared-error-(RMSE)\n"
      ]
    },
    {
      "cell_type": "code",
      "metadata": {
        "id": "MhPcLCteQy6j"
      },
      "source": [
        "def rmse(y, y_pred):\n",
        "    return np.sqrt(mean_squared_error(y, y_pred))\n",
        "\n",
        "\n",
        "def rmse_score(y, y_pred):\n",
        "    score = rmse(y, y_pred)\n",
        "    print(\"RMSE score: {:.4f}\".format(score))\n",
        "    return score"
      ],
      "execution_count": null,
      "outputs": []
    },
    {
      "cell_type": "markdown",
      "metadata": {
        "id": "fZ3nr3D_AE85"
      },
      "source": [
        "### Cross-Validation RMSLE score\n",
        "\n",
        "cross-validation combines (averages) measures of fitness in prediction to derive a more accurate estimate of model prediction performance.\n",
        "\n",
        "Background: \n",
        "- https://en.wikipedia.org/wiki/Cross-validation_(statistics)\n",
        "- https://www.kaggle.com/carlolepelaars/understanding-the-metric-rmsle\n"
      ]
    },
    {
      "cell_type": "code",
      "metadata": {
        "id": "9H9CZAP2ASe6"
      },
      "source": [
        "def rmsle_cv(model, X_train, y_train):\n",
        "    kf = KFold(n_splits=3, shuffle=True, random_state=42).get_n_splits(X_train.values)\n",
        "    # Evaluate a score by cross-validation\n",
        "    rmse = np.sqrt(-cross_val_score(model, X_train.values, y_train, scoring=\"neg_mean_squared_error\", cv=kf))\n",
        "    return rmse\n",
        "\n",
        "\n",
        "def rmse_cv_score(model, X_train, y_train):\n",
        "    score = rmsle_cv(model, X_train, y_train)\n",
        "    print(\"Cross-Validation RMSE score: {:.4f} (std = {:.4f})\".format(score.mean(), score.std()))\n",
        "    return score"
      ],
      "execution_count": null,
      "outputs": []
    },
    {
      "cell_type": "markdown",
      "metadata": {
        "id": "Ad0mABWEarsA"
      },
      "source": [
        "## Feature Importance\n",
        "\n",
        "Background: https://medium.com/bigdatarepublic/feature-importance-whats-in-a-name-79532e59eea3"
      ]
    },
    {
      "cell_type": "code",
      "metadata": {
        "id": "OZ7kzjbOWae8"
      },
      "source": [
        "def model_feature_importance(model):\n",
        "    feature_importance = pd.DataFrame(\n",
        "        model.feature_importances_,\n",
        "        index=X_train.columns,\n",
        "        columns=[\"Importance\"],\n",
        "    )\n",
        "\n",
        "    # sort by importance\n",
        "    feature_importance.sort_values(by=\"Importance\", ascending=False, inplace=True)\n",
        "\n",
        "    # plot\n",
        "    plt.figure(figsize=(12, 8))\n",
        "    sns.barplot(\n",
        "        data=feature_importance.reset_index(),\n",
        "        y=\"index\",\n",
        "        x=\"Importance\",\n",
        "    ).set_title(\"Feature Importance\")\n",
        "    # save image\n",
        "    plt.savefig(\"model_artifacts/feature_importance.png\", bbox_inches='tight')"
      ],
      "execution_count": null,
      "outputs": []
    },
    {
      "cell_type": "markdown",
      "metadata": {
        "id": "rYfCxPo8w-Gn"
      },
      "source": [
        "## Permutation Importance\n",
        "\n",
        "Background: https://www.kaggle.com/dansbecker/permutation-importance"
      ]
    },
    {
      "cell_type": "code",
      "metadata": {
        "id": "b_vzVVbGcS6M"
      },
      "source": [
        "def model_permutation_importance(model):\n",
        "    p_importance = permutation_importance(model, X_test, y_test, random_state=42, n_jobs=-1)\n",
        "\n",
        "    # sort by importance\n",
        "    sorted_idx = p_importance.importances_mean.argsort()[::-1]\n",
        "    p_importance = pd.DataFrame(\n",
        "        data=p_importance.importances[sorted_idx].T,\n",
        "        columns=X_train.columns[sorted_idx]\n",
        "    )\n",
        "\n",
        "    # plot\n",
        "    plt.figure(figsize=(12, 8))\n",
        "    sns.barplot(\n",
        "        data=p_importance,\n",
        "        orient=\"h\"\n",
        "    ).set_title(\"Permutation Importance\")\n",
        "\n",
        "    # save image\n",
        "    plt.savefig(\"model_artifacts/permutation_importance.png\", bbox_inches=\"tight\")"
      ],
      "execution_count": null,
      "outputs": []
    },
    {
      "cell_type": "markdown",
      "metadata": {
        "id": "VtQGsSNU8hWc"
      },
      "source": [
        "## Decision Tree Visualization\n",
        "\n",
        "Reference: https://towardsdatascience.com/visualizing-decision-trees-with-python-scikit-learn-graphviz-matplotlib-1c50b4aa68dc \n",
        "\n",
        "\n",
        "TODO: plot all trees"
      ]
    },
    {
      "cell_type": "code",
      "metadata": {
        "id": "rxKIpaE-g-b1"
      },
      "source": [
        "def model_tree_visualization(model):\n",
        "    # generate visualization\n",
        "    tree_dot_data = tree.export_graphviz(\n",
        "        decision_tree=model.estimators_[0, 0],  # Get the first tree,\n",
        "        label=\"all\",\n",
        "        feature_names=X_train.columns,\n",
        "        filled=True,\n",
        "        rounded=True,\n",
        "        proportion=True,\n",
        "        impurity=False,\n",
        "        precision=1,\n",
        "    )\n",
        "\n",
        "    # save image\n",
        "    graph_from_dot_data(tree_dot_data).write_png(\"model_artifacts/Decision_Tree_Visualization.png\")\n",
        "\n",
        "    # show tree\n",
        "    return graphviz.Source(tree_dot_data)"
      ],
      "execution_count": null,
      "outputs": []
    },
    {
      "cell_type": "markdown",
      "metadata": {
        "id": "warpAv8RFSOI"
      },
      "source": [
        "# MLflow Tracking\n",
        "\n",
        "Reference: https://www.mlflow.org/docs/latest/cli.html#mlflow-ui\n"
      ]
    },
    {
      "cell_type": "markdown",
      "metadata": {
        "id": "1kU8w1TNGG4Y"
      },
      "source": [
        "## MLflow Logger"
      ]
    },
    {
      "cell_type": "code",
      "metadata": {
        "id": "kyQRcKslAwv-"
      },
      "source": [
        "# Track params and metrics\n",
        "def log_mlflow_run(model, signature):\n",
        "    # Auto-logging for scikit-learn estimators\n",
        "    # mlflow.sklearn.autolog()\n",
        "\n",
        "    # log estimator_name name\n",
        "    name = model.__class__.__name__\n",
        "    mlflow.set_tag(\"estimator_name\", name)\n",
        "\n",
        "    # log input features\n",
        "    mlflow.set_tag(\"features\", str(X_train.columns.values.tolist()))\n",
        "\n",
        "    # Log tracked parameters only\n",
        "    mlflow.log_params({key: model.get_params()[key] for key in parameters})\n",
        "\n",
        "    mlflow.log_metrics({\n",
        "        'RMSE_CV': score_cv.mean(),\n",
        "        'RMSE': score,\n",
        "    })\n",
        "\n",
        "    # log training loss\n",
        "    for s in model.train_score_:\n",
        "        mlflow.log_metric(\"Train Loss\", s)\n",
        "\n",
        "    # Save model to artifacts\n",
        "    mlflow.sklearn.log_model(model, \"model\", signature=signature)\n",
        "\n",
        "    # log charts\n",
        "    mlflow.log_artifacts(\"model_artifacts\")\n",
        "\n",
        "    # misc\n",
        "    # Log all model parameters\n",
        "    # mlflow.log_params(model.get_params())\n",
        "    # mlflow.log_param(\"Training size\", X_test.size)\n",
        "    # mlflow.log_param(\"Test size\", y_test.size)"
      ],
      "execution_count": null,
      "outputs": []
    },
    {
      "cell_type": "markdown",
      "metadata": {
        "id": "vGmHvdrMw_-U"
      },
      "source": [
        "## Initialize MLflow experiment"
      ]
    },
    {
      "cell_type": "code",
      "metadata": {
        "id": "noNeZRbU_llh",
        "outputId": "ccccc65c-c900-4950-dafe-c8cde3ac318f",
        "colab": {
          "base_uri": "https://localhost:8080/",
          "height": 35
        }
      },
      "source": [
        "experiment_name = \"rented_bikes\"\n",
        "\n",
        "mlflow.set_experiment(experiment_name)\n",
        "mlflow.set_tracking_uri(\"./mlruns\")\n",
        "\n",
        "# delete default experiment if exits\n",
        "if (mlflow.get_experiment_by_name(\"Default\").lifecycle_stage == 'active'):\n",
        "    mlflow.delete_experiment(\"0\")\n",
        "\n",
        "# create model_artifacts directory \n",
        "!mkdir -p \"model_artifacts\""
      ],
      "execution_count": null,
      "outputs": [
        {
          "output_type": "stream",
          "text": [
            "INFO: 'rented_bikes' does not exist. Creating a new experiment\n"
          ],
          "name": "stdout"
        }
      ]
    },
    {
      "cell_type": "markdown",
      "metadata": {
        "id": "UZScaIVhAPEj"
      },
      "source": [
        "## Start experiments tracking UI"
      ]
    },
    {
      "cell_type": "code",
      "metadata": {
        "id": "8IvEYLSPNUkA"
      },
      "source": [
        "# run tracking UI in the background\n",
        "get_ipython().system_raw(\"mlflow ui --port 5000 &\")"
      ],
      "execution_count": null,
      "outputs": []
    },
    {
      "cell_type": "markdown",
      "metadata": {
        "id": "P8cfq8bO_LRr"
      },
      "source": [
        "### MLflow UI URL"
      ]
    },
    {
      "cell_type": "code",
      "metadata": {
        "id": "4h3bKHMYUIG6",
        "outputId": "568c534b-01fc-4a5c-a3c1-8ff583588385",
        "colab": {
          "base_uri": "https://localhost:8080/",
          "height": 52
        }
      },
      "source": [
        "# create remote tunnel using ngrok.com to allow local port access\n",
        "!pip install pyngrok --quiet\n",
        "from pyngrok import ngrok\n",
        "\n",
        "# Terminate open tunnels if exist\n",
        "ngrok.kill()\n",
        "\n",
        "# Setting the authtoken (optional)\n",
        "# Get your authtoken from https://dashboard.ngrok.com/auth\n",
        "NGROK_AUTH_TOKEN = \"\"\n",
        "ngrok.set_auth_token(NGROK_AUTH_TOKEN)\n",
        "\n",
        "# Open an HTTPs tunnel on port 5000 for http://localhost:5000\n",
        "public_url = ngrok.connect(port=\"5000\", proto=\"http\", options={\"bind_tls\": True})\n",
        "print(\"MLflow Tracking UI:\", public_url)"
      ],
      "execution_count": null,
      "outputs": [
        {
          "output_type": "stream",
          "text": [
            "  Building wheel for pyngrok (setup.py) ... \u001b[?25l\u001b[?25hdone\n",
            "MLflow Tracking UI: https://0a4aa47d9c97.ngrok.io\n"
          ],
          "name": "stdout"
        }
      ]
    },
    {
      "cell_type": "markdown",
      "metadata": {
        "id": "z1S4mo8_SE6K"
      },
      "source": [
        "Note: you can download `/content/mlruns` folder and run `mlflow ui` locally\n",
        "\n",
        "Steps:\n",
        "- Download `/content/mlruns` folder to `~/Downloads`\n",
        "- `cd ~/Downloads && pip install mlflow && mlflow ui`\n",
        "\n",
        "Reference: https://www.mlflow.org/docs/latest/quickstart.html#viewing-the-tracking-ui\n"
      ]
    },
    {
      "cell_type": "markdown",
      "metadata": {
        "id": "7xRa6vYWMed1"
      },
      "source": [
        "# Model Training\n"
      ]
    },
    {
      "cell_type": "markdown",
      "metadata": {
        "id": "mDAdPTeDTjr1"
      },
      "source": [
        "## Model Type & Method\n",
        "\n",
        "For this example,\n",
        "- Approache: Decision tree (Supervised learning)\n",
        "- Tree type: Regression tree\n",
        "- Technique/ensemble method: Gradient boosting\n",
        "\n",
        "**All put together we get:** [GBRT (Gradient Boosted Regression Tree)](https://orbi.uliege.be/bitstream/2268/163521/1/slides.pdf)\n",
        "\n",
        "Background:\n",
        "- Choosing a model: https://scikit-learn.org/stable/tutorial/machine_learning_map\n",
        "- Machine Learning Models Explained\n",
        ": https://docs.paperspace.com/machine-learning/wiki/machine-learning-models-explained\n",
        "- Gradient Boosted Regression Trees: https://orbi.uliege.be/bitstream/2268/163521/1/slides.pdf\n"
      ]
    },
    {
      "cell_type": "code",
      "metadata": {
        "id": "OSbcPvkBThXV"
      },
      "source": [
        "# GBRT (Gradient Boosted Regression Tree) scikit-learn implementation \n",
        "model_class = GradientBoostingRegressor"
      ],
      "execution_count": null,
      "outputs": []
    },
    {
      "cell_type": "markdown",
      "metadata": {
        "id": "l7BYFTSRzLk2"
      },
      "source": [
        "## Model Hyper-parameters \n"
      ]
    },
    {
      "cell_type": "code",
      "metadata": {
        "id": "1Mu88JOkMiJF"
      },
      "source": [
        "parameters = {\n",
        "    \"learning_rate\": [0.1, 0.05, 0.01],\n",
        "    \"max_depth\": [4, 5, 6],\n",
        "    # \"verbose\": True,\n",
        "}"
      ],
      "execution_count": null,
      "outputs": []
    },
    {
      "cell_type": "markdown",
      "metadata": {
        "id": "LnUDX2p2j9p_"
      },
      "source": [
        "### Tuning the hyper-parameters: Grid search\n",
        "\n",
        "- Simple but inefficient\n",
        "- more advanced tuning techniques: https://research.fb.com/efficient-tuning-of-online-systems-using-bayesian-optimization/"
      ]
    },
    {
      "cell_type": "code",
      "metadata": {
        "id": "CybsVlgCw6n9"
      },
      "source": [
        "# generate parameters combinations\n",
        "params_keys = parameters.keys()\n",
        "params_values = [\n",
        "    parameters[key] if isinstance(parameters[key], list) else [parameters[key]]\n",
        "    for key in params_keys\n",
        "]\n",
        "runs_parameters = [\n",
        "    dict(zip(params_keys, combination)) for combination in itertools.product(*params_values)\n",
        "]"
      ],
      "execution_count": null,
      "outputs": []
    },
    {
      "cell_type": "markdown",
      "metadata": {
        "id": "u23-Tpn_0X7d"
      },
      "source": [
        "## Training runs"
      ]
    },
    {
      "cell_type": "code",
      "metadata": {
        "id": "Le6sa7jjg37v",
        "outputId": "7e8c3e45-e75a-45ce-8157-38b097d623cc",
        "colab": {
          "base_uri": "https://localhost:8080/",
          "height": 639
        }
      },
      "source": [
        "# training loop\n",
        "for i, run_parameters in enumerate(runs_parameters):\n",
        "    print(f\"Run {i}: {run_parameters}\")\n",
        "\n",
        "    # mlflow: stop active runs if any\n",
        "    if mlflow.active_run():\n",
        "        mlflow.end_run()\n",
        "    # mlflow:track run\n",
        "    mlflow.start_run(run_name=f\"Run {i}\")\n",
        "\n",
        "    # create model instance\n",
        "    model = model_class(**run_parameters)\n",
        "\n",
        "    # train\n",
        "    model.fit(X_train, y_train)\n",
        "\n",
        "    # get evaluations scores\n",
        "    score = rmse_score(y_test, model.predict(X_test))\n",
        "    score_cv = rmse_cv_score(model, X_train, y_train)\n",
        "    \n",
        "    # generate charts\n",
        "    model_feature_importance(model)\n",
        "    plt.close()\n",
        "    model_permutation_importance(model)\n",
        "    plt.close()\n",
        "    model_tree_visualization(model)\n",
        "\n",
        "    # get model signature\n",
        "    signature = infer_signature(model_input=X_train, model_output=model.predict(X_train))\n",
        "\n",
        "    # mlflow: log metrics\n",
        "    log_mlflow_run(model, signature)\n",
        "\n",
        "    # mlflow: end tracking\n",
        "    mlflow.end_run()\n",
        "    print(\"\")"
      ],
      "execution_count": null,
      "outputs": [
        {
          "output_type": "stream",
          "text": [
            "Run 0: {'learning_rate': 0.1, 'max_depth': 4}\n",
            "RMSE score: 51.9849\n",
            "Cross-Validation RMSE score: 56.5460 (std = 0.1544)\n",
            "\n",
            "Run 1: {'learning_rate': 0.1, 'max_depth': 5}\n",
            "RMSE score: 44.7164\n",
            "Cross-Validation RMSE score: 48.1749 (std = 0.1554)\n",
            "\n",
            "Run 2: {'learning_rate': 0.1, 'max_depth': 6}\n",
            "RMSE score: 41.8975\n",
            "Cross-Validation RMSE score: 44.9725 (std = 0.4530)\n",
            "\n",
            "Run 3: {'learning_rate': 0.05, 'max_depth': 4}\n",
            "RMSE score: 63.1546\n",
            "Cross-Validation RMSE score: 67.8220 (std = 1.7218)\n",
            "\n",
            "Run 4: {'learning_rate': 0.05, 'max_depth': 5}\n",
            "RMSE score: 53.0479\n",
            "Cross-Validation RMSE score: 55.9807 (std = 0.8559)\n",
            "\n",
            "Run 5: {'learning_rate': 0.05, 'max_depth': 6}\n",
            "RMSE score: 46.2891\n",
            "Cross-Validation RMSE score: 49.8140 (std = 0.5416)\n",
            "\n",
            "Run 6: {'learning_rate': 0.01, 'max_depth': 4}\n",
            "RMSE score: 120.1656\n",
            "Cross-Validation RMSE score: 123.9446 (std = 1.0540)\n",
            "\n",
            "Run 7: {'learning_rate': 0.01, 'max_depth': 5}\n",
            "RMSE score: 112.4921\n",
            "Cross-Validation RMSE score: 116.0879 (std = 0.9958)\n",
            "\n",
            "Run 8: {'learning_rate': 0.01, 'max_depth': 6}\n",
            "RMSE score: 106.2637\n",
            "Cross-Validation RMSE score: 109.3515 (std = 1.2056)\n",
            "\n"
          ],
          "name": "stdout"
        }
      ]
    },
    {
      "cell_type": "markdown",
      "metadata": {
        "id": "tOHX6U3ABTSE"
      },
      "source": [
        "# Best Model Results"
      ]
    },
    {
      "cell_type": "code",
      "metadata": {
        "id": "I5jKy850zKtS"
      },
      "source": [
        "best_run_df = mlflow.search_runs(order_by=['metrics.RMSE_CV ASC'], max_results=1)\n",
        "if len(best_run_df.index) == 0:\n",
        "    raise Exception(f\"Found no runs for experiment '{experiment_name}'\")\n",
        "\n",
        "best_run = mlflow.get_run(best_run_df.at[0, 'run_id'])\n",
        "best_model_uri = f\"{best_run.info.artifact_uri}/model\"\n",
        "best_model = mlflow.sklearn.load_model(best_model_uri)"
      ],
      "execution_count": null,
      "outputs": []
    },
    {
      "cell_type": "code",
      "metadata": {
        "id": "wHVM74A--4-C",
        "outputId": "b28470ff-aa99-4f19-c124-d4b9c3a88233",
        "colab": {
          "base_uri": "https://localhost:8080/",
          "height": 104
        }
      },
      "source": [
        "# print best run info\n",
        "print(\"Best run info:\")\n",
        "print(f\"Run id: {best_run.info.run_id}\")\n",
        "print(f\"Run parameters: {best_run.data.params}\")\n",
        "print(\"Run score: RMSE_CV = {:.4f}\".format(best_run.data.metrics['RMSE_CV']))\n",
        "print(f\"Run model URI: {best_model_uri}\")"
      ],
      "execution_count": null,
      "outputs": [
        {
          "output_type": "stream",
          "text": [
            "Best run info:\n",
            "Run id: 4a1efaa6e70047fb898dad053ddb2e85\n",
            "Run parameters: {'learning_rate': '0.1', 'max_depth': '6'}\n",
            "Run score: RMSE_CV = 44.9725\n",
            "Run model URI: file:///content/mlruns/1/4a1efaa6e70047fb898dad053ddb2e85/artifacts/model\n"
          ],
          "name": "stdout"
        }
      ]
    },
    {
      "cell_type": "code",
      "metadata": {
        "id": "WmjSO3vhCP7u",
        "outputId": "52e2c4ac-4aeb-44b8-d65d-7d2de8122fb8",
        "colab": {
          "base_uri": "https://localhost:8080/",
          "height": 513
        }
      },
      "source": [
        "model_feature_importance(best_model)"
      ],
      "execution_count": null,
      "outputs": [
        {
          "output_type": "display_data",
          "data": {
            "image/png": "[encoded data removed]",
            "text/plain": [
              "<Figure size 864x576 with 1 Axes>"
            ]
          },
          "metadata": {
            "tags": [],
            "needs_background": "light"
          }
        }
      ]
    },
    {
      "cell_type": "code",
      "metadata": {
        "id": "LQRJKFuJCSBZ",
        "outputId": "3a60cd14-f402-4304-ee8c-7f3647be4721",
        "colab": {
          "base_uri": "https://localhost:8080/",
          "height": 496
        }
      },
      "source": [
        "model_permutation_importance(best_model)"
      ],
      "execution_count": null,
      "outputs": [
        {
          "output_type": "display_data",
          "data": {
            "image/png": "[encoded data removed]",
            "text/plain": [
              "<Figure size 864x576 with 1 Axes>"
            ]
          },
          "metadata": {
            "tags": [],
            "needs_background": "light"
          }
        }
      ]
    },
    {
      "cell_type": "code",
      "metadata": {
        "id": "fR2F0ex7CS4I",
        "outputId": "ff25041b-c91e-4372-ab49-514e350bc709",
        "colab": {
          "base_uri": "https://localhost:8080/",
          "height": 815
        }
      },
      "source": [
        "model_tree_visualization(best_model)"
      ],
      "execution_count": null,
      "outputs": [
        {
          "output_type": "execute_result",
          "data": {
            "text/plain": [
              "<graphviz.files.Source at 0x7ffa18108e48>"
            ],
            "image/svg+xml": "<?xml version=\"1.0\" encoding=\"UTF-8\" standalone=\"no\"?>\n<!DOCTYPE svg PUBLIC \"-//W3C//DTD SVG 1.1//EN\"\n \"http://www.w3.org/Graphics/SVG/1.1/DTD/svg11.dtd\">\n<!-- Generated by graphviz version 2.40.1 (20161225.0304)\n -->\n<!-- Title: Tree Pages: 1 -->\n<svg width=\"8822pt\" height=\"580pt\"\n viewBox=\"0.00 0.00 8822.00 580.00\" xmlns=\"http://www.w3.org/2000/svg\" xmlns:xlink=\"http://www.w3.org/1999/xlink\">\n<g id=\"graph0\" class=\"graph\" transform=\"scale(1 1) rotate(0) translate(4 576)\">\n<title>Tree</title>\n<polygon fill=\"#ffffff\" stroke=\"transparent\" points=\"-4,4 -4,-576 8818,-576 8818,4 -4,4\"/>\n<!-- 0 -->\n<g id=\"node1\" class=\"node\">\n<title>0</title>\n<path fill=\"#f7d7c0\" stroke=\"#000000\" d=\"M4848.5,-572C4848.5,-572 4729.5,-572 4729.5,-572 4723.5,-572 4717.5,-566 4717.5,-560 4717.5,-560 4717.5,-531 4717.5,-531 4717.5,-525 4723.5,-519 4729.5,-519 4729.5,-519 4848.5,-519 4848.5,-519 4854.5,-519 4860.5,-525 4860.5,-531 4860.5,-531 4860.5,-560 4860.5,-560 4860.5,-566 4854.5,-572 4848.5,-572\"/>\n<text text-anchor=\"middle\" x=\"4789\" y=\"-556.8\" font-family=\"Helvetica,sans-Serif\" font-size=\"14.00\" fill=\"#000000\">hour_of_day &lt;= 6.5</text>\n<text text-anchor=\"middle\" x=\"4789\" y=\"-541.8\" font-family=\"Helvetica,sans-Serif\" font-size=\"14.00\" fill=\"#000000\">samples = 100.0%</text>\n<text text-anchor=\"middle\" x=\"4789\" y=\"-526.8\" font-family=\"Helvetica,sans-Serif\" font-size=\"14.00\" fill=\"#000000\">value = 0.0</text>\n</g>\n<!-- 1 -->\n<g id=\"node2\" class=\"node\">\n<title>1</title>\n<path fill=\"#fef9f5\" stroke=\"#000000\" d=\"M3362.5,-483C3362.5,-483 3243.5,-483 3243.5,-483 3237.5,-483 3231.5,-477 3231.5,-471 3231.5,-471 3231.5,-442 3231.5,-442 3231.5,-436 3237.5,-430 3243.5,-430 3243.5,-430 3362.5,-430 3362.5,-430 3368.5,-430 3374.5,-436 3374.5,-442 3374.5,-442 3374.5,-471 3374.5,-471 3374.5,-477 3368.5,-483 3362.5,-483\"/>\n<text text-anchor=\"middle\" x=\"3303\" y=\"-467.8\" font-family=\"Helvetica,sans-Serif\" font-size=\"14.00\" fill=\"#000000\">hour_of_day &lt;= 5.5</text>\n<text text-anchor=\"middle\" x=\"3303\" y=\"-452.8\" font-family=\"Helvetica,sans-Serif\" font-size=\"14.00\" fill=\"#000000\">samples = 28.7%</text>\n<text text-anchor=\"middle\" x=\"3303\" y=\"-437.8\" font-family=\"Helvetica,sans-Serif\" font-size=\"14.00\" fill=\"#000000\">value = &#45;159.0</text>\n</g>\n<!-- 0&#45;&gt;1 -->\n<g id=\"edge1\" class=\"edge\">\n<title>0&#45;&gt;1</title>\n<path fill=\"none\" stroke=\"#000000\" d=\"M4717.3271,-541.2073C4469.3171,-526.3534 3648.4138,-477.1876 3385.075,-461.4157\"/>\n<polygon fill=\"#000000\" stroke=\"#000000\" points=\"3385.0132,-457.9058 3374.8218,-460.8016 3384.5946,-464.8933 3385.0132,-457.9058\"/>\n<text text-anchor=\"middle\" x=\"3391.411\" y=\"-475.8045\" font-family=\"Helvetica,sans-Serif\" font-size=\"14.00\" fill=\"#000000\">True</text>\n</g>\n<!-- 64 -->\n<g id=\"node65\" class=\"node\">\n<title>64</title>\n<path fill=\"#f4c9aa\" stroke=\"#000000\" d=\"M5453.5,-483C5453.5,-483 5338.5,-483 5338.5,-483 5332.5,-483 5326.5,-477 5326.5,-471 5326.5,-471 5326.5,-442 5326.5,-442 5326.5,-436 5332.5,-430 5338.5,-430 5338.5,-430 5453.5,-430 5453.5,-430 5459.5,-430 5465.5,-436 5465.5,-442 5465.5,-442 5465.5,-471 5465.5,-471 5465.5,-477 5459.5,-483 5453.5,-483\"/>\n<text text-anchor=\"middle\" x=\"5396\" y=\"-467.8\" font-family=\"Helvetica,sans-Serif\" font-size=\"14.00\" fill=\"#000000\">temperature &lt;= 0.5</text>\n<text text-anchor=\"middle\" x=\"5396\" y=\"-452.8\" font-family=\"Helvetica,sans-Serif\" font-size=\"14.00\" fill=\"#000000\">samples = 71.3%</text>\n<text text-anchor=\"middle\" x=\"5396\" y=\"-437.8\" font-family=\"Helvetica,sans-Serif\" font-size=\"14.00\" fill=\"#000000\">value = 64.1</text>\n</g>\n<!-- 0&#45;&gt;64 -->\n<g id=\"edge64\" class=\"edge\">\n<title>0&#45;&gt;64</title>\n<path fill=\"none\" stroke=\"#000000\" d=\"M4860.7148,-534.985C4974.8739,-518.2467 5197.1531,-485.6555 5316.1978,-468.2008\"/>\n<polygon fill=\"#000000\" stroke=\"#000000\" points=\"5316.952,-471.6277 5326.3385,-466.714 5315.9365,-464.7018 5316.952,-471.6277\"/>\n<text text-anchor=\"middle\" x=\"5311.4123\" y=\"-483.0692\" font-family=\"Helvetica,sans-Serif\" font-size=\"14.00\" fill=\"#000000\">False</text>\n</g>\n<!-- 2 -->\n<g id=\"node3\" class=\"node\">\n<title>2</title>\n<path fill=\"#fefaf7\" stroke=\"#000000\" d=\"M1748.5,-394C1748.5,-394 1629.5,-394 1629.5,-394 1623.5,-394 1617.5,-388 1617.5,-382 1617.5,-382 1617.5,-353 1617.5,-353 1617.5,-347 1623.5,-341 1629.5,-341 1629.5,-341 1748.5,-341 1748.5,-341 1754.5,-341 1760.5,-347 1760.5,-353 1760.5,-353 1760.5,-382 1760.5,-382 1760.5,-388 1754.5,-394 1748.5,-394\"/>\n<text text-anchor=\"middle\" x=\"1689\" y=\"-378.8\" font-family=\"Helvetica,sans-Serif\" font-size=\"14.00\" fill=\"#000000\">hour_of_day &lt;= 1.5</text>\n<text text-anchor=\"middle\" x=\"1689\" y=\"-363.8\" font-family=\"Helvetica,sans-Serif\" font-size=\"14.00\" fill=\"#000000\">samples = 24.6%</text>\n<text text-anchor=\"middle\" x=\"1689\" y=\"-348.8\" font-family=\"Helvetica,sans-Serif\" font-size=\"14.00\" fill=\"#000000\">value = &#45;166.3</text>\n</g>\n<!-- 1&#45;&gt;2 -->\n<g id=\"edge2\" class=\"edge\">\n<title>1&#45;&gt;2</title>\n<path fill=\"none\" stroke=\"#000000\" d=\"M3231.3036,-452.5465C2967.4462,-437.9967 2051.2152,-387.4735 1771.0357,-372.0237\"/>\n<polygon fill=\"#000000\" stroke=\"#000000\" points=\"1771.1198,-368.5231 1760.9423,-371.4671 1770.7343,-375.5124 1771.1198,-368.5231\"/>\n</g>\n<!-- 33 -->\n<g id=\"node34\" class=\"node\">\n<title>33</title>\n<path fill=\"#fcefe6\" stroke=\"#000000\" d=\"M3368,-394C3368,-394 3238,-394 3238,-394 3232,-394 3226,-388 3226,-382 3226,-382 3226,-353 3226,-353 3226,-347 3232,-341 3238,-341 3238,-341 3368,-341 3368,-341 3374,-341 3380,-347 3380,-353 3380,-353 3380,-382 3380,-382 3380,-388 3374,-394 3368,-394\"/>\n<text text-anchor=\"middle\" x=\"3303\" y=\"-378.8\" font-family=\"Helvetica,sans-Serif\" font-size=\"14.00\" fill=\"#000000\">is_workingday &lt;= 0.5</text>\n<text text-anchor=\"middle\" x=\"3303\" y=\"-363.8\" font-family=\"Helvetica,sans-Serif\" font-size=\"14.00\" fill=\"#000000\">samples = 4.1%</text>\n<text text-anchor=\"middle\" x=\"3303\" y=\"-348.8\" font-family=\"Helvetica,sans-Serif\" font-size=\"14.00\" fill=\"#000000\">value = &#45;115.5</text>\n</g>\n<!-- 1&#45;&gt;33 -->\n<g id=\"edge33\" class=\"edge\">\n<title>1&#45;&gt;33</title>\n<path fill=\"none\" stroke=\"#000000\" d=\"M3303,-429.7971C3303,-421.7887 3303,-412.8597 3303,-404.3198\"/>\n<polygon fill=\"#000000\" stroke=\"#000000\" points=\"3306.5001,-404.1841 3303,-394.1841 3299.5001,-404.1841 3306.5001,-404.1841\"/>\n</g>\n<!-- 3 -->\n<g id=\"node4\" class=\"node\">\n<title>3</title>\n<path fill=\"#fdf6f1\" stroke=\"#000000\" d=\"M884,-305C884,-305 754,-305 754,-305 748,-305 742,-299 742,-293 742,-293 742,-264 742,-264 742,-258 748,-252 754,-252 754,-252 884,-252 884,-252 890,-252 896,-258 896,-264 896,-264 896,-293 896,-293 896,-299 890,-305 884,-305\"/>\n<text text-anchor=\"middle\" x=\"819\" y=\"-289.8\" font-family=\"Helvetica,sans-Serif\" font-size=\"14.00\" fill=\"#000000\">is_workingday &lt;= 0.5</text>\n<text text-anchor=\"middle\" x=\"819\" y=\"-274.8\" font-family=\"Helvetica,sans-Serif\" font-size=\"14.00\" fill=\"#000000\">samples = 8.3%</text>\n<text text-anchor=\"middle\" x=\"819\" y=\"-259.8\" font-family=\"Helvetica,sans-Serif\" font-size=\"14.00\" fill=\"#000000\">value = &#45;147.7</text>\n</g>\n<!-- 2&#45;&gt;3 -->\n<g id=\"edge3\" class=\"edge\">\n<title>2&#45;&gt;3</title>\n<path fill=\"none\" stroke=\"#000000\" d=\"M1617.4346,-360.1789C1458.8198,-343.9528 1078.1826,-305.0141 906.0945,-287.4097\"/>\n<polygon fill=\"#000000\" stroke=\"#000000\" points=\"906.3663,-283.9193 896.062,-286.3834 905.6539,-290.8829 906.3663,-283.9193\"/>\n</g>\n<!-- 18 -->\n<g id=\"node19\" class=\"node\">\n<title>18</title>\n<path fill=\"#fefcfa\" stroke=\"#000000\" d=\"M1754,-305C1754,-305 1624,-305 1624,-305 1618,-305 1612,-299 1612,-293 1612,-293 1612,-264 1612,-264 1612,-258 1618,-252 1624,-252 1624,-252 1754,-252 1754,-252 1760,-252 1766,-258 1766,-264 1766,-264 1766,-293 1766,-293 1766,-299 1760,-305 1754,-305\"/>\n<text text-anchor=\"middle\" x=\"1689\" y=\"-289.8\" font-family=\"Helvetica,sans-Serif\" font-size=\"14.00\" fill=\"#000000\">is_workingday &lt;= 0.5</text>\n<text text-anchor=\"middle\" x=\"1689\" y=\"-274.8\" font-family=\"Helvetica,sans-Serif\" font-size=\"14.00\" fill=\"#000000\">samples = 16.3%</text>\n<text text-anchor=\"middle\" x=\"1689\" y=\"-259.8\" font-family=\"Helvetica,sans-Serif\" font-size=\"14.00\" fill=\"#000000\">value = &#45;175.8</text>\n</g>\n<!-- 2&#45;&gt;18 -->\n<g id=\"edge18\" class=\"edge\">\n<title>2&#45;&gt;18</title>\n<path fill=\"none\" stroke=\"#000000\" d=\"M1689,-340.7971C1689,-332.7887 1689,-323.8597 1689,-315.3198\"/>\n<polygon fill=\"#000000\" stroke=\"#000000\" points=\"1692.5001,-315.1841 1689,-305.1841 1685.5001,-315.1841 1692.5001,-315.1841\"/>\n</g>\n<!-- 4 -->\n<g id=\"node5\" class=\"node\">\n<title>4</title>\n<path fill=\"#fceee5\" stroke=\"#000000\" d=\"M519,-216C519,-216 335,-216 335,-216 329,-216 323,-210 323,-204 323,-204 323,-175 323,-175 323,-169 329,-163 335,-163 335,-163 519,-163 519,-163 525,-163 531,-169 531,-175 531,-175 531,-204 531,-204 531,-210 525,-216 519,-216\"/>\n<text text-anchor=\"middle\" x=\"427\" y=\"-200.8\" font-family=\"Helvetica,sans-Serif\" font-size=\"14.00\" fill=\"#000000\">feels_like_temperature &lt;= 0.4</text>\n<text text-anchor=\"middle\" x=\"427\" y=\"-185.8\" font-family=\"Helvetica,sans-Serif\" font-size=\"14.00\" fill=\"#000000\">samples = 2.7%</text>\n<text text-anchor=\"middle\" x=\"427\" y=\"-170.8\" font-family=\"Helvetica,sans-Serif\" font-size=\"14.00\" fill=\"#000000\">value = &#45;111.6</text>\n</g>\n<!-- 3&#45;&gt;4 -->\n<g id=\"edge4\" class=\"edge\">\n<title>3&#45;&gt;4</title>\n<path fill=\"none\" stroke=\"#000000\" d=\"M741.5534,-260.9165C684.2509,-247.9064 605.2929,-229.9798 540.8211,-215.342\"/>\n<polygon fill=\"#000000\" stroke=\"#000000\" points=\"541.5384,-211.9159 531.0116,-213.1149 539.9885,-218.7422 541.5384,-211.9159\"/>\n</g>\n<!-- 11 -->\n<g id=\"node12\" class=\"node\">\n<title>11</title>\n<path fill=\"#fefaf7\" stroke=\"#000000\" d=\"M878.5,-216C878.5,-216 759.5,-216 759.5,-216 753.5,-216 747.5,-210 747.5,-204 747.5,-204 747.5,-175 747.5,-175 747.5,-169 753.5,-163 759.5,-163 759.5,-163 878.5,-163 878.5,-163 884.5,-163 890.5,-169 890.5,-175 890.5,-175 890.5,-204 890.5,-204 890.5,-210 884.5,-216 878.5,-216\"/>\n<text text-anchor=\"middle\" x=\"819\" y=\"-200.8\" font-family=\"Helvetica,sans-Serif\" font-size=\"14.00\" fill=\"#000000\">hour_of_day &lt;= 0.5</text>\n<text text-anchor=\"middle\" x=\"819\" y=\"-185.8\" font-family=\"Helvetica,sans-Serif\" font-size=\"14.00\" fill=\"#000000\">samples = 5.6%</text>\n<text text-anchor=\"middle\" x=\"819\" y=\"-170.8\" font-family=\"Helvetica,sans-Serif\" font-size=\"14.00\" fill=\"#000000\">value = &#45;165.2</text>\n</g>\n<!-- 3&#45;&gt;11 -->\n<g id=\"edge11\" class=\"edge\">\n<title>3&#45;&gt;11</title>\n<path fill=\"none\" stroke=\"#000000\" d=\"M819,-251.7971C819,-243.7887 819,-234.8597 819,-226.3198\"/>\n<polygon fill=\"#000000\" stroke=\"#000000\" points=\"822.5001,-226.1841 819,-216.1841 815.5001,-226.1841 822.5001,-226.1841\"/>\n</g>\n<!-- 5 -->\n<g id=\"node6\" class=\"node\">\n<title>5</title>\n<path fill=\"#fdf4ed\" stroke=\"#000000\" d=\"M290,-127C290,-127 106,-127 106,-127 100,-127 94,-121 94,-115 94,-115 94,-86 94,-86 94,-80 100,-74 106,-74 106,-74 290,-74 290,-74 296,-74 302,-80 302,-86 302,-86 302,-115 302,-115 302,-121 296,-127 290,-127\"/>\n<text text-anchor=\"middle\" x=\"198\" y=\"-111.8\" font-family=\"Helvetica,sans-Serif\" font-size=\"14.00\" fill=\"#000000\">feels_like_temperature &lt;= 0.3</text>\n<text text-anchor=\"middle\" x=\"198\" y=\"-96.8\" font-family=\"Helvetica,sans-Serif\" font-size=\"14.00\" fill=\"#000000\">samples = 1.4%</text>\n<text text-anchor=\"middle\" x=\"198\" y=\"-81.8\" font-family=\"Helvetica,sans-Serif\" font-size=\"14.00\" fill=\"#000000\">value = &#45;136.2</text>\n</g>\n<!-- 4&#45;&gt;5 -->\n<g id=\"edge5\" class=\"edge\">\n<title>4&#45;&gt;5</title>\n<path fill=\"none\" stroke=\"#000000\" d=\"M358.6026,-162.9176C332.5481,-152.7916 302.6701,-141.1797 275.8057,-130.7389\"/>\n<polygon fill=\"#000000\" stroke=\"#000000\" points=\"277.0291,-127.4594 266.4404,-127.0991 274.4933,-133.9839 277.0291,-127.4594\"/>\n</g>\n<!-- 8 -->\n<g id=\"node9\" class=\"node\">\n<title>8</title>\n<path fill=\"#fae9dc\" stroke=\"#000000\" d=\"M475,-127C475,-127 379,-127 379,-127 373,-127 367,-121 367,-115 367,-115 367,-86 367,-86 367,-80 373,-74 379,-74 379,-74 475,-74 475,-74 481,-74 487,-80 487,-86 487,-86 487,-115 487,-115 487,-121 481,-127 475,-127\"/>\n<text text-anchor=\"middle\" x=\"427\" y=\"-111.8\" font-family=\"Helvetica,sans-Serif\" font-size=\"14.00\" fill=\"#000000\">year &lt;= 0.5</text>\n<text text-anchor=\"middle\" x=\"427\" y=\"-96.8\" font-family=\"Helvetica,sans-Serif\" font-size=\"14.00\" fill=\"#000000\">samples = 1.3%</text>\n<text text-anchor=\"middle\" x=\"427\" y=\"-81.8\" font-family=\"Helvetica,sans-Serif\" font-size=\"14.00\" fill=\"#000000\">value = &#45;84.5</text>\n</g>\n<!-- 4&#45;&gt;8 -->\n<g id=\"edge8\" class=\"edge\">\n<title>4&#45;&gt;8</title>\n<path fill=\"none\" stroke=\"#000000\" d=\"M427,-162.7971C427,-154.7887 427,-145.8597 427,-137.3198\"/>\n<polygon fill=\"#000000\" stroke=\"#000000\" points=\"430.5001,-137.1841 427,-127.1841 423.5001,-137.1841 430.5001,-137.1841\"/>\n</g>\n<!-- 6 -->\n<g id=\"node7\" class=\"node\">\n<title>6</title>\n<path fill=\"#fef8f4\" stroke=\"#000000\" d=\"M108,-38C108,-38 12,-38 12,-38 6,-38 0,-32 0,-26 0,-26 0,-12 0,-12 0,-6 6,0 12,0 12,0 108,0 108,0 114,0 120,-6 120,-12 120,-12 120,-26 120,-26 120,-32 114,-38 108,-38\"/>\n<text text-anchor=\"middle\" x=\"60\" y=\"-22.8\" font-family=\"Helvetica,sans-Serif\" font-size=\"14.00\" fill=\"#000000\">samples = 0.6%</text>\n<text text-anchor=\"middle\" x=\"60\" y=\"-7.8\" font-family=\"Helvetica,sans-Serif\" font-size=\"14.00\" fill=\"#000000\">value = &#45;156.8</text>\n</g>\n<!-- 5&#45;&gt;6 -->\n<g id=\"edge6\" class=\"edge\">\n<title>5&#45;&gt;6</title>\n<path fill=\"none\" stroke=\"#000000\" d=\"M152.8136,-73.8139C136.2325,-64.0214 117.5603,-52.9939 101.3342,-43.4112\"/>\n<polygon fill=\"#000000\" stroke=\"#000000\" points=\"102.9906,-40.3246 92.6003,-38.2531 99.431,-46.352 102.9906,-40.3246\"/>\n</g>\n<!-- 7 -->\n<g id=\"node8\" class=\"node\">\n<title>7</title>\n<path fill=\"#fcf1e9\" stroke=\"#000000\" d=\"M246,-38C246,-38 150,-38 150,-38 144,-38 138,-32 138,-26 138,-26 138,-12 138,-12 138,-6 144,0 150,0 150,0 246,0 246,0 252,0 258,-6 258,-12 258,-12 258,-26 258,-26 258,-32 252,-38 246,-38\"/>\n<text text-anchor=\"middle\" x=\"198\" y=\"-22.8\" font-family=\"Helvetica,sans-Serif\" font-size=\"14.00\" fill=\"#000000\">samples = 0.9%</text>\n<text text-anchor=\"middle\" x=\"198\" y=\"-7.8\" font-family=\"Helvetica,sans-Serif\" font-size=\"14.00\" fill=\"#000000\">value = &#45;122.3</text>\n</g>\n<!-- 5&#45;&gt;7 -->\n<g id=\"edge7\" class=\"edge\">\n<title>5&#45;&gt;7</title>\n<path fill=\"none\" stroke=\"#000000\" d=\"M198,-73.8139C198,-65.6535 198,-56.6354 198,-48.3105\"/>\n<polygon fill=\"#000000\" stroke=\"#000000\" points=\"201.5001,-48.253 198,-38.2531 194.5001,-48.2531 201.5001,-48.253\"/>\n</g>\n<!-- 9 -->\n<g id=\"node10\" class=\"node\">\n<title>9</title>\n<path fill=\"#fbece1\" stroke=\"#000000\" d=\"M384,-38C384,-38 288,-38 288,-38 282,-38 276,-32 276,-26 276,-26 276,-12 276,-12 276,-6 282,0 288,0 288,0 384,0 384,0 390,0 396,-6 396,-12 396,-12 396,-26 396,-26 396,-32 390,-38 384,-38\"/>\n<text text-anchor=\"middle\" x=\"336\" y=\"-22.8\" font-family=\"Helvetica,sans-Serif\" font-size=\"14.00\" fill=\"#000000\">samples = 0.6%</text>\n<text text-anchor=\"middle\" x=\"336\" y=\"-7.8\" font-family=\"Helvetica,sans-Serif\" font-size=\"14.00\" fill=\"#000000\">value = &#45;100.5</text>\n</g>\n<!-- 8&#45;&gt;9 -->\n<g id=\"edge9\" class=\"edge\">\n<title>8&#45;&gt;9</title>\n<path fill=\"none\" stroke=\"#000000\" d=\"M397.2032,-73.8139C386.8767,-64.5654 375.3202,-54.2154 365.0544,-45.0212\"/>\n<polygon fill=\"#000000\" stroke=\"#000000\" points=\"367.2816,-42.3174 357.4973,-38.2531 362.6115,-47.5319 367.2816,-42.3174\"/>\n</g>\n<!-- 10 -->\n<g id=\"node11\" class=\"node\">\n<title>10</title>\n<path fill=\"#fae5d7\" stroke=\"#000000\" d=\"M522,-38C522,-38 426,-38 426,-38 420,-38 414,-32 414,-26 414,-26 414,-12 414,-12 414,-6 420,0 426,0 426,0 522,0 522,0 528,0 534,-6 534,-12 534,-12 534,-26 534,-26 534,-32 528,-38 522,-38\"/>\n<text text-anchor=\"middle\" x=\"474\" y=\"-22.8\" font-family=\"Helvetica,sans-Serif\" font-size=\"14.00\" fill=\"#000000\">samples = 0.7%</text>\n<text text-anchor=\"middle\" x=\"474\" y=\"-7.8\" font-family=\"Helvetica,sans-Serif\" font-size=\"14.00\" fill=\"#000000\">value = &#45;69.5</text>\n</g>\n<!-- 8&#45;&gt;10 -->\n<g id=\"edge10\" class=\"edge\">\n<title>8&#45;&gt;10</title>\n<path fill=\"none\" stroke=\"#000000\" d=\"M442.3896,-73.8139C447.357,-65.2001 452.8755,-55.6308 457.8933,-46.9297\"/>\n<polygon fill=\"#000000\" stroke=\"#000000\" points=\"460.9332,-48.6643 462.897,-38.2531 454.8693,-45.1673 460.9332,-48.6643\"/>\n</g>\n<!-- 12 -->\n<g id=\"node13\" class=\"node\">\n<title>12</title>\n<path fill=\"#fef8f4\" stroke=\"#000000\" d=\"M793,-127C793,-127 697,-127 697,-127 691,-127 685,-121 685,-115 685,-115 685,-86 685,-86 685,-80 691,-74 697,-74 697,-74 793,-74 793,-74 799,-74 805,-80 805,-86 805,-86 805,-115 805,-115 805,-121 799,-127 793,-127\"/>\n<text text-anchor=\"middle\" x=\"745\" y=\"-111.8\" font-family=\"Helvetica,sans-Serif\" font-size=\"14.00\" fill=\"#000000\">month &lt;= 4.5</text>\n<text text-anchor=\"middle\" x=\"745\" y=\"-96.8\" font-family=\"Helvetica,sans-Serif\" font-size=\"14.00\" fill=\"#000000\">samples = 2.7%</text>\n<text text-anchor=\"middle\" x=\"745\" y=\"-81.8\" font-family=\"Helvetica,sans-Serif\" font-size=\"14.00\" fill=\"#000000\">value = &#45;155.4</text>\n</g>\n<!-- 11&#45;&gt;12 -->\n<g id=\"edge12\" class=\"edge\">\n<title>11&#45;&gt;12</title>\n<path fill=\"none\" stroke=\"#000000\" d=\"M796.7976,-162.7971C789.5536,-154.0847 781.4036,-144.2826 773.7498,-135.0775\"/>\n<polygon fill=\"#000000\" stroke=\"#000000\" points=\"776.2714,-132.6357 767.1868,-127.1841 770.8889,-137.1111 776.2714,-132.6357\"/>\n</g>\n<!-- 15 -->\n<g id=\"node16\" class=\"node\">\n<title>15</title>\n<path fill=\"#fefcfa\" stroke=\"#000000\" d=\"M950.5,-127C950.5,-127 835.5,-127 835.5,-127 829.5,-127 823.5,-121 823.5,-115 823.5,-115 823.5,-86 823.5,-86 823.5,-80 829.5,-74 835.5,-74 835.5,-74 950.5,-74 950.5,-74 956.5,-74 962.5,-80 962.5,-86 962.5,-86 962.5,-115 962.5,-115 962.5,-121 956.5,-127 950.5,-127\"/>\n<text text-anchor=\"middle\" x=\"893\" y=\"-111.8\" font-family=\"Helvetica,sans-Serif\" font-size=\"14.00\" fill=\"#000000\">temperature &lt;= 0.4</text>\n<text text-anchor=\"middle\" x=\"893\" y=\"-96.8\" font-family=\"Helvetica,sans-Serif\" font-size=\"14.00\" fill=\"#000000\">samples = 2.9%</text>\n<text text-anchor=\"middle\" x=\"893\" y=\"-81.8\" font-family=\"Helvetica,sans-Serif\" font-size=\"14.00\" fill=\"#000000\">value = &#45;174.4</text>\n</g>\n<!-- 11&#45;&gt;15 -->\n<g id=\"edge15\" class=\"edge\">\n<title>11&#45;&gt;15</title>\n<path fill=\"none\" stroke=\"#000000\" d=\"M841.2024,-162.7971C848.4464,-154.0847 856.5964,-144.2826 864.2502,-135.0775\"/>\n<polygon fill=\"#000000\" stroke=\"#000000\" points=\"867.1111,-137.1111 870.8132,-127.1841 861.7286,-132.6357 867.1111,-137.1111\"/>\n</g>\n<!-- 13 -->\n<g id=\"node14\" class=\"node\">\n<title>13</title>\n<path fill=\"#fefbf9\" stroke=\"#000000\" d=\"M660,-38C660,-38 564,-38 564,-38 558,-38 552,-32 552,-26 552,-26 552,-12 552,-12 552,-6 558,0 564,0 564,0 660,0 660,0 666,0 672,-6 672,-12 672,-12 672,-26 672,-26 672,-32 666,-38 660,-38\"/>\n<text text-anchor=\"middle\" x=\"612\" y=\"-22.8\" font-family=\"Helvetica,sans-Serif\" font-size=\"14.00\" fill=\"#000000\">samples = 0.9%</text>\n<text text-anchor=\"middle\" x=\"612\" y=\"-7.8\" font-family=\"Helvetica,sans-Serif\" font-size=\"14.00\" fill=\"#000000\">value = &#45;169.9</text>\n</g>\n<!-- 12&#45;&gt;13 -->\n<g id=\"edge13\" class=\"edge\">\n<title>12&#45;&gt;13</title>\n<path fill=\"none\" stroke=\"#000000\" d=\"M701.4508,-73.8139C685.6185,-64.1121 667.8078,-53.198 652.2716,-43.6777\"/>\n<polygon fill=\"#000000\" stroke=\"#000000\" points=\"653.7743,-40.4937 643.4191,-38.2531 650.1169,-46.4623 653.7743,-40.4937\"/>\n</g>\n<!-- 14 -->\n<g id=\"node15\" class=\"node\">\n<title>14</title>\n<path fill=\"#fdf6f1\" stroke=\"#000000\" d=\"M798,-38C798,-38 702,-38 702,-38 696,-38 690,-32 690,-26 690,-26 690,-12 690,-12 690,-6 696,0 702,0 702,0 798,0 798,0 804,0 810,-6 810,-12 810,-12 810,-26 810,-26 810,-32 804,-38 798,-38\"/>\n<text text-anchor=\"middle\" x=\"750\" y=\"-22.8\" font-family=\"Helvetica,sans-Serif\" font-size=\"14.00\" fill=\"#000000\">samples = 1.8%</text>\n<text text-anchor=\"middle\" x=\"750\" y=\"-7.8\" font-family=\"Helvetica,sans-Serif\" font-size=\"14.00\" fill=\"#000000\">value = &#45;148.5</text>\n</g>\n<!-- 12&#45;&gt;14 -->\n<g id=\"edge14\" class=\"edge\">\n<title>12&#45;&gt;14</title>\n<path fill=\"none\" stroke=\"#000000\" d=\"M746.6372,-73.8139C747.1378,-65.6535 747.6911,-56.6354 748.2018,-48.3105\"/>\n<polygon fill=\"#000000\" stroke=\"#000000\" points=\"751.6998,-48.4487 748.8188,-38.2531 744.713,-48.0199 751.6998,-48.4487\"/>\n</g>\n<!-- 16 -->\n<g id=\"node17\" class=\"node\">\n<title>16</title>\n<path fill=\"#fffdfd\" stroke=\"#000000\" d=\"M936,-38C936,-38 840,-38 840,-38 834,-38 828,-32 828,-26 828,-26 828,-12 828,-12 828,-6 834,0 840,0 840,0 936,0 936,0 942,0 948,-6 948,-12 948,-12 948,-26 948,-26 948,-32 942,-38 936,-38\"/>\n<text text-anchor=\"middle\" x=\"888\" y=\"-22.8\" font-family=\"Helvetica,sans-Serif\" font-size=\"14.00\" fill=\"#000000\">samples = 0.9%</text>\n<text text-anchor=\"middle\" x=\"888\" y=\"-7.8\" font-family=\"Helvetica,sans-Serif\" font-size=\"14.00\" fill=\"#000000\">value = &#45;181.9</text>\n</g>\n<!-- 15&#45;&gt;16 -->\n<g id=\"edge16\" class=\"edge\">\n<title>15&#45;&gt;16</title>\n<path fill=\"none\" stroke=\"#000000\" d=\"M891.3628,-73.8139C890.8622,-65.6535 890.3089,-56.6354 889.7982,-48.3105\"/>\n<polygon fill=\"#000000\" stroke=\"#000000\" points=\"893.287,-48.0199 889.1812,-38.2531 886.3002,-48.4487 893.287,-48.0199\"/>\n</g>\n<!-- 17 -->\n<g id=\"node18\" class=\"node\">\n<title>17</title>\n<path fill=\"#fefbf9\" stroke=\"#000000\" d=\"M1074,-38C1074,-38 978,-38 978,-38 972,-38 966,-32 966,-26 966,-26 966,-12 966,-12 966,-6 972,0 978,0 978,0 1074,0 1074,0 1080,0 1086,-6 1086,-12 1086,-12 1086,-26 1086,-26 1086,-32 1080,-38 1074,-38\"/>\n<text text-anchor=\"middle\" x=\"1026\" y=\"-22.8\" font-family=\"Helvetica,sans-Serif\" font-size=\"14.00\" fill=\"#000000\">samples = 1.9%</text>\n<text text-anchor=\"middle\" x=\"1026\" y=\"-7.8\" font-family=\"Helvetica,sans-Serif\" font-size=\"14.00\" fill=\"#000000\">value = &#45;170.8</text>\n</g>\n<!-- 15&#45;&gt;17 -->\n<g id=\"edge17\" class=\"edge\">\n<title>15&#45;&gt;17</title>\n<path fill=\"none\" stroke=\"#000000\" d=\"M936.5492,-73.8139C952.3815,-64.1121 970.1922,-53.198 985.7284,-43.6777\"/>\n<polygon fill=\"#000000\" stroke=\"#000000\" points=\"987.8831,-46.4623 994.5809,-38.2531 984.2257,-40.4937 987.8831,-46.4623\"/>\n</g>\n<!-- 19 -->\n<g id=\"node20\" class=\"node\">\n<title>19</title>\n<path fill=\"#fefaf8\" stroke=\"#000000\" d=\"M1596.5,-216C1596.5,-216 1477.5,-216 1477.5,-216 1471.5,-216 1465.5,-210 1465.5,-204 1465.5,-204 1465.5,-175 1465.5,-175 1465.5,-169 1471.5,-163 1477.5,-163 1477.5,-163 1596.5,-163 1596.5,-163 1602.5,-163 1608.5,-169 1608.5,-175 1608.5,-175 1608.5,-204 1608.5,-204 1608.5,-210 1602.5,-216 1596.5,-216\"/>\n<text text-anchor=\"middle\" x=\"1537\" y=\"-200.8\" font-family=\"Helvetica,sans-Serif\" font-size=\"14.00\" fill=\"#000000\">hour_of_day &lt;= 2.5</text>\n<text text-anchor=\"middle\" x=\"1537\" y=\"-185.8\" font-family=\"Helvetica,sans-Serif\" font-size=\"14.00\" fill=\"#000000\">samples = 5.3%</text>\n<text text-anchor=\"middle\" x=\"1537\" y=\"-170.8\" font-family=\"Helvetica,sans-Serif\" font-size=\"14.00\" fill=\"#000000\">value = &#45;167.2</text>\n</g>\n<!-- 18&#45;&gt;19 -->\n<g id=\"edge19\" class=\"edge\">\n<title>18&#45;&gt;19</title>\n<path fill=\"none\" stroke=\"#000000\" d=\"M1643.395,-251.7971C1626.938,-242.1611 1608.2045,-231.1921 1591.0914,-221.1719\"/>\n<polygon fill=\"#000000\" stroke=\"#000000\" points=\"1592.7088,-218.0632 1582.3107,-216.0306 1589.1718,-224.1038 1592.7088,-218.0632\"/>\n</g>\n<!-- 26 -->\n<g id=\"node27\" class=\"node\">\n<title>26</title>\n<path fill=\"#fffdfc\" stroke=\"#000000\" d=\"M1838.5,-216C1838.5,-216 1719.5,-216 1719.5,-216 1713.5,-216 1707.5,-210 1707.5,-204 1707.5,-204 1707.5,-175 1707.5,-175 1707.5,-169 1713.5,-163 1719.5,-163 1719.5,-163 1838.5,-163 1838.5,-163 1844.5,-163 1850.5,-169 1850.5,-175 1850.5,-175 1850.5,-204 1850.5,-204 1850.5,-210 1844.5,-216 1838.5,-216\"/>\n<text text-anchor=\"middle\" x=\"1779\" y=\"-200.8\" font-family=\"Helvetica,sans-Serif\" font-size=\"14.00\" fill=\"#000000\">hour_of_day &lt;= 4.5</text>\n<text text-anchor=\"middle\" x=\"1779\" y=\"-185.8\" font-family=\"Helvetica,sans-Serif\" font-size=\"14.00\" fill=\"#000000\">samples = 11.0%</text>\n<text text-anchor=\"middle\" x=\"1779\" y=\"-170.8\" font-family=\"Helvetica,sans-Serif\" font-size=\"14.00\" fill=\"#000000\">value = &#45;179.9</text>\n</g>\n<!-- 18&#45;&gt;26 -->\n<g id=\"edge26\" class=\"edge\">\n<title>18&#45;&gt;26</title>\n<path fill=\"none\" stroke=\"#000000\" d=\"M1716.003,-251.7971C1725.0802,-242.8207 1735.3272,-232.6876 1744.8786,-223.2423\"/>\n<polygon fill=\"#000000\" stroke=\"#000000\" points=\"1747.3666,-225.7042 1752.0161,-216.1841 1742.4446,-220.7269 1747.3666,-225.7042\"/>\n</g>\n<!-- 20 -->\n<g id=\"node21\" class=\"node\">\n<title>20</title>\n<path fill=\"#fdf4ee\" stroke=\"#000000\" d=\"M1394,-127C1394,-127 1210,-127 1210,-127 1204,-127 1198,-121 1198,-115 1198,-115 1198,-86 1198,-86 1198,-80 1204,-74 1210,-74 1210,-74 1394,-74 1394,-74 1400,-74 1406,-80 1406,-86 1406,-86 1406,-115 1406,-115 1406,-121 1400,-127 1394,-127\"/>\n<text text-anchor=\"middle\" x=\"1302\" y=\"-111.8\" font-family=\"Helvetica,sans-Serif\" font-size=\"14.00\" fill=\"#000000\">feels_like_temperature &lt;= 0.3</text>\n<text text-anchor=\"middle\" x=\"1302\" y=\"-96.8\" font-family=\"Helvetica,sans-Serif\" font-size=\"14.00\" fill=\"#000000\">samples = 1.3%</text>\n<text text-anchor=\"middle\" x=\"1302\" y=\"-81.8\" font-family=\"Helvetica,sans-Serif\" font-size=\"14.00\" fill=\"#000000\">value = &#45;137.6</text>\n</g>\n<!-- 19&#45;&gt;20 -->\n<g id=\"edge20\" class=\"edge\">\n<title>19&#45;&gt;20</title>\n<path fill=\"none\" stroke=\"#000000\" d=\"M1466.8106,-162.9176C1440.0734,-152.7916 1409.4126,-141.1797 1381.8443,-130.7389\"/>\n<polygon fill=\"#000000\" stroke=\"#000000\" points=\"1382.825,-127.3678 1372.2336,-127.0991 1380.3457,-133.914 1382.825,-127.3678\"/>\n</g>\n<!-- 23 -->\n<g id=\"node24\" class=\"node\">\n<title>23</title>\n<path fill=\"#fefcfb\" stroke=\"#000000\" d=\"M1596.5,-127C1596.5,-127 1477.5,-127 1477.5,-127 1471.5,-127 1465.5,-121 1465.5,-115 1465.5,-115 1465.5,-86 1465.5,-86 1465.5,-80 1471.5,-74 1477.5,-74 1477.5,-74 1596.5,-74 1596.5,-74 1602.5,-74 1608.5,-80 1608.5,-86 1608.5,-86 1608.5,-115 1608.5,-115 1608.5,-121 1602.5,-127 1596.5,-127\"/>\n<text text-anchor=\"middle\" x=\"1537\" y=\"-111.8\" font-family=\"Helvetica,sans-Serif\" font-size=\"14.00\" fill=\"#000000\">hour_of_day &lt;= 3.5</text>\n<text text-anchor=\"middle\" x=\"1537\" y=\"-96.8\" font-family=\"Helvetica,sans-Serif\" font-size=\"14.00\" fill=\"#000000\">samples = 4.0%</text>\n<text text-anchor=\"middle\" x=\"1537\" y=\"-81.8\" font-family=\"Helvetica,sans-Serif\" font-size=\"14.00\" fill=\"#000000\">value = &#45;176.9</text>\n</g>\n<!-- 19&#45;&gt;23 -->\n<g id=\"edge23\" class=\"edge\">\n<title>19&#45;&gt;23</title>\n<path fill=\"none\" stroke=\"#000000\" d=\"M1537,-162.7971C1537,-154.7887 1537,-145.8597 1537,-137.3198\"/>\n<polygon fill=\"#000000\" stroke=\"#000000\" points=\"1540.5001,-137.1841 1537,-127.1841 1533.5001,-137.1841 1540.5001,-137.1841\"/>\n</g>\n<!-- 21 -->\n<g id=\"node22\" class=\"node\">\n<title>21</title>\n<path fill=\"#fef9f5\" stroke=\"#000000\" d=\"M1212,-38C1212,-38 1116,-38 1116,-38 1110,-38 1104,-32 1104,-26 1104,-26 1104,-12 1104,-12 1104,-6 1110,0 1116,0 1116,0 1212,0 1212,0 1218,0 1224,-6 1224,-12 1224,-12 1224,-26 1224,-26 1224,-32 1218,-38 1212,-38\"/>\n<text text-anchor=\"middle\" x=\"1164\" y=\"-22.8\" font-family=\"Helvetica,sans-Serif\" font-size=\"14.00\" fill=\"#000000\">samples = 0.5%</text>\n<text text-anchor=\"middle\" x=\"1164\" y=\"-7.8\" font-family=\"Helvetica,sans-Serif\" font-size=\"14.00\" fill=\"#000000\">value = &#45;159.5</text>\n</g>\n<!-- 20&#45;&gt;21 -->\n<g id=\"edge21\" class=\"edge\">\n<title>20&#45;&gt;21</title>\n<path fill=\"none\" stroke=\"#000000\" d=\"M1256.8136,-73.8139C1240.2325,-64.0214 1221.5603,-52.9939 1205.3342,-43.4112\"/>\n<polygon fill=\"#000000\" stroke=\"#000000\" points=\"1206.9906,-40.3246 1196.6003,-38.2531 1203.431,-46.352 1206.9906,-40.3246\"/>\n</g>\n<!-- 22 -->\n<g id=\"node23\" class=\"node\">\n<title>22</title>\n<path fill=\"#fcf1e9\" stroke=\"#000000\" d=\"M1350,-38C1350,-38 1254,-38 1254,-38 1248,-38 1242,-32 1242,-26 1242,-26 1242,-12 1242,-12 1242,-6 1248,0 1254,0 1254,0 1350,0 1350,0 1356,0 1362,-6 1362,-12 1362,-12 1362,-26 1362,-26 1362,-32 1356,-38 1350,-38\"/>\n<text text-anchor=\"middle\" x=\"1302\" y=\"-22.8\" font-family=\"Helvetica,sans-Serif\" font-size=\"14.00\" fill=\"#000000\">samples = 0.8%</text>\n<text text-anchor=\"middle\" x=\"1302\" y=\"-7.8\" font-family=\"Helvetica,sans-Serif\" font-size=\"14.00\" fill=\"#000000\">value = &#45;123.2</text>\n</g>\n<!-- 20&#45;&gt;22 -->\n<g id=\"edge22\" class=\"edge\">\n<title>20&#45;&gt;22</title>\n<path fill=\"none\" stroke=\"#000000\" d=\"M1302,-73.8139C1302,-65.6535 1302,-56.6354 1302,-48.3105\"/>\n<polygon fill=\"#000000\" stroke=\"#000000\" points=\"1305.5001,-48.253 1302,-38.2531 1298.5001,-48.2531 1305.5001,-48.253\"/>\n</g>\n<!-- 24 -->\n<g id=\"node25\" class=\"node\">\n<title>24</title>\n<path fill=\"#fefaf7\" stroke=\"#000000\" d=\"M1488,-38C1488,-38 1392,-38 1392,-38 1386,-38 1380,-32 1380,-26 1380,-26 1380,-12 1380,-12 1380,-6 1386,0 1392,0 1392,0 1488,0 1488,0 1494,0 1500,-6 1500,-12 1500,-12 1500,-26 1500,-26 1500,-32 1494,-38 1488,-38\"/>\n<text text-anchor=\"middle\" x=\"1440\" y=\"-22.8\" font-family=\"Helvetica,sans-Serif\" font-size=\"14.00\" fill=\"#000000\">samples = 1.3%</text>\n<text text-anchor=\"middle\" x=\"1440\" y=\"-7.8\" font-family=\"Helvetica,sans-Serif\" font-size=\"14.00\" fill=\"#000000\">value = &#45;165.3</text>\n</g>\n<!-- 23&#45;&gt;24 -->\n<g id=\"edge24\" class=\"edge\">\n<title>23&#45;&gt;24</title>\n<path fill=\"none\" stroke=\"#000000\" d=\"M1505.2386,-73.8139C1494.1233,-64.4747 1481.6711,-54.0123 1470.6486,-44.7511\"/>\n<polygon fill=\"#000000\" stroke=\"#000000\" points=\"1472.8225,-42.0062 1462.9147,-38.2531 1468.3195,-47.3656 1472.8225,-42.0062\"/>\n</g>\n<!-- 25 -->\n<g id=\"node26\" class=\"node\">\n<title>25</title>\n<path fill=\"#fffefd\" stroke=\"#000000\" d=\"M1626,-38C1626,-38 1530,-38 1530,-38 1524,-38 1518,-32 1518,-26 1518,-26 1518,-12 1518,-12 1518,-6 1524,0 1530,0 1530,0 1626,0 1626,0 1632,0 1638,-6 1638,-12 1638,-12 1638,-26 1638,-26 1638,-32 1632,-38 1626,-38\"/>\n<text text-anchor=\"middle\" x=\"1578\" y=\"-22.8\" font-family=\"Helvetica,sans-Serif\" font-size=\"14.00\" fill=\"#000000\">samples = 2.7%</text>\n<text text-anchor=\"middle\" x=\"1578\" y=\"-7.8\" font-family=\"Helvetica,sans-Serif\" font-size=\"14.00\" fill=\"#000000\">value = &#45;182.5</text>\n</g>\n<!-- 23&#45;&gt;25 -->\n<g id=\"edge25\" class=\"edge\">\n<title>23&#45;&gt;25</title>\n<path fill=\"none\" stroke=\"#000000\" d=\"M1550.4249,-73.8139C1554.7126,-65.2908 1559.4709,-55.8321 1563.8111,-47.2048\"/>\n<polygon fill=\"#000000\" stroke=\"#000000\" points=\"1566.947,-48.7593 1568.3144,-38.2531 1560.6937,-45.6134 1566.947,-48.7593\"/>\n</g>\n<!-- 27 -->\n<g id=\"node28\" class=\"node\">\n<title>27</title>\n<path fill=\"#fffefd\" stroke=\"#000000\" d=\"M1838.5,-127C1838.5,-127 1719.5,-127 1719.5,-127 1713.5,-127 1707.5,-121 1707.5,-115 1707.5,-115 1707.5,-86 1707.5,-86 1707.5,-80 1713.5,-74 1719.5,-74 1719.5,-74 1838.5,-74 1838.5,-74 1844.5,-74 1850.5,-80 1850.5,-86 1850.5,-86 1850.5,-115 1850.5,-115 1850.5,-121 1844.5,-127 1838.5,-127\"/>\n<text text-anchor=\"middle\" x=\"1779\" y=\"-111.8\" font-family=\"Helvetica,sans-Serif\" font-size=\"14.00\" fill=\"#000000\">hour_of_day &lt;= 2.5</text>\n<text text-anchor=\"middle\" x=\"1779\" y=\"-96.8\" font-family=\"Helvetica,sans-Serif\" font-size=\"14.00\" fill=\"#000000\">samples = 8.1%</text>\n<text text-anchor=\"middle\" x=\"1779\" y=\"-81.8\" font-family=\"Helvetica,sans-Serif\" font-size=\"14.00\" fill=\"#000000\">value = &#45;184.7</text>\n</g>\n<!-- 26&#45;&gt;27 -->\n<g id=\"edge27\" class=\"edge\">\n<title>26&#45;&gt;27</title>\n<path fill=\"none\" stroke=\"#000000\" d=\"M1779,-162.7971C1779,-154.7887 1779,-145.8597 1779,-137.3198\"/>\n<polygon fill=\"#000000\" stroke=\"#000000\" points=\"1782.5001,-137.1841 1779,-127.1841 1775.5001,-137.1841 1782.5001,-137.1841\"/>\n</g>\n<!-- 30 -->\n<g id=\"node31\" class=\"node\">\n<title>30</title>\n<path fill=\"#fefaf7\" stroke=\"#000000\" d=\"M2040,-127C2040,-127 1944,-127 1944,-127 1938,-127 1932,-121 1932,-115 1932,-115 1932,-86 1932,-86 1932,-80 1938,-74 1944,-74 1944,-74 2040,-74 2040,-74 2046,-74 2052,-80 2052,-86 2052,-86 2052,-115 2052,-115 2052,-121 2046,-127 2040,-127\"/>\n<text text-anchor=\"middle\" x=\"1992\" y=\"-111.8\" font-family=\"Helvetica,sans-Serif\" font-size=\"14.00\" fill=\"#000000\">year &lt;= 0.5</text>\n<text text-anchor=\"middle\" x=\"1992\" y=\"-96.8\" font-family=\"Helvetica,sans-Serif\" font-size=\"14.00\" fill=\"#000000\">samples = 2.9%</text>\n<text text-anchor=\"middle\" x=\"1992\" y=\"-81.8\" font-family=\"Helvetica,sans-Serif\" font-size=\"14.00\" fill=\"#000000\">value = &#45;166.6</text>\n</g>\n<!-- 26&#45;&gt;30 -->\n<g id=\"edge30\" class=\"edge\">\n<title>26&#45;&gt;30</title>\n<path fill=\"none\" stroke=\"#000000\" d=\"M1842.6185,-162.9176C1867.8386,-152.3796 1896.9102,-140.2324 1922.6659,-129.4706\"/>\n<polygon fill=\"#000000\" stroke=\"#000000\" points=\"1924.1141,-132.6588 1931.9916,-125.5739 1921.4152,-126.2 1924.1141,-132.6588\"/>\n</g>\n<!-- 28 -->\n<g id=\"node29\" class=\"node\">\n<title>28</title>\n<path fill=\"#fffefd\" stroke=\"#000000\" d=\"M1764,-38C1764,-38 1668,-38 1668,-38 1662,-38 1656,-32 1656,-26 1656,-26 1656,-12 1656,-12 1656,-6 1662,0 1668,0 1668,0 1764,0 1764,0 1770,0 1776,-6 1776,-12 1776,-12 1776,-26 1776,-26 1776,-32 1770,-38 1764,-38\"/>\n<text text-anchor=\"middle\" x=\"1716\" y=\"-22.8\" font-family=\"Helvetica,sans-Serif\" font-size=\"14.00\" fill=\"#000000\">samples = 2.9%</text>\n<text text-anchor=\"middle\" x=\"1716\" y=\"-7.8\" font-family=\"Helvetica,sans-Serif\" font-size=\"14.00\" fill=\"#000000\">value = &#45;182.5</text>\n</g>\n<!-- 27&#45;&gt;28 -->\n<g id=\"edge28\" class=\"edge\">\n<title>27&#45;&gt;28</title>\n<path fill=\"none\" stroke=\"#000000\" d=\"M1758.3714,-73.8139C1751.5728,-65.0188 1744.004,-55.2274 1737.166,-46.3814\"/>\n<polygon fill=\"#000000\" stroke=\"#000000\" points=\"1739.7678,-44.0243 1730.8827,-38.2531 1734.2295,-48.3054 1739.7678,-44.0243\"/>\n</g>\n<!-- 29 -->\n<g id=\"node30\" class=\"node\">\n<title>29</title>\n<path fill=\"#fffefe\" stroke=\"#000000\" d=\"M1902,-38C1902,-38 1806,-38 1806,-38 1800,-38 1794,-32 1794,-26 1794,-26 1794,-12 1794,-12 1794,-6 1800,0 1806,0 1806,0 1902,0 1902,0 1908,0 1914,-6 1914,-12 1914,-12 1914,-26 1914,-26 1914,-32 1908,-38 1902,-38\"/>\n<text text-anchor=\"middle\" x=\"1854\" y=\"-22.8\" font-family=\"Helvetica,sans-Serif\" font-size=\"14.00\" fill=\"#000000\">samples = 5.2%</text>\n<text text-anchor=\"middle\" x=\"1854\" y=\"-7.8\" font-family=\"Helvetica,sans-Serif\" font-size=\"14.00\" fill=\"#000000\">value = &#45;186.0</text>\n</g>\n<!-- 27&#45;&gt;29 -->\n<g id=\"edge29\" class=\"edge\">\n<title>27&#45;&gt;29</title>\n<path fill=\"none\" stroke=\"#000000\" d=\"M1803.5578,-73.8139C1811.8183,-64.8374 1821.0338,-54.8233 1829.3048,-45.8354\"/>\n<polygon fill=\"#000000\" stroke=\"#000000\" points=\"1832.0863,-47.9816 1836.2825,-38.2531 1826.9354,-43.2414 1832.0863,-47.9816\"/>\n</g>\n<!-- 31 -->\n<g id=\"node32\" class=\"node\">\n<title>31</title>\n<path fill=\"#fefcfa\" stroke=\"#000000\" d=\"M2040,-38C2040,-38 1944,-38 1944,-38 1938,-38 1932,-32 1932,-26 1932,-26 1932,-12 1932,-12 1932,-6 1938,0 1944,0 1944,0 2040,0 2040,0 2046,0 2052,-6 2052,-12 2052,-12 2052,-26 2052,-26 2052,-32 2046,-38 2040,-38\"/>\n<text text-anchor=\"middle\" x=\"1992\" y=\"-22.8\" font-family=\"Helvetica,sans-Serif\" font-size=\"14.00\" fill=\"#000000\">samples = 1.5%</text>\n<text text-anchor=\"middle\" x=\"1992\" y=\"-7.8\" font-family=\"Helvetica,sans-Serif\" font-size=\"14.00\" fill=\"#000000\">value = &#45;173.3</text>\n</g>\n<!-- 30&#45;&gt;31 -->\n<g id=\"edge31\" class=\"edge\">\n<title>30&#45;&gt;31</title>\n<path fill=\"none\" stroke=\"#000000\" d=\"M1992,-73.8139C1992,-65.6535 1992,-56.6354 1992,-48.3105\"/>\n<polygon fill=\"#000000\" stroke=\"#000000\" points=\"1995.5001,-48.253 1992,-38.2531 1988.5001,-48.2531 1995.5001,-48.253\"/>\n</g>\n<!-- 32 -->\n<g id=\"node33\" class=\"node\">\n<title>32</title>\n<path fill=\"#fef9f5\" stroke=\"#000000\" d=\"M2178,-38C2178,-38 2082,-38 2082,-38 2076,-38 2070,-32 2070,-26 2070,-26 2070,-12 2070,-12 2070,-6 2076,0 2082,0 2082,0 2178,0 2178,0 2184,0 2190,-6 2190,-12 2190,-12 2190,-26 2190,-26 2190,-32 2184,-38 2178,-38\"/>\n<text text-anchor=\"middle\" x=\"2130\" y=\"-22.8\" font-family=\"Helvetica,sans-Serif\" font-size=\"14.00\" fill=\"#000000\">samples = 1.4%</text>\n<text text-anchor=\"middle\" x=\"2130\" y=\"-7.8\" font-family=\"Helvetica,sans-Serif\" font-size=\"14.00\" fill=\"#000000\">value = &#45;159.4</text>\n</g>\n<!-- 30&#45;&gt;32 -->\n<g id=\"edge32\" class=\"edge\">\n<title>30&#45;&gt;32</title>\n<path fill=\"none\" stroke=\"#000000\" d=\"M2037.1864,-73.8139C2053.7675,-64.0214 2072.4397,-52.9939 2088.6658,-43.4112\"/>\n<polygon fill=\"#000000\" stroke=\"#000000\" points=\"2090.569,-46.352 2097.3997,-38.2531 2087.0094,-40.3246 2090.569,-46.352\"/>\n</g>\n<!-- 34 -->\n<g id=\"node35\" class=\"node\">\n<title>34</title>\n<path fill=\"#fefbf9\" stroke=\"#000000\" d=\"M3074,-305C3074,-305 2978,-305 2978,-305 2972,-305 2966,-299 2966,-293 2966,-293 2966,-264 2966,-264 2966,-258 2972,-252 2978,-252 2978,-252 3074,-252 3074,-252 3080,-252 3086,-258 3086,-264 3086,-264 3086,-293 3086,-293 3086,-299 3080,-305 3074,-305\"/>\n<text text-anchor=\"middle\" x=\"3026\" y=\"-289.8\" font-family=\"Helvetica,sans-Serif\" font-size=\"14.00\" fill=\"#000000\">season &lt;= 1.5</text>\n<text text-anchor=\"middle\" x=\"3026\" y=\"-274.8\" font-family=\"Helvetica,sans-Serif\" font-size=\"14.00\" fill=\"#000000\">samples = 1.3%</text>\n<text text-anchor=\"middle\" x=\"3026\" y=\"-259.8\" font-family=\"Helvetica,sans-Serif\" font-size=\"14.00\" fill=\"#000000\">value = &#45;172.0</text>\n</g>\n<!-- 33&#45;&gt;34 -->\n<g id=\"edge34\" class=\"edge\">\n<title>33&#45;&gt;34</title>\n<path fill=\"none\" stroke=\"#000000\" d=\"M3225.8401,-342.7085C3185.0229,-329.594 3135.2983,-313.6175 3095.6611,-300.8821\"/>\n<polygon fill=\"#000000\" stroke=\"#000000\" points=\"3096.6642,-297.5282 3086.0729,-297.8014 3094.5229,-304.1927 3096.6642,-297.5282\"/>\n</g>\n<!-- 49 -->\n<g id=\"node50\" class=\"node\">\n<title>49</title>\n<path fill=\"#fbeadd\" stroke=\"#000000\" d=\"M3671,-305C3671,-305 3487,-305 3487,-305 3481,-305 3475,-299 3475,-293 3475,-293 3475,-264 3475,-264 3475,-258 3481,-252 3487,-252 3487,-252 3671,-252 3671,-252 3677,-252 3683,-258 3683,-264 3683,-264 3683,-293 3683,-293 3683,-299 3677,-305 3671,-305\"/>\n<text text-anchor=\"middle\" x=\"3579\" y=\"-289.8\" font-family=\"Helvetica,sans-Serif\" font-size=\"14.00\" fill=\"#000000\">feels_like_temperature &lt;= 0.4</text>\n<text text-anchor=\"middle\" x=\"3579\" y=\"-274.8\" font-family=\"Helvetica,sans-Serif\" font-size=\"14.00\" fill=\"#000000\">samples = 2.8%</text>\n<text text-anchor=\"middle\" x=\"3579\" y=\"-259.8\" font-family=\"Helvetica,sans-Serif\" font-size=\"14.00\" fill=\"#000000\">value = &#45;88.5</text>\n</g>\n<!-- 33&#45;&gt;49 -->\n<g id=\"edge49\" class=\"edge\">\n<title>33&#45;&gt;49</title>\n<path fill=\"none\" stroke=\"#000000\" d=\"M3380.2484,-342.5902C3413.3379,-331.92 3452.2497,-319.3724 3486.8302,-308.2214\"/>\n<polygon fill=\"#000000\" stroke=\"#000000\" points=\"3488.0171,-311.5162 3496.4604,-305.116 3485.8688,-304.854 3488.0171,-311.5162\"/>\n</g>\n<!-- 35 -->\n<g id=\"node36\" class=\"node\">\n<title>35</title>\n<path fill=\"#fffefe\" stroke=\"#000000\" d=\"M2661,-216C2661,-216 2565,-216 2565,-216 2559,-216 2553,-210 2553,-204 2553,-204 2553,-175 2553,-175 2553,-169 2559,-163 2565,-163 2565,-163 2661,-163 2661,-163 2667,-163 2673,-169 2673,-175 2673,-175 2673,-204 2673,-204 2673,-210 2667,-216 2661,-216\"/>\n<text text-anchor=\"middle\" x=\"2613\" y=\"-200.8\" font-family=\"Helvetica,sans-Serif\" font-size=\"14.00\" fill=\"#000000\">year &lt;= 0.5</text>\n<text text-anchor=\"middle\" x=\"2613\" y=\"-185.8\" font-family=\"Helvetica,sans-Serif\" font-size=\"14.00\" fill=\"#000000\">samples = 0.4%</text>\n<text text-anchor=\"middle\" x=\"2613\" y=\"-170.8\" font-family=\"Helvetica,sans-Serif\" font-size=\"14.00\" fill=\"#000000\">value = &#45;185.5</text>\n</g>\n<!-- 34&#45;&gt;35 -->\n<g id=\"edge35\" class=\"edge\">\n<title>34&#45;&gt;35</title>\n<path fill=\"none\" stroke=\"#000000\" d=\"M2965.9463,-265.5586C2890.8559,-249.3769 2762.5376,-221.7248 2683.0494,-204.5954\"/>\n<polygon fill=\"#000000\" stroke=\"#000000\" points=\"2683.6392,-201.1422 2673.1262,-202.457 2682.1645,-207.9851 2683.6392,-201.1422\"/>\n</g>\n<!-- 42 -->\n<g id=\"node43\" class=\"node\">\n<title>42</title>\n<path fill=\"#fefaf8\" stroke=\"#000000\" d=\"M3074,-216C3074,-216 2978,-216 2978,-216 2972,-216 2966,-210 2966,-204 2966,-204 2966,-175 2966,-175 2966,-169 2972,-163 2978,-163 2978,-163 3074,-163 3074,-163 3080,-163 3086,-169 3086,-175 3086,-175 3086,-204 3086,-204 3086,-210 3080,-216 3074,-216\"/>\n<text text-anchor=\"middle\" x=\"3026\" y=\"-200.8\" font-family=\"Helvetica,sans-Serif\" font-size=\"14.00\" fill=\"#000000\">year &lt;= 0.5</text>\n<text text-anchor=\"middle\" x=\"3026\" y=\"-185.8\" font-family=\"Helvetica,sans-Serif\" font-size=\"14.00\" fill=\"#000000\">samples = 1.0%</text>\n<text text-anchor=\"middle\" x=\"3026\" y=\"-170.8\" font-family=\"Helvetica,sans-Serif\" font-size=\"14.00\" fill=\"#000000\">value = &#45;167.1</text>\n</g>\n<!-- 34&#45;&gt;42 -->\n<g id=\"edge42\" class=\"edge\">\n<title>34&#45;&gt;42</title>\n<path fill=\"none\" stroke=\"#000000\" d=\"M3026,-251.7971C3026,-243.7887 3026,-234.8597 3026,-226.3198\"/>\n<polygon fill=\"#000000\" stroke=\"#000000\" points=\"3029.5001,-226.1841 3026,-216.1841 3022.5001,-226.1841 3029.5001,-226.1841\"/>\n</g>\n<!-- 36 -->\n<g id=\"node37\" class=\"node\">\n<title>36</title>\n<path fill=\"#fffffe\" stroke=\"#000000\" d=\"M2454,-127C2454,-127 2358,-127 2358,-127 2352,-127 2346,-121 2346,-115 2346,-115 2346,-86 2346,-86 2346,-80 2352,-74 2358,-74 2358,-74 2454,-74 2454,-74 2460,-74 2466,-80 2466,-86 2466,-86 2466,-115 2466,-115 2466,-121 2460,-127 2454,-127\"/>\n<text text-anchor=\"middle\" x=\"2406\" y=\"-111.8\" font-family=\"Helvetica,sans-Serif\" font-size=\"14.00\" fill=\"#000000\">month &lt;= 1.5</text>\n<text text-anchor=\"middle\" x=\"2406\" y=\"-96.8\" font-family=\"Helvetica,sans-Serif\" font-size=\"14.00\" fill=\"#000000\">samples = 0.2%</text>\n<text text-anchor=\"middle\" x=\"2406\" y=\"-81.8\" font-family=\"Helvetica,sans-Serif\" font-size=\"14.00\" fill=\"#000000\">value = &#45;187.6</text>\n</g>\n<!-- 35&#45;&gt;36 -->\n<g id=\"edge36\" class=\"edge\">\n<title>35&#45;&gt;36</title>\n<path fill=\"none\" stroke=\"#000000\" d=\"M2552.849,-163.638C2528.7158,-153.2619 2500.7447,-141.2356 2475.7295,-130.4803\"/>\n<polygon fill=\"#000000\" stroke=\"#000000\" points=\"2476.8704,-127.1611 2466.3011,-126.4265 2474.1054,-133.5919 2476.8704,-127.1611\"/>\n</g>\n<!-- 39 -->\n<g id=\"node40\" class=\"node\">\n<title>39</title>\n<path fill=\"#fffefd\" stroke=\"#000000\" d=\"M2661,-127C2661,-127 2565,-127 2565,-127 2559,-127 2553,-121 2553,-115 2553,-115 2553,-86 2553,-86 2553,-80 2559,-74 2565,-74 2565,-74 2661,-74 2661,-74 2667,-74 2673,-80 2673,-86 2673,-86 2673,-115 2673,-115 2673,-121 2667,-127 2661,-127\"/>\n<text text-anchor=\"middle\" x=\"2613\" y=\"-111.8\" font-family=\"Helvetica,sans-Serif\" font-size=\"14.00\" fill=\"#000000\">weekday &lt;= 0.5</text>\n<text text-anchor=\"middle\" x=\"2613\" y=\"-96.8\" font-family=\"Helvetica,sans-Serif\" font-size=\"14.00\" fill=\"#000000\">samples = 0.2%</text>\n<text text-anchor=\"middle\" x=\"2613\" y=\"-81.8\" font-family=\"Helvetica,sans-Serif\" font-size=\"14.00\" fill=\"#000000\">value = &#45;183.6</text>\n</g>\n<!-- 35&#45;&gt;39 -->\n<g id=\"edge39\" class=\"edge\">\n<title>35&#45;&gt;39</title>\n<path fill=\"none\" stroke=\"#000000\" d=\"M2613,-162.7971C2613,-154.7887 2613,-145.8597 2613,-137.3198\"/>\n<polygon fill=\"#000000\" stroke=\"#000000\" points=\"2616.5001,-137.1841 2613,-127.1841 2609.5001,-137.1841 2616.5001,-137.1841\"/>\n</g>\n<!-- 37 -->\n<g id=\"node38\" class=\"node\">\n<title>37</title>\n<path fill=\"#ffffff\" stroke=\"#000000\" d=\"M2316,-38C2316,-38 2220,-38 2220,-38 2214,-38 2208,-32 2208,-26 2208,-26 2208,-12 2208,-12 2208,-6 2214,0 2220,0 2220,0 2316,0 2316,0 2322,0 2328,-6 2328,-12 2328,-12 2328,-26 2328,-26 2328,-32 2322,-38 2316,-38\"/>\n<text text-anchor=\"middle\" x=\"2268\" y=\"-22.8\" font-family=\"Helvetica,sans-Serif\" font-size=\"14.00\" fill=\"#000000\">samples = 0.1%</text>\n<text text-anchor=\"middle\" x=\"2268\" y=\"-7.8\" font-family=\"Helvetica,sans-Serif\" font-size=\"14.00\" fill=\"#000000\">value = &#45;189.2</text>\n</g>\n<!-- 36&#45;&gt;37 -->\n<g id=\"edge37\" class=\"edge\">\n<title>36&#45;&gt;37</title>\n<path fill=\"none\" stroke=\"#000000\" d=\"M2360.8136,-73.8139C2344.2325,-64.0214 2325.5603,-52.9939 2309.3342,-43.4112\"/>\n<polygon fill=\"#000000\" stroke=\"#000000\" points=\"2310.9906,-40.3246 2300.6003,-38.2531 2307.431,-46.352 2310.9906,-40.3246\"/>\n</g>\n<!-- 38 -->\n<g id=\"node39\" class=\"node\">\n<title>38</title>\n<path fill=\"#fffefe\" stroke=\"#000000\" d=\"M2454,-38C2454,-38 2358,-38 2358,-38 2352,-38 2346,-32 2346,-26 2346,-26 2346,-12 2346,-12 2346,-6 2352,0 2358,0 2358,0 2454,0 2454,0 2460,0 2466,-6 2466,-12 2466,-12 2466,-26 2466,-26 2466,-32 2460,-38 2454,-38\"/>\n<text text-anchor=\"middle\" x=\"2406\" y=\"-22.8\" font-family=\"Helvetica,sans-Serif\" font-size=\"14.00\" fill=\"#000000\">samples = 0.1%</text>\n<text text-anchor=\"middle\" x=\"2406\" y=\"-7.8\" font-family=\"Helvetica,sans-Serif\" font-size=\"14.00\" fill=\"#000000\">value = &#45;186.6</text>\n</g>\n<!-- 36&#45;&gt;38 -->\n<g id=\"edge38\" class=\"edge\">\n<title>36&#45;&gt;38</title>\n<path fill=\"none\" stroke=\"#000000\" d=\"M2406,-73.8139C2406,-65.6535 2406,-56.6354 2406,-48.3105\"/>\n<polygon fill=\"#000000\" stroke=\"#000000\" points=\"2409.5001,-48.253 2406,-38.2531 2402.5001,-48.2531 2409.5001,-48.253\"/>\n</g>\n<!-- 40 -->\n<g id=\"node41\" class=\"node\">\n<title>40</title>\n<path fill=\"#fffefe\" stroke=\"#000000\" d=\"M2592,-38C2592,-38 2496,-38 2496,-38 2490,-38 2484,-32 2484,-26 2484,-26 2484,-12 2484,-12 2484,-6 2490,0 2496,0 2496,0 2592,0 2592,0 2598,0 2604,-6 2604,-12 2604,-12 2604,-26 2604,-26 2604,-32 2598,-38 2592,-38\"/>\n<text text-anchor=\"middle\" x=\"2544\" y=\"-22.8\" font-family=\"Helvetica,sans-Serif\" font-size=\"14.00\" fill=\"#000000\">samples = 0.1%</text>\n<text text-anchor=\"middle\" x=\"2544\" y=\"-7.8\" font-family=\"Helvetica,sans-Serif\" font-size=\"14.00\" fill=\"#000000\">value = &#45;185.7</text>\n</g>\n<!-- 39&#45;&gt;40 -->\n<g id=\"edge40\" class=\"edge\">\n<title>39&#45;&gt;40</title>\n<path fill=\"none\" stroke=\"#000000\" d=\"M2590.4068,-73.8139C2582.8839,-64.9281 2574.5001,-55.0255 2566.9504,-46.1081\"/>\n<polygon fill=\"#000000\" stroke=\"#000000\" points=\"2569.4329,-43.6236 2560.3001,-38.2531 2564.0905,-48.1467 2569.4329,-43.6236\"/>\n</g>\n<!-- 41 -->\n<g id=\"node42\" class=\"node\">\n<title>41</title>\n<path fill=\"#fffefd\" stroke=\"#000000\" d=\"M2730,-38C2730,-38 2634,-38 2634,-38 2628,-38 2622,-32 2622,-26 2622,-26 2622,-12 2622,-12 2622,-6 2628,0 2634,0 2634,0 2730,0 2730,0 2736,0 2742,-6 2742,-12 2742,-12 2742,-26 2742,-26 2742,-32 2736,-38 2730,-38\"/>\n<text text-anchor=\"middle\" x=\"2682\" y=\"-22.8\" font-family=\"Helvetica,sans-Serif\" font-size=\"14.00\" fill=\"#000000\">samples = 0.1%</text>\n<text text-anchor=\"middle\" x=\"2682\" y=\"-7.8\" font-family=\"Helvetica,sans-Serif\" font-size=\"14.00\" fill=\"#000000\">value = &#45;182.2</text>\n</g>\n<!-- 39&#45;&gt;41 -->\n<g id=\"edge41\" class=\"edge\">\n<title>39&#45;&gt;41</title>\n<path fill=\"none\" stroke=\"#000000\" d=\"M2635.5932,-73.8139C2643.1161,-64.9281 2651.4999,-55.0255 2659.0496,-46.1081\"/>\n<polygon fill=\"#000000\" stroke=\"#000000\" points=\"2661.9095,-48.1467 2665.6999,-38.2531 2656.5671,-43.6236 2661.9095,-48.1467\"/>\n</g>\n<!-- 43 -->\n<g id=\"node44\" class=\"node\">\n<title>43</title>\n<path fill=\"#fefcfa\" stroke=\"#000000\" d=\"M3004,-127C3004,-127 2908,-127 2908,-127 2902,-127 2896,-121 2896,-115 2896,-115 2896,-86 2896,-86 2896,-80 2902,-74 2908,-74 2908,-74 3004,-74 3004,-74 3010,-74 3016,-80 3016,-86 3016,-86 3016,-115 3016,-115 3016,-121 3010,-127 3004,-127\"/>\n<text text-anchor=\"middle\" x=\"2956\" y=\"-111.8\" font-family=\"Helvetica,sans-Serif\" font-size=\"14.00\" fill=\"#000000\">humidity &lt;= 0.5</text>\n<text text-anchor=\"middle\" x=\"2956\" y=\"-96.8\" font-family=\"Helvetica,sans-Serif\" font-size=\"14.00\" fill=\"#000000\">samples = 0.5%</text>\n<text text-anchor=\"middle\" x=\"2956\" y=\"-81.8\" font-family=\"Helvetica,sans-Serif\" font-size=\"14.00\" fill=\"#000000\">value = &#45;173.9</text>\n</g>\n<!-- 42&#45;&gt;43 -->\n<g id=\"edge43\" class=\"edge\">\n<title>42&#45;&gt;43</title>\n<path fill=\"none\" stroke=\"#000000\" d=\"M3004.9977,-162.7971C2998.1453,-154.0847 2990.4358,-144.2826 2983.1958,-135.0775\"/>\n<polygon fill=\"#000000\" stroke=\"#000000\" points=\"2985.9207,-132.8805 2976.9875,-127.1841 2980.4186,-137.208 2985.9207,-132.8805\"/>\n</g>\n<!-- 46 -->\n<g id=\"node47\" class=\"node\">\n<title>46</title>\n<path fill=\"#fef9f5\" stroke=\"#000000\" d=\"M3148,-127C3148,-127 3046,-127 3046,-127 3040,-127 3034,-121 3034,-115 3034,-115 3034,-86 3034,-86 3034,-80 3040,-74 3046,-74 3046,-74 3148,-74 3148,-74 3154,-74 3160,-80 3160,-86 3160,-86 3160,-115 3160,-115 3160,-121 3154,-127 3148,-127\"/>\n<text text-anchor=\"middle\" x=\"3097\" y=\"-111.8\" font-family=\"Helvetica,sans-Serif\" font-size=\"14.00\" fill=\"#000000\">is_holiday &lt;= 0.5</text>\n<text text-anchor=\"middle\" x=\"3097\" y=\"-96.8\" font-family=\"Helvetica,sans-Serif\" font-size=\"14.00\" fill=\"#000000\">samples = 0.5%</text>\n<text text-anchor=\"middle\" x=\"3097\" y=\"-81.8\" font-family=\"Helvetica,sans-Serif\" font-size=\"14.00\" fill=\"#000000\">value = &#45;160.2</text>\n</g>\n<!-- 42&#45;&gt;46 -->\n<g id=\"edge46\" class=\"edge\">\n<title>42&#45;&gt;46</title>\n<path fill=\"none\" stroke=\"#000000\" d=\"M3047.3023,-162.7971C3054.2527,-154.0847 3062.0723,-144.2826 3069.4157,-135.0775\"/>\n<polygon fill=\"#000000\" stroke=\"#000000\" points=\"3072.2125,-137.1841 3075.7127,-127.1841 3066.7404,-132.8187 3072.2125,-137.1841\"/>\n</g>\n<!-- 44 -->\n<g id=\"node45\" class=\"node\">\n<title>44</title>\n<path fill=\"#fdf6f0\" stroke=\"#000000\" d=\"M2868,-38C2868,-38 2772,-38 2772,-38 2766,-38 2760,-32 2760,-26 2760,-26 2760,-12 2760,-12 2760,-6 2766,0 2772,0 2772,0 2868,0 2868,0 2874,0 2880,-6 2880,-12 2880,-12 2880,-26 2880,-26 2880,-32 2874,-38 2868,-38\"/>\n<text text-anchor=\"middle\" x=\"2820\" y=\"-22.8\" font-family=\"Helvetica,sans-Serif\" font-size=\"14.00\" fill=\"#000000\">samples = 0.0%</text>\n<text text-anchor=\"middle\" x=\"2820\" y=\"-7.8\" font-family=\"Helvetica,sans-Serif\" font-size=\"14.00\" fill=\"#000000\">value = &#45;145.2</text>\n</g>\n<!-- 43&#45;&gt;44 -->\n<g id=\"edge44\" class=\"edge\">\n<title>43&#45;&gt;44</title>\n<path fill=\"none\" stroke=\"#000000\" d=\"M2911.4685,-73.8139C2895.1277,-64.0214 2876.7261,-52.9939 2860.7352,-43.4112\"/>\n<polygon fill=\"#000000\" stroke=\"#000000\" points=\"2862.5047,-40.3912 2852.1278,-38.2531 2858.9064,-46.3956 2862.5047,-40.3912\"/>\n</g>\n<!-- 45 -->\n<g id=\"node46\" class=\"node\">\n<title>45</title>\n<path fill=\"#fefcfa\" stroke=\"#000000\" d=\"M3006,-38C3006,-38 2910,-38 2910,-38 2904,-38 2898,-32 2898,-26 2898,-26 2898,-12 2898,-12 2898,-6 2904,0 2910,0 2910,0 3006,0 3006,0 3012,0 3018,-6 3018,-12 3018,-12 3018,-26 3018,-26 3018,-32 3012,-38 3006,-38\"/>\n<text text-anchor=\"middle\" x=\"2958\" y=\"-22.8\" font-family=\"Helvetica,sans-Serif\" font-size=\"14.00\" fill=\"#000000\">samples = 0.5%</text>\n<text text-anchor=\"middle\" x=\"2958\" y=\"-7.8\" font-family=\"Helvetica,sans-Serif\" font-size=\"14.00\" fill=\"#000000\">value = &#45;174.4</text>\n</g>\n<!-- 43&#45;&gt;45 -->\n<g id=\"edge45\" class=\"edge\">\n<title>43&#45;&gt;45</title>\n<path fill=\"none\" stroke=\"#000000\" d=\"M2956.6549,-73.8139C2956.8551,-65.6535 2957.0764,-56.6354 2957.2807,-48.3105\"/>\n<polygon fill=\"#000000\" stroke=\"#000000\" points=\"2960.7811,-48.336 2957.5275,-38.2531 2953.7832,-48.1642 2960.7811,-48.336\"/>\n</g>\n<!-- 47 -->\n<g id=\"node48\" class=\"node\">\n<title>47</title>\n<path fill=\"#fef9f6\" stroke=\"#000000\" d=\"M3144,-38C3144,-38 3048,-38 3048,-38 3042,-38 3036,-32 3036,-26 3036,-26 3036,-12 3036,-12 3036,-6 3042,0 3048,0 3048,0 3144,0 3144,0 3150,0 3156,-6 3156,-12 3156,-12 3156,-26 3156,-26 3156,-32 3150,-38 3144,-38\"/>\n<text text-anchor=\"middle\" x=\"3096\" y=\"-22.8\" font-family=\"Helvetica,sans-Serif\" font-size=\"14.00\" fill=\"#000000\">samples = 0.4%</text>\n<text text-anchor=\"middle\" x=\"3096\" y=\"-7.8\" font-family=\"Helvetica,sans-Serif\" font-size=\"14.00\" fill=\"#000000\">value = &#45;162.9</text>\n</g>\n<!-- 46&#45;&gt;47 -->\n<g id=\"edge47\" class=\"edge\">\n<title>46&#45;&gt;47</title>\n<path fill=\"none\" stroke=\"#000000\" d=\"M3096.6726,-73.8139C3096.5724,-65.6535 3096.4618,-56.6354 3096.3596,-48.3105\"/>\n<polygon fill=\"#000000\" stroke=\"#000000\" points=\"3099.8588,-48.2093 3096.2362,-38.2531 3092.8593,-48.2953 3099.8588,-48.2093\"/>\n</g>\n<!-- 48 -->\n<g id=\"node49\" class=\"node\">\n<title>48</title>\n<path fill=\"#fdf4ed\" stroke=\"#000000\" d=\"M3282,-38C3282,-38 3186,-38 3186,-38 3180,-38 3174,-32 3174,-26 3174,-26 3174,-12 3174,-12 3174,-6 3180,0 3186,0 3186,0 3282,0 3282,0 3288,0 3294,-6 3294,-12 3294,-12 3294,-26 3294,-26 3294,-32 3288,-38 3282,-38\"/>\n<text text-anchor=\"middle\" x=\"3234\" y=\"-22.8\" font-family=\"Helvetica,sans-Serif\" font-size=\"14.00\" fill=\"#000000\">samples = 0.0%</text>\n<text text-anchor=\"middle\" x=\"3234\" y=\"-7.8\" font-family=\"Helvetica,sans-Serif\" font-size=\"14.00\" fill=\"#000000\">value = &#45;136.7</text>\n</g>\n<!-- 46&#45;&gt;48 -->\n<g id=\"edge48\" class=\"edge\">\n<title>46&#45;&gt;48</title>\n<path fill=\"none\" stroke=\"#000000\" d=\"M3141.8589,-73.8139C3158.3199,-64.0214 3176.8568,-52.9939 3192.9653,-43.4112\"/>\n<polygon fill=\"#000000\" stroke=\"#000000\" points=\"3194.8311,-46.3737 3201.636,-38.2531 3191.2523,-40.3578 3194.8311,-46.3737\"/>\n</g>\n<!-- 50 -->\n<g id=\"node51\" class=\"node\">\n<title>50</title>\n<path fill=\"#fcf0e8\" stroke=\"#000000\" d=\"M3627,-216C3627,-216 3531,-216 3531,-216 3525,-216 3519,-210 3519,-204 3519,-204 3519,-175 3519,-175 3519,-169 3525,-163 3531,-163 3531,-163 3627,-163 3627,-163 3633,-163 3639,-169 3639,-175 3639,-175 3639,-204 3639,-204 3639,-210 3633,-216 3627,-216\"/>\n<text text-anchor=\"middle\" x=\"3579\" y=\"-200.8\" font-family=\"Helvetica,sans-Serif\" font-size=\"14.00\" fill=\"#000000\">year &lt;= 0.5</text>\n<text text-anchor=\"middle\" x=\"3579\" y=\"-185.8\" font-family=\"Helvetica,sans-Serif\" font-size=\"14.00\" fill=\"#000000\">samples = 1.2%</text>\n<text text-anchor=\"middle\" x=\"3579\" y=\"-170.8\" font-family=\"Helvetica,sans-Serif\" font-size=\"14.00\" fill=\"#000000\">value = &#45;119.7</text>\n</g>\n<!-- 49&#45;&gt;50 -->\n<g id=\"edge50\" class=\"edge\">\n<title>49&#45;&gt;50</title>\n<path fill=\"none\" stroke=\"#000000\" d=\"M3579,-251.7971C3579,-243.7887 3579,-234.8597 3579,-226.3198\"/>\n<polygon fill=\"#000000\" stroke=\"#000000\" points=\"3582.5001,-226.1841 3579,-216.1841 3575.5001,-226.1841 3582.5001,-226.1841\"/>\n</g>\n<!-- 57 -->\n<g id=\"node58\" class=\"node\">\n<title>57</title>\n<path fill=\"#fae4d5\" stroke=\"#000000\" d=\"M4027,-216C4027,-216 3931,-216 3931,-216 3925,-216 3919,-210 3919,-204 3919,-204 3919,-175 3919,-175 3919,-169 3925,-163 3931,-163 3931,-163 4027,-163 4027,-163 4033,-163 4039,-169 4039,-175 4039,-175 4039,-204 4039,-204 4039,-210 4033,-216 4027,-216\"/>\n<text text-anchor=\"middle\" x=\"3979\" y=\"-200.8\" font-family=\"Helvetica,sans-Serif\" font-size=\"14.00\" fill=\"#000000\">year &lt;= 0.5</text>\n<text text-anchor=\"middle\" x=\"3979\" y=\"-185.8\" font-family=\"Helvetica,sans-Serif\" font-size=\"14.00\" fill=\"#000000\">samples = 1.6%</text>\n<text text-anchor=\"middle\" x=\"3979\" y=\"-170.8\" font-family=\"Helvetica,sans-Serif\" font-size=\"14.00\" fill=\"#000000\">value = &#45;64.5</text>\n</g>\n<!-- 49&#45;&gt;57 -->\n<g id=\"edge57\" class=\"edge\">\n<title>49&#45;&gt;57</title>\n<path fill=\"none\" stroke=\"#000000\" d=\"M3683.0511,-255.3486C3754.2423,-239.5086 3846.6899,-218.939 3909.1707,-205.037\"/>\n<polygon fill=\"#000000\" stroke=\"#000000\" points=\"3909.9323,-208.4532 3918.9334,-202.8648 3908.4119,-201.6203 3909.9323,-208.4532\"/>\n</g>\n<!-- 51 -->\n<g id=\"node52\" class=\"node\">\n<title>51</title>\n<path fill=\"#fdf5ef\" stroke=\"#000000\" d=\"M3558,-127C3558,-127 3462,-127 3462,-127 3456,-127 3450,-121 3450,-115 3450,-115 3450,-86 3450,-86 3450,-80 3456,-74 3462,-74 3462,-74 3558,-74 3558,-74 3564,-74 3570,-80 3570,-86 3570,-86 3570,-115 3570,-115 3570,-121 3564,-127 3558,-127\"/>\n<text text-anchor=\"middle\" x=\"3510\" y=\"-111.8\" font-family=\"Helvetica,sans-Serif\" font-size=\"14.00\" fill=\"#000000\">season &lt;= 3.0</text>\n<text text-anchor=\"middle\" x=\"3510\" y=\"-96.8\" font-family=\"Helvetica,sans-Serif\" font-size=\"14.00\" fill=\"#000000\">samples = 0.7%</text>\n<text text-anchor=\"middle\" x=\"3510\" y=\"-81.8\" font-family=\"Helvetica,sans-Serif\" font-size=\"14.00\" fill=\"#000000\">value = &#45;141.4</text>\n</g>\n<!-- 50&#45;&gt;51 -->\n<g id=\"edge51\" class=\"edge\">\n<title>50&#45;&gt;51</title>\n<path fill=\"none\" stroke=\"#000000\" d=\"M3558.2977,-162.7971C3551.6114,-154.1727 3544.0973,-144.4806 3537.0236,-135.3566\"/>\n<polygon fill=\"#000000\" stroke=\"#000000\" points=\"3539.5809,-132.9427 3530.6877,-127.1841 3534.0487,-137.2317 3539.5809,-132.9427\"/>\n</g>\n<!-- 54 -->\n<g id=\"node55\" class=\"node\">\n<title>54</title>\n<path fill=\"#fbebdf\" stroke=\"#000000\" d=\"M3696,-127C3696,-127 3600,-127 3600,-127 3594,-127 3588,-121 3588,-115 3588,-115 3588,-86 3588,-86 3588,-80 3594,-74 3600,-74 3600,-74 3696,-74 3696,-74 3702,-74 3708,-80 3708,-86 3708,-86 3708,-115 3708,-115 3708,-121 3702,-127 3696,-127\"/>\n<text text-anchor=\"middle\" x=\"3648\" y=\"-111.8\" font-family=\"Helvetica,sans-Serif\" font-size=\"14.00\" fill=\"#000000\">season &lt;= 1.5</text>\n<text text-anchor=\"middle\" x=\"3648\" y=\"-96.8\" font-family=\"Helvetica,sans-Serif\" font-size=\"14.00\" fill=\"#000000\">samples = 0.6%</text>\n<text text-anchor=\"middle\" x=\"3648\" y=\"-81.8\" font-family=\"Helvetica,sans-Serif\" font-size=\"14.00\" fill=\"#000000\">value = &#45;93.8</text>\n</g>\n<!-- 50&#45;&gt;54 -->\n<g id=\"edge54\" class=\"edge\">\n<title>50&#45;&gt;54</title>\n<path fill=\"none\" stroke=\"#000000\" d=\"M3599.7023,-162.7971C3606.3886,-154.1727 3613.9027,-144.4806 3620.9764,-135.3566\"/>\n<polygon fill=\"#000000\" stroke=\"#000000\" points=\"3623.9513,-137.2317 3627.3123,-127.1841 3618.4191,-132.9427 3623.9513,-137.2317\"/>\n</g>\n<!-- 52 -->\n<g id=\"node53\" class=\"node\">\n<title>52</title>\n<path fill=\"#fdf7f3\" stroke=\"#000000\" d=\"M3420,-38C3420,-38 3324,-38 3324,-38 3318,-38 3312,-32 3312,-26 3312,-26 3312,-12 3312,-12 3312,-6 3318,0 3324,0 3324,0 3420,0 3420,0 3426,0 3432,-6 3432,-12 3432,-12 3432,-26 3432,-26 3432,-32 3426,-38 3420,-38\"/>\n<text text-anchor=\"middle\" x=\"3372\" y=\"-22.8\" font-family=\"Helvetica,sans-Serif\" font-size=\"14.00\" fill=\"#000000\">samples = 0.5%</text>\n<text text-anchor=\"middle\" x=\"3372\" y=\"-7.8\" font-family=\"Helvetica,sans-Serif\" font-size=\"14.00\" fill=\"#000000\">value = &#45;153.6</text>\n</g>\n<!-- 51&#45;&gt;52 -->\n<g id=\"edge52\" class=\"edge\">\n<title>51&#45;&gt;52</title>\n<path fill=\"none\" stroke=\"#000000\" d=\"M3464.8136,-73.8139C3448.2325,-64.0214 3429.5603,-52.9939 3413.3342,-43.4112\"/>\n<polygon fill=\"#000000\" stroke=\"#000000\" points=\"3414.9906,-40.3246 3404.6003,-38.2531 3411.431,-46.352 3414.9906,-40.3246\"/>\n</g>\n<!-- 53 -->\n<g id=\"node54\" class=\"node\">\n<title>53</title>\n<path fill=\"#fbede3\" stroke=\"#000000\" d=\"M3558,-38C3558,-38 3462,-38 3462,-38 3456,-38 3450,-32 3450,-26 3450,-26 3450,-12 3450,-12 3450,-6 3456,0 3462,0 3462,0 3558,0 3558,0 3564,0 3570,-6 3570,-12 3570,-12 3570,-26 3570,-26 3570,-32 3564,-38 3558,-38\"/>\n<text text-anchor=\"middle\" x=\"3510\" y=\"-22.8\" font-family=\"Helvetica,sans-Serif\" font-size=\"14.00\" fill=\"#000000\">samples = 0.2%</text>\n<text text-anchor=\"middle\" x=\"3510\" y=\"-7.8\" font-family=\"Helvetica,sans-Serif\" font-size=\"14.00\" fill=\"#000000\">value = &#45;104.7</text>\n</g>\n<!-- 51&#45;&gt;53 -->\n<g id=\"edge53\" class=\"edge\">\n<title>51&#45;&gt;53</title>\n<path fill=\"none\" stroke=\"#000000\" d=\"M3510,-73.8139C3510,-65.6535 3510,-56.6354 3510,-48.3105\"/>\n<polygon fill=\"#000000\" stroke=\"#000000\" points=\"3513.5001,-48.253 3510,-38.2531 3506.5001,-48.2531 3513.5001,-48.253\"/>\n</g>\n<!-- 55 -->\n<g id=\"node56\" class=\"node\">\n<title>55</title>\n<path fill=\"#fcefe6\" stroke=\"#000000\" d=\"M3696,-38C3696,-38 3600,-38 3600,-38 3594,-38 3588,-32 3588,-26 3588,-26 3588,-12 3588,-12 3588,-6 3594,0 3600,0 3600,0 3696,0 3696,0 3702,0 3708,-6 3708,-12 3708,-12 3708,-26 3708,-26 3708,-32 3702,-38 3696,-38\"/>\n<text text-anchor=\"middle\" x=\"3648\" y=\"-22.8\" font-family=\"Helvetica,sans-Serif\" font-size=\"14.00\" fill=\"#000000\">samples = 0.3%</text>\n<text text-anchor=\"middle\" x=\"3648\" y=\"-7.8\" font-family=\"Helvetica,sans-Serif\" font-size=\"14.00\" fill=\"#000000\">value = &#45;113.3</text>\n</g>\n<!-- 54&#45;&gt;55 -->\n<g id=\"edge55\" class=\"edge\">\n<title>54&#45;&gt;55</title>\n<path fill=\"none\" stroke=\"#000000\" d=\"M3648,-73.8139C3648,-65.6535 3648,-56.6354 3648,-48.3105\"/>\n<polygon fill=\"#000000\" stroke=\"#000000\" points=\"3651.5001,-48.253 3648,-38.2531 3644.5001,-48.2531 3651.5001,-48.253\"/>\n</g>\n<!-- 56 -->\n<g id=\"node57\" class=\"node\">\n<title>56</title>\n<path fill=\"#fae7d9\" stroke=\"#000000\" d=\"M3834,-38C3834,-38 3738,-38 3738,-38 3732,-38 3726,-32 3726,-26 3726,-26 3726,-12 3726,-12 3726,-6 3732,0 3738,0 3738,0 3834,0 3834,0 3840,0 3846,-6 3846,-12 3846,-12 3846,-26 3846,-26 3846,-32 3840,-38 3834,-38\"/>\n<text text-anchor=\"middle\" x=\"3786\" y=\"-22.8\" font-family=\"Helvetica,sans-Serif\" font-size=\"14.00\" fill=\"#000000\">samples = 0.3%</text>\n<text text-anchor=\"middle\" x=\"3786\" y=\"-7.8\" font-family=\"Helvetica,sans-Serif\" font-size=\"14.00\" fill=\"#000000\">value = &#45;74.9</text>\n</g>\n<!-- 54&#45;&gt;56 -->\n<g id=\"edge56\" class=\"edge\">\n<title>54&#45;&gt;56</title>\n<path fill=\"none\" stroke=\"#000000\" d=\"M3693.1864,-73.8139C3709.7675,-64.0214 3728.4397,-52.9939 3744.6658,-43.4112\"/>\n<polygon fill=\"#000000\" stroke=\"#000000\" points=\"3746.569,-46.352 3753.3997,-38.2531 3743.0094,-40.3246 3746.569,-46.352\"/>\n</g>\n<!-- 58 -->\n<g id=\"node59\" class=\"node\">\n<title>58</title>\n<path fill=\"#fbeadf\" stroke=\"#000000\" d=\"M4027,-127C4027,-127 3931,-127 3931,-127 3925,-127 3919,-121 3919,-115 3919,-115 3919,-86 3919,-86 3919,-80 3925,-74 3931,-74 3931,-74 4027,-74 4027,-74 4033,-74 4039,-80 4039,-86 4039,-86 4039,-115 4039,-115 4039,-121 4033,-127 4027,-127\"/>\n<text text-anchor=\"middle\" x=\"3979\" y=\"-111.8\" font-family=\"Helvetica,sans-Serif\" font-size=\"14.00\" fill=\"#000000\">month &lt;= 4.5</text>\n<text text-anchor=\"middle\" x=\"3979\" y=\"-96.8\" font-family=\"Helvetica,sans-Serif\" font-size=\"14.00\" fill=\"#000000\">samples = 0.7%</text>\n<text text-anchor=\"middle\" x=\"3979\" y=\"-81.8\" font-family=\"Helvetica,sans-Serif\" font-size=\"14.00\" fill=\"#000000\">value = &#45;92.8</text>\n</g>\n<!-- 57&#45;&gt;58 -->\n<g id=\"edge58\" class=\"edge\">\n<title>57&#45;&gt;58</title>\n<path fill=\"none\" stroke=\"#000000\" d=\"M3979,-162.7971C3979,-154.7887 3979,-145.8597 3979,-137.3198\"/>\n<polygon fill=\"#000000\" stroke=\"#000000\" points=\"3982.5001,-137.1841 3979,-127.1841 3975.5001,-137.1841 3982.5001,-137.1841\"/>\n</g>\n<!-- 61 -->\n<g id=\"node62\" class=\"node\">\n<title>61</title>\n<path fill=\"#f8dfcd\" stroke=\"#000000\" d=\"M4275.5,-127C4275.5,-127 4124.5,-127 4124.5,-127 4118.5,-127 4112.5,-121 4112.5,-115 4112.5,-115 4112.5,-86 4112.5,-86 4112.5,-80 4118.5,-74 4124.5,-74 4124.5,-74 4275.5,-74 4275.5,-74 4281.5,-74 4287.5,-80 4287.5,-86 4287.5,-86 4287.5,-115 4287.5,-115 4287.5,-121 4281.5,-127 4275.5,-127\"/>\n<text text-anchor=\"middle\" x=\"4200\" y=\"-111.8\" font-family=\"Helvetica,sans-Serif\" font-size=\"14.00\" fill=\"#000000\">weather_situation &lt;= 2.5</text>\n<text text-anchor=\"middle\" x=\"4200\" y=\"-96.8\" font-family=\"Helvetica,sans-Serif\" font-size=\"14.00\" fill=\"#000000\">samples = 0.8%</text>\n<text text-anchor=\"middle\" x=\"4200\" y=\"-81.8\" font-family=\"Helvetica,sans-Serif\" font-size=\"14.00\" fill=\"#000000\">value = &#45;38.8</text>\n</g>\n<!-- 57&#45;&gt;61 -->\n<g id=\"edge61\" class=\"edge\">\n<title>57&#45;&gt;61</title>\n<path fill=\"none\" stroke=\"#000000\" d=\"M4039.0973,-165.2979C4065.5096,-154.6613 4096.8114,-142.0556 4124.7537,-130.8028\"/>\n<polygon fill=\"#000000\" stroke=\"#000000\" points=\"4126.1205,-134.0256 4134.089,-127.0433 4123.5055,-127.5324 4126.1205,-134.0256\"/>\n</g>\n<!-- 59 -->\n<g id=\"node60\" class=\"node\">\n<title>59</title>\n<path fill=\"#fcf1e9\" stroke=\"#000000\" d=\"M3972,-38C3972,-38 3876,-38 3876,-38 3870,-38 3864,-32 3864,-26 3864,-26 3864,-12 3864,-12 3864,-6 3870,0 3876,0 3876,0 3972,0 3972,0 3978,0 3984,-6 3984,-12 3984,-12 3984,-26 3984,-26 3984,-32 3978,-38 3972,-38\"/>\n<text text-anchor=\"middle\" x=\"3924\" y=\"-22.8\" font-family=\"Helvetica,sans-Serif\" font-size=\"14.00\" fill=\"#000000\">samples = 0.1%</text>\n<text text-anchor=\"middle\" x=\"3924\" y=\"-7.8\" font-family=\"Helvetica,sans-Serif\" font-size=\"14.00\" fill=\"#000000\">value = &#45;123.2</text>\n</g>\n<!-- 58&#45;&gt;59 -->\n<g id=\"edge59\" class=\"edge\">\n<title>58&#45;&gt;59</title>\n<path fill=\"none\" stroke=\"#000000\" d=\"M3960.9909,-73.8139C3955.1168,-65.1094 3948.5841,-55.4292 3942.6631,-46.6553\"/>\n<polygon fill=\"#000000\" stroke=\"#000000\" points=\"3945.4879,-44.5843 3936.9929,-38.2531 3939.6856,-48.5 3945.4879,-44.5843\"/>\n</g>\n<!-- 60 -->\n<g id=\"node61\" class=\"node\">\n<title>60</title>\n<path fill=\"#fbeade\" stroke=\"#000000\" d=\"M4110,-38C4110,-38 4014,-38 4014,-38 4008,-38 4002,-32 4002,-26 4002,-26 4002,-12 4002,-12 4002,-6 4008,0 4014,0 4014,0 4110,0 4110,0 4116,0 4122,-6 4122,-12 4122,-12 4122,-26 4122,-26 4122,-32 4116,-38 4110,-38\"/>\n<text text-anchor=\"middle\" x=\"4062\" y=\"-22.8\" font-family=\"Helvetica,sans-Serif\" font-size=\"14.00\" fill=\"#000000\">samples = 0.7%</text>\n<text text-anchor=\"middle\" x=\"4062\" y=\"-7.8\" font-family=\"Helvetica,sans-Serif\" font-size=\"14.00\" fill=\"#000000\">value = &#45;89.4</text>\n</g>\n<!-- 58&#45;&gt;60 -->\n<g id=\"edge60\" class=\"edge\">\n<title>58&#45;&gt;60</title>\n<path fill=\"none\" stroke=\"#000000\" d=\"M4006.1773,-73.8139C4015.5036,-64.6561 4025.9299,-54.4182 4035.2241,-45.292\"/>\n<polygon fill=\"#000000\" stroke=\"#000000\" points=\"4037.7095,-47.7567 4042.3926,-38.2531 4032.8051,-42.762 4037.7095,-47.7567\"/>\n</g>\n<!-- 62 -->\n<g id=\"node63\" class=\"node\">\n<title>62</title>\n<path fill=\"#f8decb\" stroke=\"#000000\" d=\"M4248,-38C4248,-38 4152,-38 4152,-38 4146,-38 4140,-32 4140,-26 4140,-26 4140,-12 4140,-12 4140,-6 4146,0 4152,0 4152,0 4248,0 4248,0 4254,0 4260,-6 4260,-12 4260,-12 4260,-26 4260,-26 4260,-32 4254,-38 4248,-38\"/>\n<text text-anchor=\"middle\" x=\"4200\" y=\"-22.8\" font-family=\"Helvetica,sans-Serif\" font-size=\"14.00\" fill=\"#000000\">samples = 0.7%</text>\n<text text-anchor=\"middle\" x=\"4200\" y=\"-7.8\" font-family=\"Helvetica,sans-Serif\" font-size=\"14.00\" fill=\"#000000\">value = &#45;32.8</text>\n</g>\n<!-- 61&#45;&gt;62 -->\n<g id=\"edge62\" class=\"edge\">\n<title>61&#45;&gt;62</title>\n<path fill=\"none\" stroke=\"#000000\" d=\"M4200,-73.8139C4200,-65.6535 4200,-56.6354 4200,-48.3105\"/>\n<polygon fill=\"#000000\" stroke=\"#000000\" points=\"4203.5001,-48.253 4200,-38.2531 4196.5001,-48.2531 4203.5001,-48.253\"/>\n</g>\n<!-- 63 -->\n<g id=\"node64\" class=\"node\">\n<title>63</title>\n<path fill=\"#fbeadf\" stroke=\"#000000\" d=\"M4386,-38C4386,-38 4290,-38 4290,-38 4284,-38 4278,-32 4278,-26 4278,-26 4278,-12 4278,-12 4278,-6 4284,0 4290,0 4290,0 4386,0 4386,0 4392,0 4398,-6 4398,-12 4398,-12 4398,-26 4398,-26 4398,-32 4392,-38 4386,-38\"/>\n<text text-anchor=\"middle\" x=\"4338\" y=\"-22.8\" font-family=\"Helvetica,sans-Serif\" font-size=\"14.00\" fill=\"#000000\">samples = 0.1%</text>\n<text text-anchor=\"middle\" x=\"4338\" y=\"-7.8\" font-family=\"Helvetica,sans-Serif\" font-size=\"14.00\" fill=\"#000000\">value = &#45;92.6</text>\n</g>\n<!-- 61&#45;&gt;63 -->\n<g id=\"edge63\" class=\"edge\">\n<title>61&#45;&gt;63</title>\n<path fill=\"none\" stroke=\"#000000\" d=\"M4245.1864,-73.8139C4261.7675,-64.0214 4280.4397,-52.9939 4296.6658,-43.4112\"/>\n<polygon fill=\"#000000\" stroke=\"#000000\" points=\"4298.569,-46.352 4305.3997,-38.2531 4295.0094,-40.3246 4298.569,-46.352\"/>\n</g>\n<!-- 65 -->\n<g id=\"node66\" class=\"node\">\n<title>65</title>\n<path fill=\"#f7d9c4\" stroke=\"#000000\" d=\"M5448,-394C5448,-394 5344,-394 5344,-394 5338,-394 5332,-388 5332,-382 5332,-382 5332,-353 5332,-353 5332,-347 5338,-341 5344,-341 5344,-341 5448,-341 5448,-341 5454,-341 5460,-347 5460,-353 5460,-353 5460,-382 5460,-382 5460,-388 5454,-394 5448,-394\"/>\n<text text-anchor=\"middle\" x=\"5396\" y=\"-378.8\" font-family=\"Helvetica,sans-Serif\" font-size=\"14.00\" fill=\"#000000\">year &lt;= 0.5</text>\n<text text-anchor=\"middle\" x=\"5396\" y=\"-363.8\" font-family=\"Helvetica,sans-Serif\" font-size=\"14.00\" fill=\"#000000\">samples = 31.9%</text>\n<text text-anchor=\"middle\" x=\"5396\" y=\"-348.8\" font-family=\"Helvetica,sans-Serif\" font-size=\"14.00\" fill=\"#000000\">value = &#45;13.1</text>\n</g>\n<!-- 64&#45;&gt;65 -->\n<g id=\"edge65\" class=\"edge\">\n<title>64&#45;&gt;65</title>\n<path fill=\"none\" stroke=\"#000000\" d=\"M5396,-429.7971C5396,-421.7887 5396,-412.8597 5396,-404.3198\"/>\n<polygon fill=\"#000000\" stroke=\"#000000\" points=\"5399.5001,-404.1841 5396,-394.1841 5392.5001,-404.1841 5399.5001,-404.1841\"/>\n</g>\n<!-- 96 -->\n<g id=\"node97\" class=\"node\">\n<title>96</title>\n<path fill=\"#f1bc95\" stroke=\"#000000\" d=\"M7203,-394C7203,-394 7099,-394 7099,-394 7093,-394 7087,-388 7087,-382 7087,-382 7087,-353 7087,-353 7087,-347 7093,-341 7099,-341 7099,-341 7203,-341 7203,-341 7209,-341 7215,-347 7215,-353 7215,-353 7215,-382 7215,-382 7215,-388 7209,-394 7203,-394\"/>\n<text text-anchor=\"middle\" x=\"7151\" y=\"-378.8\" font-family=\"Helvetica,sans-Serif\" font-size=\"14.00\" fill=\"#000000\">year &lt;= 0.5</text>\n<text text-anchor=\"middle\" x=\"7151\" y=\"-363.8\" font-family=\"Helvetica,sans-Serif\" font-size=\"14.00\" fill=\"#000000\">samples = 39.4%</text>\n<text text-anchor=\"middle\" x=\"7151\" y=\"-348.8\" font-family=\"Helvetica,sans-Serif\" font-size=\"14.00\" fill=\"#000000\">value = 126.7</text>\n</g>\n<!-- 64&#45;&gt;96 -->\n<g id=\"edge96\" class=\"edge\">\n<title>64&#45;&gt;96</title>\n<path fill=\"none\" stroke=\"#000000\" d=\"M5465.6096,-452.9699C5745.5846,-438.7718 6788.2112,-385.8978 7076.639,-371.271\"/>\n<polygon fill=\"#000000\" stroke=\"#000000\" points=\"7077.1738,-374.7485 7086.9837,-370.7464 7076.8192,-367.7575 7077.1738,-374.7485\"/>\n</g>\n<!-- 66 -->\n<g id=\"node67\" class=\"node\">\n<title>66</title>\n<path fill=\"#f9e4d5\" stroke=\"#000000\" d=\"M5286,-305C5286,-305 5182,-305 5182,-305 5176,-305 5170,-299 5170,-293 5170,-293 5170,-264 5170,-264 5170,-258 5176,-252 5182,-252 5182,-252 5286,-252 5286,-252 5292,-252 5298,-258 5298,-264 5298,-264 5298,-293 5298,-293 5298,-299 5292,-305 5286,-305\"/>\n<text text-anchor=\"middle\" x=\"5234\" y=\"-289.8\" font-family=\"Helvetica,sans-Serif\" font-size=\"14.00\" fill=\"#000000\">season &lt;= 2.5</text>\n<text text-anchor=\"middle\" x=\"5234\" y=\"-274.8\" font-family=\"Helvetica,sans-Serif\" font-size=\"14.00\" fill=\"#000000\">samples = 16.4%</text>\n<text text-anchor=\"middle\" x=\"5234\" y=\"-259.8\" font-family=\"Helvetica,sans-Serif\" font-size=\"14.00\" fill=\"#000000\">value = &#45;63.6</text>\n</g>\n<!-- 65&#45;&gt;66 -->\n<g id=\"edge66\" class=\"edge\">\n<title>65&#45;&gt;66</title>\n<path fill=\"none\" stroke=\"#000000\" d=\"M5347.3947,-340.7971C5329.694,-331.0727 5309.5224,-319.9907 5291.1485,-309.8964\"/>\n<polygon fill=\"#000000\" stroke=\"#000000\" points=\"5292.7414,-306.7781 5282.2917,-305.0306 5289.3709,-312.9133 5292.7414,-306.7781\"/>\n</g>\n<!-- 81 -->\n<g id=\"node82\" class=\"node\">\n<title>81</title>\n<path fill=\"#f5ceb2\" stroke=\"#000000\" d=\"M5861.5,-305C5861.5,-305 5734.5,-305 5734.5,-305 5728.5,-305 5722.5,-299 5722.5,-293 5722.5,-293 5722.5,-264 5722.5,-264 5722.5,-258 5728.5,-252 5734.5,-252 5734.5,-252 5861.5,-252 5861.5,-252 5867.5,-252 5873.5,-258 5873.5,-264 5873.5,-264 5873.5,-293 5873.5,-293 5873.5,-299 5867.5,-305 5861.5,-305\"/>\n<text text-anchor=\"middle\" x=\"5798\" y=\"-289.8\" font-family=\"Helvetica,sans-Serif\" font-size=\"14.00\" fill=\"#000000\">hour_of_day &lt;= 19.5</text>\n<text text-anchor=\"middle\" x=\"5798\" y=\"-274.8\" font-family=\"Helvetica,sans-Serif\" font-size=\"14.00\" fill=\"#000000\">samples = 15.5%</text>\n<text text-anchor=\"middle\" x=\"5798\" y=\"-259.8\" font-family=\"Helvetica,sans-Serif\" font-size=\"14.00\" fill=\"#000000\">value = 40.3</text>\n</g>\n<!-- 65&#45;&gt;81 -->\n<g id=\"edge81\" class=\"edge\">\n<title>65&#45;&gt;81</title>\n<path fill=\"none\" stroke=\"#000000\" d=\"M5460.1426,-353.2993C5528.4536,-338.1757 5636.9274,-314.1603 5712.4709,-297.4356\"/>\n<polygon fill=\"#000000\" stroke=\"#000000\" points=\"5713.4333,-300.8073 5722.4403,-295.2284 5711.9202,-293.9728 5713.4333,-300.8073\"/>\n</g>\n<!-- 67 -->\n<g id=\"node68\" class=\"node\">\n<title>67</title>\n<path fill=\"#fbeade\" stroke=\"#000000\" d=\"M4928.5,-216C4928.5,-216 4801.5,-216 4801.5,-216 4795.5,-216 4789.5,-210 4789.5,-204 4789.5,-204 4789.5,-175 4789.5,-175 4789.5,-169 4795.5,-163 4801.5,-163 4801.5,-163 4928.5,-163 4928.5,-163 4934.5,-163 4940.5,-169 4940.5,-175 4940.5,-175 4940.5,-204 4940.5,-204 4940.5,-210 4934.5,-216 4928.5,-216\"/>\n<text text-anchor=\"middle\" x=\"4865\" y=\"-200.8\" font-family=\"Helvetica,sans-Serif\" font-size=\"14.00\" fill=\"#000000\">hour_of_day &lt;= 19.5</text>\n<text text-anchor=\"middle\" x=\"4865\" y=\"-185.8\" font-family=\"Helvetica,sans-Serif\" font-size=\"14.00\" fill=\"#000000\">samples = 10.9%</text>\n<text text-anchor=\"middle\" x=\"4865\" y=\"-170.8\" font-family=\"Helvetica,sans-Serif\" font-size=\"14.00\" fill=\"#000000\">value = &#45;90.2</text>\n</g>\n<!-- 66&#45;&gt;67 -->\n<g id=\"edge67\" class=\"edge\">\n<title>66&#45;&gt;67</title>\n<path fill=\"none\" stroke=\"#000000\" d=\"M5169.7251,-262.9974C5109.0363,-248.3597 5017.6079,-226.3079 4950.7306,-210.1776\"/>\n<polygon fill=\"#000000\" stroke=\"#000000\" points=\"4951.1747,-206.6844 4940.6328,-207.7421 4949.5334,-213.4893 4951.1747,-206.6844\"/>\n</g>\n<!-- 74 -->\n<g id=\"node75\" class=\"node\">\n<title>74</title>\n<path fill=\"#f7d9c3\" stroke=\"#000000\" d=\"M5297.5,-216C5297.5,-216 5170.5,-216 5170.5,-216 5164.5,-216 5158.5,-210 5158.5,-204 5158.5,-204 5158.5,-175 5158.5,-175 5158.5,-169 5164.5,-163 5170.5,-163 5170.5,-163 5297.5,-163 5297.5,-163 5303.5,-163 5309.5,-169 5309.5,-175 5309.5,-175 5309.5,-204 5309.5,-204 5309.5,-210 5303.5,-216 5297.5,-216\"/>\n<text text-anchor=\"middle\" x=\"5234\" y=\"-200.8\" font-family=\"Helvetica,sans-Serif\" font-size=\"14.00\" fill=\"#000000\">hour_of_day &lt;= 20.5</text>\n<text text-anchor=\"middle\" x=\"5234\" y=\"-185.8\" font-family=\"Helvetica,sans-Serif\" font-size=\"14.00\" fill=\"#000000\">samples = 5.5%</text>\n<text text-anchor=\"middle\" x=\"5234\" y=\"-170.8\" font-family=\"Helvetica,sans-Serif\" font-size=\"14.00\" fill=\"#000000\">value = &#45;11.2</text>\n</g>\n<!-- 66&#45;&gt;74 -->\n<g id=\"edge74\" class=\"edge\">\n<title>66&#45;&gt;74</title>\n<path fill=\"none\" stroke=\"#000000\" d=\"M5234,-251.7971C5234,-243.7887 5234,-234.8597 5234,-226.3198\"/>\n<polygon fill=\"#000000\" stroke=\"#000000\" points=\"5237.5001,-226.1841 5234,-216.1841 5230.5001,-226.1841 5237.5001,-226.1841\"/>\n</g>\n<!-- 68 -->\n<g id=\"node69\" class=\"node\">\n<title>68</title>\n<path fill=\"#fae7d9\" stroke=\"#000000\" d=\"M4706,-127C4706,-127 4522,-127 4522,-127 4516,-127 4510,-121 4510,-115 4510,-115 4510,-86 4510,-86 4510,-80 4516,-74 4522,-74 4522,-74 4706,-74 4706,-74 4712,-74 4718,-80 4718,-86 4718,-86 4718,-115 4718,-115 4718,-121 4712,-127 4706,-127\"/>\n<text text-anchor=\"middle\" x=\"4614\" y=\"-111.8\" font-family=\"Helvetica,sans-Serif\" font-size=\"14.00\" fill=\"#000000\">feels_like_temperature &lt;= 0.3</text>\n<text text-anchor=\"middle\" x=\"4614\" y=\"-96.8\" font-family=\"Helvetica,sans-Serif\" font-size=\"14.00\" fill=\"#000000\">samples = 8.1%</text>\n<text text-anchor=\"middle\" x=\"4614\" y=\"-81.8\" font-family=\"Helvetica,sans-Serif\" font-size=\"14.00\" fill=\"#000000\">value = &#45;74.6</text>\n</g>\n<!-- 67&#45;&gt;68 -->\n<g id=\"edge68\" class=\"edge\">\n<title>67&#45;&gt;68</title>\n<path fill=\"none\" stroke=\"#000000\" d=\"M4790.0317,-162.9176C4761.2247,-152.7032 4728.1535,-140.9767 4698.5098,-130.4656\"/>\n<polygon fill=\"#000000\" stroke=\"#000000\" points=\"4699.6102,-127.1423 4689.0154,-127.0991 4697.2708,-133.7399 4699.6102,-127.1423\"/>\n</g>\n<!-- 71 -->\n<g id=\"node72\" class=\"node\">\n<title>71</title>\n<path fill=\"#fdf3ed\" stroke=\"#000000\" d=\"M4957,-127C4957,-127 4773,-127 4773,-127 4767,-127 4761,-121 4761,-115 4761,-115 4761,-86 4761,-86 4761,-80 4767,-74 4773,-74 4773,-74 4957,-74 4957,-74 4963,-74 4969,-80 4969,-86 4969,-86 4969,-115 4969,-115 4969,-121 4963,-127 4957,-127\"/>\n<text text-anchor=\"middle\" x=\"4865\" y=\"-111.8\" font-family=\"Helvetica,sans-Serif\" font-size=\"14.00\" fill=\"#000000\">feels_like_temperature &lt;= 0.4</text>\n<text text-anchor=\"middle\" x=\"4865\" y=\"-96.8\" font-family=\"Helvetica,sans-Serif\" font-size=\"14.00\" fill=\"#000000\">samples = 2.8%</text>\n<text text-anchor=\"middle\" x=\"4865\" y=\"-81.8\" font-family=\"Helvetica,sans-Serif\" font-size=\"14.00\" fill=\"#000000\">value = &#45;134.4</text>\n</g>\n<!-- 67&#45;&gt;71 -->\n<g id=\"edge71\" class=\"edge\">\n<title>67&#45;&gt;71</title>\n<path fill=\"none\" stroke=\"#000000\" d=\"M4865,-162.7971C4865,-154.7887 4865,-145.8597 4865,-137.3198\"/>\n<polygon fill=\"#000000\" stroke=\"#000000\" points=\"4868.5001,-137.1841 4865,-127.1841 4861.5001,-137.1841 4868.5001,-137.1841\"/>\n</g>\n<!-- 69 -->\n<g id=\"node70\" class=\"node\">\n<title>69</title>\n<path fill=\"#fbeade\" stroke=\"#000000\" d=\"M4524,-38C4524,-38 4428,-38 4428,-38 4422,-38 4416,-32 4416,-26 4416,-26 4416,-12 4416,-12 4416,-6 4422,0 4428,0 4428,0 4524,0 4524,0 4530,0 4536,-6 4536,-12 4536,-12 4536,-26 4536,-26 4536,-32 4530,-38 4524,-38\"/>\n<text text-anchor=\"middle\" x=\"4476\" y=\"-22.8\" font-family=\"Helvetica,sans-Serif\" font-size=\"14.00\" fill=\"#000000\">samples = 5.5%</text>\n<text text-anchor=\"middle\" x=\"4476\" y=\"-7.8\" font-family=\"Helvetica,sans-Serif\" font-size=\"14.00\" fill=\"#000000\">value = &#45;92.1</text>\n</g>\n<!-- 68&#45;&gt;69 -->\n<g id=\"edge69\" class=\"edge\">\n<title>68&#45;&gt;69</title>\n<path fill=\"none\" stroke=\"#000000\" d=\"M4568.8136,-73.8139C4552.2325,-64.0214 4533.5603,-52.9939 4517.3342,-43.4112\"/>\n<polygon fill=\"#000000\" stroke=\"#000000\" points=\"4518.9906,-40.3246 4508.6003,-38.2531 4515.431,-46.352 4518.9906,-40.3246\"/>\n</g>\n<!-- 70 -->\n<g id=\"node71\" class=\"node\">\n<title>70</title>\n<path fill=\"#f8dfcc\" stroke=\"#000000\" d=\"M4662,-38C4662,-38 4566,-38 4566,-38 4560,-38 4554,-32 4554,-26 4554,-26 4554,-12 4554,-12 4554,-6 4560,0 4566,0 4566,0 4662,0 4662,0 4668,0 4674,-6 4674,-12 4674,-12 4674,-26 4674,-26 4674,-32 4668,-38 4662,-38\"/>\n<text text-anchor=\"middle\" x=\"4614\" y=\"-22.8\" font-family=\"Helvetica,sans-Serif\" font-size=\"14.00\" fill=\"#000000\">samples = 2.6%</text>\n<text text-anchor=\"middle\" x=\"4614\" y=\"-7.8\" font-family=\"Helvetica,sans-Serif\" font-size=\"14.00\" fill=\"#000000\">value = &#45;38.0</text>\n</g>\n<!-- 68&#45;&gt;70 -->\n<g id=\"edge70\" class=\"edge\">\n<title>68&#45;&gt;70</title>\n<path fill=\"none\" stroke=\"#000000\" d=\"M4614,-73.8139C4614,-65.6535 4614,-56.6354 4614,-48.3105\"/>\n<polygon fill=\"#000000\" stroke=\"#000000\" points=\"4617.5001,-48.253 4614,-38.2531 4610.5001,-48.2531 4617.5001,-48.253\"/>\n</g>\n<!-- 72 -->\n<g id=\"node73\" class=\"node\">\n<title>72</title>\n<path fill=\"#fdf5ef\" stroke=\"#000000\" d=\"M4800,-38C4800,-38 4704,-38 4704,-38 4698,-38 4692,-32 4692,-26 4692,-26 4692,-12 4692,-12 4692,-6 4698,0 4704,0 4704,0 4800,0 4800,0 4806,0 4812,-6 4812,-12 4812,-12 4812,-26 4812,-26 4812,-32 4806,-38 4800,-38\"/>\n<text text-anchor=\"middle\" x=\"4752\" y=\"-22.8\" font-family=\"Helvetica,sans-Serif\" font-size=\"14.00\" fill=\"#000000\">samples = 2.4%</text>\n<text text-anchor=\"middle\" x=\"4752\" y=\"-7.8\" font-family=\"Helvetica,sans-Serif\" font-size=\"14.00\" fill=\"#000000\">value = &#45;141.9</text>\n</g>\n<!-- 71&#45;&gt;72 -->\n<g id=\"edge72\" class=\"edge\">\n<title>71&#45;&gt;72</title>\n<path fill=\"none\" stroke=\"#000000\" d=\"M4827.9996,-73.8139C4814.7994,-64.2934 4799.9808,-53.6056 4786.9579,-44.213\"/>\n<polygon fill=\"#000000\" stroke=\"#000000\" points=\"4788.8524,-41.2641 4778.6944,-38.2531 4784.7576,-46.9415 4788.8524,-41.2641\"/>\n</g>\n<!-- 73 -->\n<g id=\"node74\" class=\"node\">\n<title>73</title>\n<path fill=\"#fae9dd\" stroke=\"#000000\" d=\"M4938,-38C4938,-38 4842,-38 4842,-38 4836,-38 4830,-32 4830,-26 4830,-26 4830,-12 4830,-12 4830,-6 4836,0 4842,0 4842,0 4938,0 4938,0 4944,0 4950,-6 4950,-12 4950,-12 4950,-26 4950,-26 4950,-32 4944,-38 4938,-38\"/>\n<text text-anchor=\"middle\" x=\"4890\" y=\"-22.8\" font-family=\"Helvetica,sans-Serif\" font-size=\"14.00\" fill=\"#000000\">samples = 0.4%</text>\n<text text-anchor=\"middle\" x=\"4890\" y=\"-7.8\" font-family=\"Helvetica,sans-Serif\" font-size=\"14.00\" fill=\"#000000\">value = &#45;86.5</text>\n</g>\n<!-- 71&#45;&gt;73 -->\n<g id=\"edge73\" class=\"edge\">\n<title>71&#45;&gt;73</title>\n<path fill=\"none\" stroke=\"#000000\" d=\"M4873.1859,-73.8139C4875.7169,-65.5628 4878.5169,-56.4349 4881.0941,-48.0333\"/>\n<polygon fill=\"#000000\" stroke=\"#000000\" points=\"4884.5076,-48.8398 4884.0942,-38.2531 4877.8154,-46.787 4884.5076,-48.8398\"/>\n</g>\n<!-- 75 -->\n<g id=\"node76\" class=\"node\">\n<title>75</title>\n<path fill=\"#f6d4bb\" stroke=\"#000000\" d=\"M5219.5,-127C5219.5,-127 5068.5,-127 5068.5,-127 5062.5,-127 5056.5,-121 5056.5,-115 5056.5,-115 5056.5,-86 5056.5,-86 5056.5,-80 5062.5,-74 5068.5,-74 5068.5,-74 5219.5,-74 5219.5,-74 5225.5,-74 5231.5,-80 5231.5,-86 5231.5,-86 5231.5,-115 5231.5,-115 5231.5,-121 5225.5,-127 5219.5,-127\"/>\n<text text-anchor=\"middle\" x=\"5144\" y=\"-111.8\" font-family=\"Helvetica,sans-Serif\" font-size=\"14.00\" fill=\"#000000\">weather_situation &lt;= 2.5</text>\n<text text-anchor=\"middle\" x=\"5144\" y=\"-96.8\" font-family=\"Helvetica,sans-Serif\" font-size=\"14.00\" fill=\"#000000\">samples = 4.3%</text>\n<text text-anchor=\"middle\" x=\"5144\" y=\"-81.8\" font-family=\"Helvetica,sans-Serif\" font-size=\"14.00\" fill=\"#000000\">value = 14.4</text>\n</g>\n<!-- 74&#45;&gt;75 -->\n<g id=\"edge75\" class=\"edge\">\n<title>74&#45;&gt;75</title>\n<path fill=\"none\" stroke=\"#000000\" d=\"M5206.997,-162.7971C5197.9198,-153.8207 5187.6728,-143.6876 5178.1214,-134.2423\"/>\n<polygon fill=\"#000000\" stroke=\"#000000\" points=\"5180.5554,-131.7269 5170.9839,-127.1841 5175.6334,-136.7042 5180.5554,-131.7269\"/>\n</g>\n<!-- 78 -->\n<g id=\"node79\" class=\"node\">\n<title>78</title>\n<path fill=\"#fbede2\" stroke=\"#000000\" d=\"M5388.5,-127C5388.5,-127 5261.5,-127 5261.5,-127 5255.5,-127 5249.5,-121 5249.5,-115 5249.5,-115 5249.5,-86 5249.5,-86 5249.5,-80 5255.5,-74 5261.5,-74 5261.5,-74 5388.5,-74 5388.5,-74 5394.5,-74 5400.5,-80 5400.5,-86 5400.5,-86 5400.5,-115 5400.5,-115 5400.5,-121 5394.5,-127 5388.5,-127\"/>\n<text text-anchor=\"middle\" x=\"5325\" y=\"-111.8\" font-family=\"Helvetica,sans-Serif\" font-size=\"14.00\" fill=\"#000000\">hour_of_day &lt;= 21.5</text>\n<text text-anchor=\"middle\" x=\"5325\" y=\"-96.8\" font-family=\"Helvetica,sans-Serif\" font-size=\"14.00\" fill=\"#000000\">samples = 1.2%</text>\n<text text-anchor=\"middle\" x=\"5325\" y=\"-81.8\" font-family=\"Helvetica,sans-Serif\" font-size=\"14.00\" fill=\"#000000\">value = &#45;103.1</text>\n</g>\n<!-- 74&#45;&gt;78 -->\n<g id=\"edge78\" class=\"edge\">\n<title>74&#45;&gt;78</title>\n<path fill=\"none\" stroke=\"#000000\" d=\"M5261.303,-162.7971C5270.4811,-153.8207 5280.8419,-143.6876 5290.4994,-134.2423\"/>\n<polygon fill=\"#000000\" stroke=\"#000000\" points=\"5293.0143,-136.6784 5297.7163,-127.1841 5288.1198,-131.674 5293.0143,-136.6784\"/>\n</g>\n<!-- 76 -->\n<g id=\"node77\" class=\"node\">\n<title>76</title>\n<path fill=\"#f5d0b6\" stroke=\"#000000\" d=\"M5076,-38C5076,-38 4980,-38 4980,-38 4974,-38 4968,-32 4968,-26 4968,-26 4968,-12 4968,-12 4968,-6 4974,0 4980,0 4980,0 5076,0 5076,0 5082,0 5088,-6 5088,-12 5088,-12 5088,-26 5088,-26 5088,-32 5082,-38 5076,-38\"/>\n<text text-anchor=\"middle\" x=\"5028\" y=\"-22.8\" font-family=\"Helvetica,sans-Serif\" font-size=\"14.00\" fill=\"#000000\">samples = 3.7%</text>\n<text text-anchor=\"middle\" x=\"5028\" y=\"-7.8\" font-family=\"Helvetica,sans-Serif\" font-size=\"14.00\" fill=\"#000000\">value = 29.4</text>\n</g>\n<!-- 75&#45;&gt;76 -->\n<g id=\"edge76\" class=\"edge\">\n<title>75&#45;&gt;76</title>\n<path fill=\"none\" stroke=\"#000000\" d=\"M5106.0173,-73.8139C5092.4667,-64.2934 5077.2546,-53.6056 5063.886,-44.213\"/>\n<polygon fill=\"#000000\" stroke=\"#000000\" points=\"5065.5976,-41.1381 5055.4031,-38.2531 5061.5734,-46.8658 5065.5976,-41.1381\"/>\n</g>\n<!-- 77 -->\n<g id=\"node78\" class=\"node\">\n<title>77</title>\n<path fill=\"#fae9dc\" stroke=\"#000000\" d=\"M5214,-38C5214,-38 5118,-38 5118,-38 5112,-38 5106,-32 5106,-26 5106,-26 5106,-12 5106,-12 5106,-6 5112,0 5118,0 5118,0 5214,0 5214,0 5220,0 5226,-6 5226,-12 5226,-12 5226,-26 5226,-26 5226,-32 5220,-38 5214,-38\"/>\n<text text-anchor=\"middle\" x=\"5166\" y=\"-22.8\" font-family=\"Helvetica,sans-Serif\" font-size=\"14.00\" fill=\"#000000\">samples = 0.6%</text>\n<text text-anchor=\"middle\" x=\"5166\" y=\"-7.8\" font-family=\"Helvetica,sans-Serif\" font-size=\"14.00\" fill=\"#000000\">value = &#45;85.0</text>\n</g>\n<!-- 75&#45;&gt;77 -->\n<g id=\"edge77\" class=\"edge\">\n<title>75&#45;&gt;77</title>\n<path fill=\"none\" stroke=\"#000000\" d=\"M5151.2036,-73.8139C5153.4309,-65.5628 5155.8949,-56.4349 5158.1628,-48.0333\"/>\n<polygon fill=\"#000000\" stroke=\"#000000\" points=\"5161.5757,-48.8197 5160.8029,-38.2531 5154.8176,-46.9953 5161.5757,-48.8197\"/>\n</g>\n<!-- 79 -->\n<g id=\"node80\" class=\"node\">\n<title>79</title>\n<path fill=\"#fae7da\" stroke=\"#000000\" d=\"M5352,-38C5352,-38 5256,-38 5256,-38 5250,-38 5244,-32 5244,-26 5244,-26 5244,-12 5244,-12 5244,-6 5250,0 5256,0 5256,0 5352,0 5352,0 5358,0 5364,-6 5364,-12 5364,-12 5364,-26 5364,-26 5364,-32 5358,-38 5352,-38\"/>\n<text text-anchor=\"middle\" x=\"5304\" y=\"-22.8\" font-family=\"Helvetica,sans-Serif\" font-size=\"14.00\" fill=\"#000000\">samples = 0.4%</text>\n<text text-anchor=\"middle\" x=\"5304\" y=\"-7.8\" font-family=\"Helvetica,sans-Serif\" font-size=\"14.00\" fill=\"#000000\">value = &#45;78.6</text>\n</g>\n<!-- 78&#45;&gt;79 -->\n<g id=\"edge79\" class=\"edge\">\n<title>78&#45;&gt;79</title>\n<path fill=\"none\" stroke=\"#000000\" d=\"M5318.1238,-73.8139C5315.9978,-65.5628 5313.6458,-56.4349 5311.481,-48.0333\"/>\n<polygon fill=\"#000000\" stroke=\"#000000\" points=\"5314.8455,-47.0634 5308.9609,-38.2531 5308.0669,-48.8101 5314.8455,-47.0634\"/>\n</g>\n<!-- 80 -->\n<g id=\"node81\" class=\"node\">\n<title>80</title>\n<path fill=\"#fcefe6\" stroke=\"#000000\" d=\"M5490,-38C5490,-38 5394,-38 5394,-38 5388,-38 5382,-32 5382,-26 5382,-26 5382,-12 5382,-12 5382,-6 5388,0 5394,0 5394,0 5490,0 5490,0 5496,0 5502,-6 5502,-12 5502,-12 5502,-26 5502,-26 5502,-32 5496,-38 5490,-38\"/>\n<text text-anchor=\"middle\" x=\"5442\" y=\"-22.8\" font-family=\"Helvetica,sans-Serif\" font-size=\"14.00\" fill=\"#000000\">samples = 0.8%</text>\n<text text-anchor=\"middle\" x=\"5442\" y=\"-7.8\" font-family=\"Helvetica,sans-Serif\" font-size=\"14.00\" fill=\"#000000\">value = &#45;114.7</text>\n</g>\n<!-- 78&#45;&gt;80 -->\n<g id=\"edge80\" class=\"edge\">\n<title>78&#45;&gt;80</title>\n<path fill=\"none\" stroke=\"#000000\" d=\"M5363.3102,-73.8139C5376.9776,-64.2934 5392.3208,-53.6056 5405.8046,-44.213\"/>\n<polygon fill=\"#000000\" stroke=\"#000000\" points=\"5408.1557,-46.8408 5414.3606,-38.2531 5404.1546,-41.097 5408.1557,-46.8408\"/>\n</g>\n<!-- 82 -->\n<g id=\"node83\" class=\"node\">\n<title>82</title>\n<path fill=\"#f3c7a7\" stroke=\"#000000\" d=\"M5850,-216C5850,-216 5746,-216 5746,-216 5740,-216 5734,-210 5734,-204 5734,-204 5734,-175 5734,-175 5734,-169 5740,-163 5746,-163 5746,-163 5850,-163 5850,-163 5856,-163 5862,-169 5862,-175 5862,-175 5862,-204 5862,-204 5862,-210 5856,-216 5850,-216\"/>\n<text text-anchor=\"middle\" x=\"5798\" y=\"-200.8\" font-family=\"Helvetica,sans-Serif\" font-size=\"14.00\" fill=\"#000000\">season &lt;= 1.5</text>\n<text text-anchor=\"middle\" x=\"5798\" y=\"-185.8\" font-family=\"Helvetica,sans-Serif\" font-size=\"14.00\" fill=\"#000000\">samples = 11.7%</text>\n<text text-anchor=\"middle\" x=\"5798\" y=\"-170.8\" font-family=\"Helvetica,sans-Serif\" font-size=\"14.00\" fill=\"#000000\">value = 74.0</text>\n</g>\n<!-- 81&#45;&gt;82 -->\n<g id=\"edge82\" class=\"edge\">\n<title>81&#45;&gt;82</title>\n<path fill=\"none\" stroke=\"#000000\" d=\"M5798,-251.7971C5798,-243.7887 5798,-234.8597 5798,-226.3198\"/>\n<polygon fill=\"#000000\" stroke=\"#000000\" points=\"5801.5001,-226.1841 5798,-216.1841 5794.5001,-226.1841 5801.5001,-226.1841\"/>\n</g>\n<!-- 89 -->\n<g id=\"node90\" class=\"node\">\n<title>89</title>\n<path fill=\"#f9e4d5\" stroke=\"#000000\" d=\"M6220.5,-216C6220.5,-216 6093.5,-216 6093.5,-216 6087.5,-216 6081.5,-210 6081.5,-204 6081.5,-204 6081.5,-175 6081.5,-175 6081.5,-169 6087.5,-163 6093.5,-163 6093.5,-163 6220.5,-163 6220.5,-163 6226.5,-163 6232.5,-169 6232.5,-175 6232.5,-175 6232.5,-204 6232.5,-204 6232.5,-210 6226.5,-216 6220.5,-216\"/>\n<text text-anchor=\"middle\" x=\"6157\" y=\"-200.8\" font-family=\"Helvetica,sans-Serif\" font-size=\"14.00\" fill=\"#000000\">hour_of_day &lt;= 21.5</text>\n<text text-anchor=\"middle\" x=\"6157\" y=\"-185.8\" font-family=\"Helvetica,sans-Serif\" font-size=\"14.00\" fill=\"#000000\">samples = 3.8%</text>\n<text text-anchor=\"middle\" x=\"6157\" y=\"-170.8\" font-family=\"Helvetica,sans-Serif\" font-size=\"14.00\" fill=\"#000000\">value = &#45;63.7</text>\n</g>\n<!-- 81&#45;&gt;89 -->\n<g id=\"edge89\" class=\"edge\">\n<title>81&#45;&gt;89</title>\n<path fill=\"none\" stroke=\"#000000\" d=\"M5873.696,-259.7341C5931.5717,-245.3861 6011.3834,-225.5999 6071.5491,-210.6842\"/>\n<polygon fill=\"#000000\" stroke=\"#000000\" points=\"6072.5436,-214.0437 6081.4076,-208.2402 6070.8592,-207.2494 6072.5436,-214.0437\"/>\n</g>\n<!-- 83 -->\n<g id=\"node84\" class=\"node\">\n<title>83</title>\n<path fill=\"#f6d4bc\" stroke=\"#000000\" d=\"M5785,-127C5785,-127 5601,-127 5601,-127 5595,-127 5589,-121 5589,-115 5589,-115 5589,-86 5589,-86 5589,-80 5595,-74 5601,-74 5601,-74 5785,-74 5785,-74 5791,-74 5797,-80 5797,-86 5797,-86 5797,-115 5797,-115 5797,-121 5791,-127 5785,-127\"/>\n<text text-anchor=\"middle\" x=\"5693\" y=\"-111.8\" font-family=\"Helvetica,sans-Serif\" font-size=\"14.00\" fill=\"#000000\">feels_like_temperature &lt;= 0.3</text>\n<text text-anchor=\"middle\" x=\"5693\" y=\"-96.8\" font-family=\"Helvetica,sans-Serif\" font-size=\"14.00\" fill=\"#000000\">samples = 5.8%</text>\n<text text-anchor=\"middle\" x=\"5693\" y=\"-81.8\" font-family=\"Helvetica,sans-Serif\" font-size=\"14.00\" fill=\"#000000\">value = 11.3</text>\n</g>\n<!-- 82&#45;&gt;83 -->\n<g id=\"edge83\" class=\"edge\">\n<title>82&#45;&gt;83</title>\n<path fill=\"none\" stroke=\"#000000\" d=\"M5766.4965,-162.7971C5755.6988,-153.6447 5743.4823,-143.2898 5732.1538,-133.6875\"/>\n<polygon fill=\"#000000\" stroke=\"#000000\" points=\"5734.3727,-130.9801 5724.4812,-127.1841 5729.8465,-136.32 5734.3727,-130.9801\"/>\n</g>\n<!-- 86 -->\n<g id=\"node87\" class=\"node\">\n<title>86</title>\n<path fill=\"#f1ba92\" stroke=\"#000000\" d=\"M5978.5,-127C5978.5,-127 5827.5,-127 5827.5,-127 5821.5,-127 5815.5,-121 5815.5,-115 5815.5,-115 5815.5,-86 5815.5,-86 5815.5,-80 5821.5,-74 5827.5,-74 5827.5,-74 5978.5,-74 5978.5,-74 5984.5,-74 5990.5,-80 5990.5,-86 5990.5,-86 5990.5,-115 5990.5,-115 5990.5,-121 5984.5,-127 5978.5,-127\"/>\n<text text-anchor=\"middle\" x=\"5903\" y=\"-111.8\" font-family=\"Helvetica,sans-Serif\" font-size=\"14.00\" fill=\"#000000\">weather_situation &lt;= 2.5</text>\n<text text-anchor=\"middle\" x=\"5903\" y=\"-96.8\" font-family=\"Helvetica,sans-Serif\" font-size=\"14.00\" fill=\"#000000\">samples = 5.9%</text>\n<text text-anchor=\"middle\" x=\"5903\" y=\"-81.8\" font-family=\"Helvetica,sans-Serif\" font-size=\"14.00\" fill=\"#000000\">value = 135.4</text>\n</g>\n<!-- 82&#45;&gt;86 -->\n<g id=\"edge86\" class=\"edge\">\n<title>82&#45;&gt;86</title>\n<path fill=\"none\" stroke=\"#000000\" d=\"M5829.5035,-162.7971C5840.3012,-153.6447 5852.5177,-143.2898 5863.8462,-133.6875\"/>\n<polygon fill=\"#000000\" stroke=\"#000000\" points=\"5866.1535,-136.32 5871.5188,-127.1841 5861.6273,-130.9801 5866.1535,-136.32\"/>\n</g>\n<!-- 84 -->\n<g id=\"node85\" class=\"node\">\n<title>84</title>\n<path fill=\"#f8ddc9\" stroke=\"#000000\" d=\"M5628,-38C5628,-38 5532,-38 5532,-38 5526,-38 5520,-32 5520,-26 5520,-26 5520,-12 5520,-12 5520,-6 5526,0 5532,0 5532,0 5628,0 5628,0 5634,0 5640,-6 5640,-12 5640,-12 5640,-26 5640,-26 5640,-32 5634,-38 5628,-38\"/>\n<text text-anchor=\"middle\" x=\"5580\" y=\"-22.8\" font-family=\"Helvetica,sans-Serif\" font-size=\"14.00\" fill=\"#000000\">samples = 3.1%</text>\n<text text-anchor=\"middle\" x=\"5580\" y=\"-7.8\" font-family=\"Helvetica,sans-Serif\" font-size=\"14.00\" fill=\"#000000\">value = &#45;28.9</text>\n</g>\n<!-- 83&#45;&gt;84 -->\n<g id=\"edge84\" class=\"edge\">\n<title>83&#45;&gt;84</title>\n<path fill=\"none\" stroke=\"#000000\" d=\"M5655.9996,-73.8139C5642.7994,-64.2934 5627.9808,-53.6056 5614.9579,-44.213\"/>\n<polygon fill=\"#000000\" stroke=\"#000000\" points=\"5616.8524,-41.2641 5606.6944,-38.2531 5612.7576,-46.9415 5616.8524,-41.2641\"/>\n</g>\n<!-- 85 -->\n<g id=\"node86\" class=\"node\">\n<title>85</title>\n<path fill=\"#f4caac\" stroke=\"#000000\" d=\"M5766,-38C5766,-38 5670,-38 5670,-38 5664,-38 5658,-32 5658,-26 5658,-26 5658,-12 5658,-12 5658,-6 5664,0 5670,0 5670,0 5766,0 5766,0 5772,0 5778,-6 5778,-12 5778,-12 5778,-26 5778,-26 5778,-32 5772,-38 5766,-38\"/>\n<text text-anchor=\"middle\" x=\"5718\" y=\"-22.8\" font-family=\"Helvetica,sans-Serif\" font-size=\"14.00\" fill=\"#000000\">samples = 2.7%</text>\n<text text-anchor=\"middle\" x=\"5718\" y=\"-7.8\" font-family=\"Helvetica,sans-Serif\" font-size=\"14.00\" fill=\"#000000\">value = 58.8</text>\n</g>\n<!-- 83&#45;&gt;85 -->\n<g id=\"edge85\" class=\"edge\">\n<title>83&#45;&gt;85</title>\n<path fill=\"none\" stroke=\"#000000\" d=\"M5701.1859,-73.8139C5703.7169,-65.5628 5706.5169,-56.4349 5709.0941,-48.0333\"/>\n<polygon fill=\"#000000\" stroke=\"#000000\" points=\"5712.5076,-48.8398 5712.0942,-38.2531 5705.8154,-46.787 5712.5076,-48.8398\"/>\n</g>\n<!-- 87 -->\n<g id=\"node88\" class=\"node\">\n<title>87</title>\n<path fill=\"#f0b78e\" stroke=\"#000000\" d=\"M5904,-38C5904,-38 5808,-38 5808,-38 5802,-38 5796,-32 5796,-26 5796,-26 5796,-12 5796,-12 5796,-6 5802,0 5808,0 5808,0 5904,0 5904,0 5910,0 5916,-6 5916,-12 5916,-12 5916,-26 5916,-26 5916,-32 5910,-38 5904,-38\"/>\n<text text-anchor=\"middle\" x=\"5856\" y=\"-22.8\" font-family=\"Helvetica,sans-Serif\" font-size=\"14.00\" fill=\"#000000\">samples = 5.4%</text>\n<text text-anchor=\"middle\" x=\"5856\" y=\"-7.8\" font-family=\"Helvetica,sans-Serif\" font-size=\"14.00\" fill=\"#000000\">value = 148.1</text>\n</g>\n<!-- 86&#45;&gt;87 -->\n<g id=\"edge87\" class=\"edge\">\n<title>86&#45;&gt;87</title>\n<path fill=\"none\" stroke=\"#000000\" d=\"M5887.6104,-73.8139C5882.643,-65.2001 5877.1245,-55.6308 5872.1067,-46.9297\"/>\n<polygon fill=\"#000000\" stroke=\"#000000\" points=\"5875.1307,-45.1673 5867.103,-38.2531 5869.0668,-48.6643 5875.1307,-45.1673\"/>\n</g>\n<!-- 88 -->\n<g id=\"node89\" class=\"node\">\n<title>88</title>\n<path fill=\"#f7d7c0\" stroke=\"#000000\" d=\"M6042,-38C6042,-38 5946,-38 5946,-38 5940,-38 5934,-32 5934,-26 5934,-26 5934,-12 5934,-12 5934,-6 5940,0 5946,0 5946,0 6042,0 6042,0 6048,0 6054,-6 6054,-12 6054,-12 6054,-26 6054,-26 6054,-32 6048,-38 6042,-38\"/>\n<text text-anchor=\"middle\" x=\"5994\" y=\"-22.8\" font-family=\"Helvetica,sans-Serif\" font-size=\"14.00\" fill=\"#000000\">samples = 0.5%</text>\n<text text-anchor=\"middle\" x=\"5994\" y=\"-7.8\" font-family=\"Helvetica,sans-Serif\" font-size=\"14.00\" fill=\"#000000\">value = &#45;1.5</text>\n</g>\n<!-- 86&#45;&gt;88 -->\n<g id=\"edge88\" class=\"edge\">\n<title>86&#45;&gt;88</title>\n<path fill=\"none\" stroke=\"#000000\" d=\"M5932.7968,-73.8139C5943.1233,-64.5654 5954.6798,-54.2154 5964.9456,-45.0212\"/>\n<polygon fill=\"#000000\" stroke=\"#000000\" points=\"5967.3885,-47.5319 5972.5027,-38.2531 5962.7184,-42.3174 5967.3885,-47.5319\"/>\n</g>\n<!-- 90 -->\n<g id=\"node91\" class=\"node\">\n<title>90</title>\n<path fill=\"#f8dcc8\" stroke=\"#000000\" d=\"M6249,-127C6249,-127 6065,-127 6065,-127 6059,-127 6053,-121 6053,-115 6053,-115 6053,-86 6053,-86 6053,-80 6059,-74 6065,-74 6065,-74 6249,-74 6249,-74 6255,-74 6261,-80 6261,-86 6261,-86 6261,-115 6261,-115 6261,-121 6255,-127 6249,-127\"/>\n<text text-anchor=\"middle\" x=\"6157\" y=\"-111.8\" font-family=\"Helvetica,sans-Serif\" font-size=\"14.00\" fill=\"#000000\">feels_like_temperature &lt;= 0.3</text>\n<text text-anchor=\"middle\" x=\"6157\" y=\"-96.8\" font-family=\"Helvetica,sans-Serif\" font-size=\"14.00\" fill=\"#000000\">samples = 1.8%</text>\n<text text-anchor=\"middle\" x=\"6157\" y=\"-81.8\" font-family=\"Helvetica,sans-Serif\" font-size=\"14.00\" fill=\"#000000\">value = &#45;25.2</text>\n</g>\n<!-- 89&#45;&gt;90 -->\n<g id=\"edge90\" class=\"edge\">\n<title>89&#45;&gt;90</title>\n<path fill=\"none\" stroke=\"#000000\" d=\"M6157,-162.7971C6157,-154.7887 6157,-145.8597 6157,-137.3198\"/>\n<polygon fill=\"#000000\" stroke=\"#000000\" points=\"6160.5001,-137.1841 6157,-127.1841 6153.5001,-137.1841 6160.5001,-137.1841\"/>\n</g>\n<!-- 93 -->\n<g id=\"node94\" class=\"node\">\n<title>93</title>\n<path fill=\"#fbece1\" stroke=\"#000000\" d=\"M6456,-127C6456,-127 6360,-127 6360,-127 6354,-127 6348,-121 6348,-115 6348,-115 6348,-86 6348,-86 6348,-80 6354,-74 6360,-74 6360,-74 6456,-74 6456,-74 6462,-74 6468,-80 6468,-86 6468,-86 6468,-115 6468,-115 6468,-121 6462,-127 6456,-127\"/>\n<text text-anchor=\"middle\" x=\"6408\" y=\"-111.8\" font-family=\"Helvetica,sans-Serif\" font-size=\"14.00\" fill=\"#000000\">season &lt;= 1.5</text>\n<text text-anchor=\"middle\" x=\"6408\" y=\"-96.8\" font-family=\"Helvetica,sans-Serif\" font-size=\"14.00\" fill=\"#000000\">samples = 1.9%</text>\n<text text-anchor=\"middle\" x=\"6408\" y=\"-81.8\" font-family=\"Helvetica,sans-Serif\" font-size=\"14.00\" fill=\"#000000\">value = &#45;100.2</text>\n</g>\n<!-- 89&#45;&gt;93 -->\n<g id=\"edge93\" class=\"edge\">\n<title>89&#45;&gt;93</title>\n<path fill=\"none\" stroke=\"#000000\" d=\"M6231.9683,-162.9176C6265.6264,-150.9831 6305.1059,-136.9844 6338.1379,-125.2718\"/>\n<polygon fill=\"#000000\" stroke=\"#000000\" points=\"6339.4643,-128.5151 6347.7196,-121.8743 6337.1249,-121.9176 6339.4643,-128.5151\"/>\n</g>\n<!-- 91 -->\n<g id=\"node92\" class=\"node\">\n<title>91</title>\n<path fill=\"#fae8db\" stroke=\"#000000\" d=\"M6180,-38C6180,-38 6084,-38 6084,-38 6078,-38 6072,-32 6072,-26 6072,-26 6072,-12 6072,-12 6072,-6 6078,0 6084,0 6084,0 6180,0 6180,0 6186,0 6192,-6 6192,-12 6192,-12 6192,-26 6192,-26 6192,-32 6186,-38 6180,-38\"/>\n<text text-anchor=\"middle\" x=\"6132\" y=\"-22.8\" font-family=\"Helvetica,sans-Serif\" font-size=\"14.00\" fill=\"#000000\">samples = 0.5%</text>\n<text text-anchor=\"middle\" x=\"6132\" y=\"-7.8\" font-family=\"Helvetica,sans-Serif\" font-size=\"14.00\" fill=\"#000000\">value = &#45;83.2</text>\n</g>\n<!-- 90&#45;&gt;91 -->\n<g id=\"edge91\" class=\"edge\">\n<title>90&#45;&gt;91</title>\n<path fill=\"none\" stroke=\"#000000\" d=\"M6148.8141,-73.8139C6146.2831,-65.5628 6143.4831,-56.4349 6140.9059,-48.0333\"/>\n<polygon fill=\"#000000\" stroke=\"#000000\" points=\"6144.1846,-46.787 6137.9058,-38.2531 6137.4924,-48.8398 6144.1846,-46.787\"/>\n</g>\n<!-- 92 -->\n<g id=\"node93\" class=\"node\">\n<title>92</title>\n<path fill=\"#f7d8c2\" stroke=\"#000000\" d=\"M6318,-38C6318,-38 6222,-38 6222,-38 6216,-38 6210,-32 6210,-26 6210,-26 6210,-12 6210,-12 6210,-6 6216,0 6222,0 6222,0 6318,0 6318,0 6324,0 6330,-6 6330,-12 6330,-12 6330,-26 6330,-26 6330,-32 6324,-38 6318,-38\"/>\n<text text-anchor=\"middle\" x=\"6270\" y=\"-22.8\" font-family=\"Helvetica,sans-Serif\" font-size=\"14.00\" fill=\"#000000\">samples = 1.4%</text>\n<text text-anchor=\"middle\" x=\"6270\" y=\"-7.8\" font-family=\"Helvetica,sans-Serif\" font-size=\"14.00\" fill=\"#000000\">value = &#45;5.9</text>\n</g>\n<!-- 90&#45;&gt;92 -->\n<g id=\"edge92\" class=\"edge\">\n<title>90&#45;&gt;92</title>\n<path fill=\"none\" stroke=\"#000000\" d=\"M6194.0004,-73.8139C6207.2006,-64.2934 6222.0192,-53.6056 6235.0421,-44.213\"/>\n<polygon fill=\"#000000\" stroke=\"#000000\" points=\"6237.2424,-46.9415 6243.3056,-38.2531 6233.1476,-41.2641 6237.2424,-46.9415\"/>\n</g>\n<!-- 94 -->\n<g id=\"node95\" class=\"node\">\n<title>94</title>\n<path fill=\"#fcf1e9\" stroke=\"#000000\" d=\"M6456,-38C6456,-38 6360,-38 6360,-38 6354,-38 6348,-32 6348,-26 6348,-26 6348,-12 6348,-12 6348,-6 6354,0 6360,0 6360,0 6456,0 6456,0 6462,0 6468,-6 6468,-12 6468,-12 6468,-26 6468,-26 6468,-32 6462,-38 6456,-38\"/>\n<text text-anchor=\"middle\" x=\"6408\" y=\"-22.8\" font-family=\"Helvetica,sans-Serif\" font-size=\"14.00\" fill=\"#000000\">samples = 0.9%</text>\n<text text-anchor=\"middle\" x=\"6408\" y=\"-7.8\" font-family=\"Helvetica,sans-Serif\" font-size=\"14.00\" fill=\"#000000\">value = &#45;123.0</text>\n</g>\n<!-- 93&#45;&gt;94 -->\n<g id=\"edge94\" class=\"edge\">\n<title>93&#45;&gt;94</title>\n<path fill=\"none\" stroke=\"#000000\" d=\"M6408,-73.8139C6408,-65.6535 6408,-56.6354 6408,-48.3105\"/>\n<polygon fill=\"#000000\" stroke=\"#000000\" points=\"6411.5001,-48.253 6408,-38.2531 6404.5001,-48.2531 6411.5001,-48.253\"/>\n</g>\n<!-- 95 -->\n<g id=\"node96\" class=\"node\">\n<title>95</title>\n<path fill=\"#fae8db\" stroke=\"#000000\" d=\"M6594,-38C6594,-38 6498,-38 6498,-38 6492,-38 6486,-32 6486,-26 6486,-26 6486,-12 6486,-12 6486,-6 6492,0 6498,0 6498,0 6594,0 6594,0 6600,0 6606,-6 6606,-12 6606,-12 6606,-26 6606,-26 6606,-32 6600,-38 6594,-38\"/>\n<text text-anchor=\"middle\" x=\"6546\" y=\"-22.8\" font-family=\"Helvetica,sans-Serif\" font-size=\"14.00\" fill=\"#000000\">samples = 1.0%</text>\n<text text-anchor=\"middle\" x=\"6546\" y=\"-7.8\" font-family=\"Helvetica,sans-Serif\" font-size=\"14.00\" fill=\"#000000\">value = &#45;80.5</text>\n</g>\n<!-- 93&#45;&gt;95 -->\n<g id=\"edge95\" class=\"edge\">\n<title>93&#45;&gt;95</title>\n<path fill=\"none\" stroke=\"#000000\" d=\"M6453.1864,-73.8139C6469.7675,-64.0214 6488.4397,-52.9939 6504.6658,-43.4112\"/>\n<polygon fill=\"#000000\" stroke=\"#000000\" points=\"6506.569,-46.352 6513.3997,-38.2531 6503.0094,-40.3246 6506.569,-46.352\"/>\n</g>\n<!-- 97 -->\n<g id=\"node98\" class=\"node\">\n<title>97</title>\n<path fill=\"#f4cbad\" stroke=\"#000000\" d=\"M7214.5,-305C7214.5,-305 7087.5,-305 7087.5,-305 7081.5,-305 7075.5,-299 7075.5,-293 7075.5,-293 7075.5,-264 7075.5,-264 7075.5,-258 7081.5,-252 7087.5,-252 7087.5,-252 7214.5,-252 7214.5,-252 7220.5,-252 7226.5,-258 7226.5,-264 7226.5,-264 7226.5,-293 7226.5,-293 7226.5,-299 7220.5,-305 7214.5,-305\"/>\n<text text-anchor=\"middle\" x=\"7151\" y=\"-289.8\" font-family=\"Helvetica,sans-Serif\" font-size=\"14.00\" fill=\"#000000\">hour_of_day &lt;= 20.5</text>\n<text text-anchor=\"middle\" x=\"7151\" y=\"-274.8\" font-family=\"Helvetica,sans-Serif\" font-size=\"14.00\" fill=\"#000000\">samples = 19.1%</text>\n<text text-anchor=\"middle\" x=\"7151\" y=\"-259.8\" font-family=\"Helvetica,sans-Serif\" font-size=\"14.00\" fill=\"#000000\">value = 55.2</text>\n</g>\n<!-- 96&#45;&gt;97 -->\n<g id=\"edge97\" class=\"edge\">\n<title>96&#45;&gt;97</title>\n<path fill=\"none\" stroke=\"#000000\" d=\"M7151,-340.7971C7151,-332.7887 7151,-323.8597 7151,-315.3198\"/>\n<polygon fill=\"#000000\" stroke=\"#000000\" points=\"7154.5001,-315.1841 7151,-305.1841 7147.5001,-315.1841 7154.5001,-315.1841\"/>\n</g>\n<!-- 112 -->\n<g id=\"node113\" class=\"node\">\n<title>112</title>\n<path fill=\"#eead7f\" stroke=\"#000000\" d=\"M8057.5,-305C8057.5,-305 7930.5,-305 7930.5,-305 7924.5,-305 7918.5,-299 7918.5,-293 7918.5,-293 7918.5,-264 7918.5,-264 7918.5,-258 7924.5,-252 7930.5,-252 7930.5,-252 8057.5,-252 8057.5,-252 8063.5,-252 8069.5,-258 8069.5,-264 8069.5,-264 8069.5,-293 8069.5,-293 8069.5,-299 8063.5,-305 8057.5,-305\"/>\n<text text-anchor=\"middle\" x=\"7994\" y=\"-289.8\" font-family=\"Helvetica,sans-Serif\" font-size=\"14.00\" fill=\"#000000\">hour_of_day &lt;= 20.5</text>\n<text text-anchor=\"middle\" x=\"7994\" y=\"-274.8\" font-family=\"Helvetica,sans-Serif\" font-size=\"14.00\" fill=\"#000000\">samples = 20.3%</text>\n<text text-anchor=\"middle\" x=\"7994\" y=\"-259.8\" font-family=\"Helvetica,sans-Serif\" font-size=\"14.00\" fill=\"#000000\">value = 193.8</text>\n</g>\n<!-- 96&#45;&gt;112 -->\n<g id=\"edge112\" class=\"edge\">\n<title>96&#45;&gt;112</title>\n<path fill=\"none\" stroke=\"#000000\" d=\"M7215.0539,-360.7375C7365.0107,-344.9057 7738.9546,-305.4265 7908.2817,-287.5497\"/>\n<polygon fill=\"#000000\" stroke=\"#000000\" points=\"7908.822,-291.0122 7918.3992,-286.4816 7908.087,-284.0509 7908.822,-291.0122\"/>\n</g>\n<!-- 98 -->\n<g id=\"node99\" class=\"node\">\n<title>98</title>\n<path fill=\"#f3c6a6\" stroke=\"#000000\" d=\"M7093.5,-216C7093.5,-216 6966.5,-216 6966.5,-216 6960.5,-216 6954.5,-210 6954.5,-204 6954.5,-204 6954.5,-175 6954.5,-175 6954.5,-169 6960.5,-163 6966.5,-163 6966.5,-163 7093.5,-163 7093.5,-163 7099.5,-163 7105.5,-169 7105.5,-175 7105.5,-175 7105.5,-204 7105.5,-204 7105.5,-210 7099.5,-216 7093.5,-216\"/>\n<text text-anchor=\"middle\" x=\"7030\" y=\"-200.8\" font-family=\"Helvetica,sans-Serif\" font-size=\"14.00\" fill=\"#000000\">hour_of_day &lt;= 15.5</text>\n<text text-anchor=\"middle\" x=\"7030\" y=\"-185.8\" font-family=\"Helvetica,sans-Serif\" font-size=\"14.00\" fill=\"#000000\">samples = 15.9%</text>\n<text text-anchor=\"middle\" x=\"7030\" y=\"-170.8\" font-family=\"Helvetica,sans-Serif\" font-size=\"14.00\" fill=\"#000000\">value = 75.7</text>\n</g>\n<!-- 97&#45;&gt;98 -->\n<g id=\"edge98\" class=\"edge\">\n<title>97&#45;&gt;98</title>\n<path fill=\"none\" stroke=\"#000000\" d=\"M7114.696,-251.7971C7102.0136,-242.4687 7087.6328,-231.8911 7074.3681,-222.1344\"/>\n<polygon fill=\"#000000\" stroke=\"#000000\" points=\"7076.4078,-219.2898 7066.2784,-216.1841 7072.2601,-224.9288 7076.4078,-219.2898\"/>\n</g>\n<!-- 105 -->\n<g id=\"node106\" class=\"node\">\n<title>105</title>\n<path fill=\"#f9e1d0\" stroke=\"#000000\" d=\"M7368.5,-216C7368.5,-216 7241.5,-216 7241.5,-216 7235.5,-216 7229.5,-210 7229.5,-204 7229.5,-204 7229.5,-175 7229.5,-175 7229.5,-169 7235.5,-163 7241.5,-163 7241.5,-163 7368.5,-163 7368.5,-163 7374.5,-163 7380.5,-169 7380.5,-175 7380.5,-175 7380.5,-204 7380.5,-204 7380.5,-210 7374.5,-216 7368.5,-216\"/>\n<text text-anchor=\"middle\" x=\"7305\" y=\"-200.8\" font-family=\"Helvetica,sans-Serif\" font-size=\"14.00\" fill=\"#000000\">hour_of_day &lt;= 22.5</text>\n<text text-anchor=\"middle\" x=\"7305\" y=\"-185.8\" font-family=\"Helvetica,sans-Serif\" font-size=\"14.00\" fill=\"#000000\">samples = 3.1%</text>\n<text text-anchor=\"middle\" x=\"7305\" y=\"-170.8\" font-family=\"Helvetica,sans-Serif\" font-size=\"14.00\" fill=\"#000000\">value = &#45;50.2</text>\n</g>\n<!-- 97&#45;&gt;105 -->\n<g id=\"edge105\" class=\"edge\">\n<title>97&#45;&gt;105</title>\n<path fill=\"none\" stroke=\"#000000\" d=\"M7197.2051,-251.7971C7213.8786,-242.1611 7232.8586,-231.1921 7250.1969,-221.1719\"/>\n<polygon fill=\"#000000\" stroke=\"#000000\" points=\"7252.1863,-224.0647 7259.0931,-216.0306 7248.6836,-218.004 7252.1863,-224.0647\"/>\n</g>\n<!-- 99 -->\n<g id=\"node100\" class=\"node\">\n<title>99</title>\n<path fill=\"#f5d0b5\" stroke=\"#000000\" d=\"M6887,-127C6887,-127 6757,-127 6757,-127 6751,-127 6745,-121 6745,-115 6745,-115 6745,-86 6745,-86 6745,-80 6751,-74 6757,-74 6757,-74 6887,-74 6887,-74 6893,-74 6899,-80 6899,-86 6899,-86 6899,-115 6899,-115 6899,-121 6893,-127 6887,-127\"/>\n<text text-anchor=\"middle\" x=\"6822\" y=\"-111.8\" font-family=\"Helvetica,sans-Serif\" font-size=\"14.00\" fill=\"#000000\">is_workingday &lt;= 0.5</text>\n<text text-anchor=\"middle\" x=\"6822\" y=\"-96.8\" font-family=\"Helvetica,sans-Serif\" font-size=\"14.00\" fill=\"#000000\">samples = 10.1%</text>\n<text text-anchor=\"middle\" x=\"6822\" y=\"-81.8\" font-family=\"Helvetica,sans-Serif\" font-size=\"14.00\" fill=\"#000000\">value = 30.2</text>\n</g>\n<!-- 98&#45;&gt;99 -->\n<g id=\"edge99\" class=\"edge\">\n<title>98&#45;&gt;99</title>\n<path fill=\"none\" stroke=\"#000000\" d=\"M6967.8749,-162.9176C6944.5196,-152.9243 6917.782,-141.4837 6893.6311,-131.1498\"/>\n<polygon fill=\"#000000\" stroke=\"#000000\" points=\"6894.7348,-127.8152 6884.1642,-127.0991 6891.981,-134.2508 6894.7348,-127.8152\"/>\n</g>\n<!-- 102 -->\n<g id=\"node103\" class=\"node\">\n<title>102</title>\n<path fill=\"#f0b68c\" stroke=\"#000000\" d=\"M7093.5,-127C7093.5,-127 6966.5,-127 6966.5,-127 6960.5,-127 6954.5,-121 6954.5,-115 6954.5,-115 6954.5,-86 6954.5,-86 6954.5,-80 6960.5,-74 6966.5,-74 6966.5,-74 7093.5,-74 7093.5,-74 7099.5,-74 7105.5,-80 7105.5,-86 7105.5,-86 7105.5,-115 7105.5,-115 7105.5,-121 7099.5,-127 7093.5,-127\"/>\n<text text-anchor=\"middle\" x=\"7030\" y=\"-111.8\" font-family=\"Helvetica,sans-Serif\" font-size=\"14.00\" fill=\"#000000\">hour_of_day &lt;= 19.5</text>\n<text text-anchor=\"middle\" x=\"7030\" y=\"-96.8\" font-family=\"Helvetica,sans-Serif\" font-size=\"14.00\" fill=\"#000000\">samples = 5.8%</text>\n<text text-anchor=\"middle\" x=\"7030\" y=\"-81.8\" font-family=\"Helvetica,sans-Serif\" font-size=\"14.00\" fill=\"#000000\">value = 154.2</text>\n</g>\n<!-- 98&#45;&gt;102 -->\n<g id=\"edge102\" class=\"edge\">\n<title>98&#45;&gt;102</title>\n<path fill=\"none\" stroke=\"#000000\" d=\"M7030,-162.7971C7030,-154.7887 7030,-145.8597 7030,-137.3198\"/>\n<polygon fill=\"#000000\" stroke=\"#000000\" points=\"7033.5001,-137.1841 7030,-127.1841 7026.5001,-137.1841 7033.5001,-137.1841\"/>\n</g>\n<!-- 100 -->\n<g id=\"node101\" class=\"node\">\n<title>100</title>\n<path fill=\"#f3c4a2\" stroke=\"#000000\" d=\"M6732,-38C6732,-38 6636,-38 6636,-38 6630,-38 6624,-32 6624,-26 6624,-26 6624,-12 6624,-12 6624,-6 6630,0 6636,0 6636,0 6732,0 6732,0 6738,0 6744,-6 6744,-12 6744,-12 6744,-26 6744,-26 6744,-32 6738,-38 6732,-38\"/>\n<text text-anchor=\"middle\" x=\"6684\" y=\"-22.8\" font-family=\"Helvetica,sans-Serif\" font-size=\"14.00\" fill=\"#000000\">samples = 2.8%</text>\n<text text-anchor=\"middle\" x=\"6684\" y=\"-7.8\" font-family=\"Helvetica,sans-Serif\" font-size=\"14.00\" fill=\"#000000\">value = 87.6</text>\n</g>\n<!-- 99&#45;&gt;100 -->\n<g id=\"edge100\" class=\"edge\">\n<title>99&#45;&gt;100</title>\n<path fill=\"none\" stroke=\"#000000\" d=\"M6776.8136,-73.8139C6760.2325,-64.0214 6741.5603,-52.9939 6725.3342,-43.4112\"/>\n<polygon fill=\"#000000\" stroke=\"#000000\" points=\"6726.9906,-40.3246 6716.6003,-38.2531 6723.431,-46.352 6726.9906,-40.3246\"/>\n</g>\n<!-- 101 -->\n<g id=\"node102\" class=\"node\">\n<title>101</title>\n<path fill=\"#f6d5bd\" stroke=\"#000000\" d=\"M6870,-38C6870,-38 6774,-38 6774,-38 6768,-38 6762,-32 6762,-26 6762,-26 6762,-12 6762,-12 6762,-6 6768,0 6774,0 6774,0 6870,0 6870,0 6876,0 6882,-6 6882,-12 6882,-12 6882,-26 6882,-26 6882,-32 6876,-38 6870,-38\"/>\n<text text-anchor=\"middle\" x=\"6822\" y=\"-22.8\" font-family=\"Helvetica,sans-Serif\" font-size=\"14.00\" fill=\"#000000\">samples = 7.3%</text>\n<text text-anchor=\"middle\" x=\"6822\" y=\"-7.8\" font-family=\"Helvetica,sans-Serif\" font-size=\"14.00\" fill=\"#000000\">value = 7.9</text>\n</g>\n<!-- 99&#45;&gt;101 -->\n<g id=\"edge101\" class=\"edge\">\n<title>99&#45;&gt;101</title>\n<path fill=\"none\" stroke=\"#000000\" d=\"M6822,-73.8139C6822,-65.6535 6822,-56.6354 6822,-48.3105\"/>\n<polygon fill=\"#000000\" stroke=\"#000000\" points=\"6825.5001,-48.253 6822,-38.2531 6818.5001,-48.2531 6825.5001,-48.253\"/>\n</g>\n<!-- 103 -->\n<g id=\"node104\" class=\"node\">\n<title>103</title>\n<path fill=\"#efb084\" stroke=\"#000000\" d=\"M7008,-38C7008,-38 6912,-38 6912,-38 6906,-38 6900,-32 6900,-26 6900,-26 6900,-12 6900,-12 6900,-6 6906,0 6912,0 6912,0 7008,0 7008,0 7014,0 7020,-6 7020,-12 7020,-12 7020,-26 7020,-26 7020,-32 7014,-38 7008,-38\"/>\n<text text-anchor=\"middle\" x=\"6960\" y=\"-22.8\" font-family=\"Helvetica,sans-Serif\" font-size=\"14.00\" fill=\"#000000\">samples = 4.8%</text>\n<text text-anchor=\"middle\" x=\"6960\" y=\"-7.8\" font-family=\"Helvetica,sans-Serif\" font-size=\"14.00\" fill=\"#000000\">value = 178.9</text>\n</g>\n<!-- 102&#45;&gt;103 -->\n<g id=\"edge103\" class=\"edge\">\n<title>102&#45;&gt;103</title>\n<path fill=\"none\" stroke=\"#000000\" d=\"M7007.0794,-73.8139C6999.4474,-64.9281 6990.9421,-55.0255 6983.283,-46.1081\"/>\n<polygon fill=\"#000000\" stroke=\"#000000\" points=\"6985.7071,-43.5586 6976.5364,-38.2531 6980.3969,-48.1195 6985.7071,-43.5586\"/>\n</g>\n<!-- 104 -->\n<g id=\"node105\" class=\"node\">\n<title>104</title>\n<path fill=\"#f5cdb0\" stroke=\"#000000\" d=\"M7146,-38C7146,-38 7050,-38 7050,-38 7044,-38 7038,-32 7038,-26 7038,-26 7038,-12 7038,-12 7038,-6 7044,0 7050,0 7050,0 7146,0 7146,0 7152,0 7158,-6 7158,-12 7158,-12 7158,-26 7158,-26 7158,-32 7152,-38 7146,-38\"/>\n<text text-anchor=\"middle\" x=\"7098\" y=\"-22.8\" font-family=\"Helvetica,sans-Serif\" font-size=\"14.00\" fill=\"#000000\">samples = 1.1%</text>\n<text text-anchor=\"middle\" x=\"7098\" y=\"-7.8\" font-family=\"Helvetica,sans-Serif\" font-size=\"14.00\" fill=\"#000000\">value = 47.2</text>\n</g>\n<!-- 102&#45;&gt;104 -->\n<g id=\"edge104\" class=\"edge\">\n<title>102&#45;&gt;104</title>\n<path fill=\"none\" stroke=\"#000000\" d=\"M7052.2657,-73.8139C7059.6796,-64.9281 7067.9419,-55.0255 7075.3822,-46.1081\"/>\n<polygon fill=\"#000000\" stroke=\"#000000\" points=\"7078.217,-48.1737 7081.9361,-38.2531 7072.8422,-43.6892 7078.217,-48.1737\"/>\n</g>\n<!-- 106 -->\n<g id=\"node107\" class=\"node\">\n<title>106</title>\n<path fill=\"#f8ddc9\" stroke=\"#000000\" d=\"M7353,-127C7353,-127 7257,-127 7257,-127 7251,-127 7245,-121 7245,-115 7245,-115 7245,-86 7245,-86 7245,-80 7251,-74 7257,-74 7257,-74 7353,-74 7353,-74 7359,-74 7365,-80 7365,-86 7365,-86 7365,-115 7365,-115 7365,-121 7359,-127 7353,-127\"/>\n<text text-anchor=\"middle\" x=\"7305\" y=\"-111.8\" font-family=\"Helvetica,sans-Serif\" font-size=\"14.00\" fill=\"#000000\">humidity &lt;= 0.8</text>\n<text text-anchor=\"middle\" x=\"7305\" y=\"-96.8\" font-family=\"Helvetica,sans-Serif\" font-size=\"14.00\" fill=\"#000000\">samples = 2.1%</text>\n<text text-anchor=\"middle\" x=\"7305\" y=\"-81.8\" font-family=\"Helvetica,sans-Serif\" font-size=\"14.00\" fill=\"#000000\">value = &#45;28.3</text>\n</g>\n<!-- 105&#45;&gt;106 -->\n<g id=\"edge106\" class=\"edge\">\n<title>105&#45;&gt;106</title>\n<path fill=\"none\" stroke=\"#000000\" d=\"M7305,-162.7971C7305,-154.7887 7305,-145.8597 7305,-137.3198\"/>\n<polygon fill=\"#000000\" stroke=\"#000000\" points=\"7308.5001,-137.1841 7305,-127.1841 7301.5001,-137.1841 7308.5001,-137.1841\"/>\n</g>\n<!-- 109 -->\n<g id=\"node110\" class=\"node\">\n<title>109</title>\n<path fill=\"#fbece1\" stroke=\"#000000\" d=\"M7560,-127C7560,-127 7464,-127 7464,-127 7458,-127 7452,-121 7452,-115 7452,-115 7452,-86 7452,-86 7452,-80 7458,-74 7464,-74 7464,-74 7560,-74 7560,-74 7566,-74 7572,-80 7572,-86 7572,-86 7572,-115 7572,-115 7572,-121 7566,-127 7560,-127\"/>\n<text text-anchor=\"middle\" x=\"7512\" y=\"-111.8\" font-family=\"Helvetica,sans-Serif\" font-size=\"14.00\" fill=\"#000000\">weekday &lt;= 3.5</text>\n<text text-anchor=\"middle\" x=\"7512\" y=\"-96.8\" font-family=\"Helvetica,sans-Serif\" font-size=\"14.00\" fill=\"#000000\">samples = 1.0%</text>\n<text text-anchor=\"middle\" x=\"7512\" y=\"-81.8\" font-family=\"Helvetica,sans-Serif\" font-size=\"14.00\" fill=\"#000000\">value = &#45;98.3</text>\n</g>\n<!-- 105&#45;&gt;109 -->\n<g id=\"edge109\" class=\"edge\">\n<title>105&#45;&gt;109</title>\n<path fill=\"none\" stroke=\"#000000\" d=\"M7366.8264,-162.9176C7390.7004,-152.653 7418.1258,-140.8614 7442.6651,-130.3107\"/>\n<polygon fill=\"#000000\" stroke=\"#000000\" points=\"7444.1109,-133.4989 7451.9153,-126.3335 7441.3459,-127.0681 7444.1109,-133.4989\"/>\n</g>\n<!-- 107 -->\n<g id=\"node108\" class=\"node\">\n<title>107</title>\n<path fill=\"#f7dac6\" stroke=\"#000000\" d=\"M7284,-38C7284,-38 7188,-38 7188,-38 7182,-38 7176,-32 7176,-26 7176,-26 7176,-12 7176,-12 7176,-6 7182,0 7188,0 7188,0 7284,0 7284,0 7290,0 7296,-6 7296,-12 7296,-12 7296,-26 7296,-26 7296,-32 7290,-38 7284,-38\"/>\n<text text-anchor=\"middle\" x=\"7236\" y=\"-22.8\" font-family=\"Helvetica,sans-Serif\" font-size=\"14.00\" fill=\"#000000\">samples = 1.8%</text>\n<text text-anchor=\"middle\" x=\"7236\" y=\"-7.8\" font-family=\"Helvetica,sans-Serif\" font-size=\"14.00\" fill=\"#000000\">value = &#45;18.1</text>\n</g>\n<!-- 106&#45;&gt;107 -->\n<g id=\"edge107\" class=\"edge\">\n<title>106&#45;&gt;107</title>\n<path fill=\"none\" stroke=\"#000000\" d=\"M7282.4068,-73.8139C7274.8839,-64.9281 7266.5001,-55.0255 7258.9504,-46.1081\"/>\n<polygon fill=\"#000000\" stroke=\"#000000\" points=\"7261.4329,-43.6236 7252.3001,-38.2531 7256.0905,-48.1467 7261.4329,-43.6236\"/>\n</g>\n<!-- 108 -->\n<g id=\"node109\" class=\"node\">\n<title>108</title>\n<path fill=\"#fae7d9\" stroke=\"#000000\" d=\"M7422,-38C7422,-38 7326,-38 7326,-38 7320,-38 7314,-32 7314,-26 7314,-26 7314,-12 7314,-12 7314,-6 7320,0 7326,0 7326,0 7422,0 7422,0 7428,0 7434,-6 7434,-12 7434,-12 7434,-26 7434,-26 7434,-32 7428,-38 7422,-38\"/>\n<text text-anchor=\"middle\" x=\"7374\" y=\"-22.8\" font-family=\"Helvetica,sans-Serif\" font-size=\"14.00\" fill=\"#000000\">samples = 0.4%</text>\n<text text-anchor=\"middle\" x=\"7374\" y=\"-7.8\" font-family=\"Helvetica,sans-Serif\" font-size=\"14.00\" fill=\"#000000\">value = &#45;75.9</text>\n</g>\n<!-- 106&#45;&gt;108 -->\n<g id=\"edge108\" class=\"edge\">\n<title>106&#45;&gt;108</title>\n<path fill=\"none\" stroke=\"#000000\" d=\"M7327.5932,-73.8139C7335.1161,-64.9281 7343.4999,-55.0255 7351.0496,-46.1081\"/>\n<polygon fill=\"#000000\" stroke=\"#000000\" points=\"7353.9095,-48.1467 7357.6999,-38.2531 7348.5671,-43.6236 7353.9095,-48.1467\"/>\n</g>\n<!-- 110 -->\n<g id=\"node111\" class=\"node\">\n<title>110</title>\n<path fill=\"#fcefe7\" stroke=\"#000000\" d=\"M7560,-38C7560,-38 7464,-38 7464,-38 7458,-38 7452,-32 7452,-26 7452,-26 7452,-12 7452,-12 7452,-6 7458,0 7464,0 7464,0 7560,0 7560,0 7566,0 7572,-6 7572,-12 7572,-12 7572,-26 7572,-26 7572,-32 7566,-38 7560,-38\"/>\n<text text-anchor=\"middle\" x=\"7512\" y=\"-22.8\" font-family=\"Helvetica,sans-Serif\" font-size=\"14.00\" fill=\"#000000\">samples = 0.6%</text>\n<text text-anchor=\"middle\" x=\"7512\" y=\"-7.8\" font-family=\"Helvetica,sans-Serif\" font-size=\"14.00\" fill=\"#000000\">value = &#45;116.4</text>\n</g>\n<!-- 109&#45;&gt;110 -->\n<g id=\"edge110\" class=\"edge\">\n<title>109&#45;&gt;110</title>\n<path fill=\"none\" stroke=\"#000000\" d=\"M7512,-73.8139C7512,-65.6535 7512,-56.6354 7512,-48.3105\"/>\n<polygon fill=\"#000000\" stroke=\"#000000\" points=\"7515.5001,-48.253 7512,-38.2531 7508.5001,-48.2531 7515.5001,-48.253\"/>\n</g>\n<!-- 111 -->\n<g id=\"node112\" class=\"node\">\n<title>111</title>\n<path fill=\"#fae6d7\" stroke=\"#000000\" d=\"M7698,-38C7698,-38 7602,-38 7602,-38 7596,-38 7590,-32 7590,-26 7590,-26 7590,-12 7590,-12 7590,-6 7596,0 7602,0 7602,0 7698,0 7698,0 7704,0 7710,-6 7710,-12 7710,-12 7710,-26 7710,-26 7710,-32 7704,-38 7698,-38\"/>\n<text text-anchor=\"middle\" x=\"7650\" y=\"-22.8\" font-family=\"Helvetica,sans-Serif\" font-size=\"14.00\" fill=\"#000000\">samples = 0.4%</text>\n<text text-anchor=\"middle\" x=\"7650\" y=\"-7.8\" font-family=\"Helvetica,sans-Serif\" font-size=\"14.00\" fill=\"#000000\">value = &#45;70.0</text>\n</g>\n<!-- 109&#45;&gt;111 -->\n<g id=\"edge111\" class=\"edge\">\n<title>109&#45;&gt;111</title>\n<path fill=\"none\" stroke=\"#000000\" d=\"M7557.1864,-73.8139C7573.7675,-64.0214 7592.4397,-52.9939 7608.6658,-43.4112\"/>\n<polygon fill=\"#000000\" stroke=\"#000000\" points=\"7610.569,-46.352 7617.3997,-38.2531 7607.0094,-40.3246 7610.569,-46.352\"/>\n</g>\n<!-- 113 -->\n<g id=\"node114\" class=\"node\">\n<title>113</title>\n<path fill=\"#eda673\" stroke=\"#000000\" d=\"M8057.5,-216C8057.5,-216 7930.5,-216 7930.5,-216 7924.5,-216 7918.5,-210 7918.5,-204 7918.5,-204 7918.5,-175 7918.5,-175 7918.5,-169 7924.5,-163 7930.5,-163 7930.5,-163 8057.5,-163 8057.5,-163 8063.5,-163 8069.5,-169 8069.5,-175 8069.5,-175 8069.5,-204 8069.5,-204 8069.5,-210 8063.5,-216 8057.5,-216\"/>\n<text text-anchor=\"middle\" x=\"7994\" y=\"-200.8\" font-family=\"Helvetica,sans-Serif\" font-size=\"14.00\" fill=\"#000000\">hour_of_day &lt;= 15.5</text>\n<text text-anchor=\"middle\" x=\"7994\" y=\"-185.8\" font-family=\"Helvetica,sans-Serif\" font-size=\"14.00\" fill=\"#000000\">samples = 16.9%</text>\n<text text-anchor=\"middle\" x=\"7994\" y=\"-170.8\" font-family=\"Helvetica,sans-Serif\" font-size=\"14.00\" fill=\"#000000\">value = 229.2</text>\n</g>\n<!-- 112&#45;&gt;113 -->\n<g id=\"edge113\" class=\"edge\">\n<title>112&#45;&gt;113</title>\n<path fill=\"none\" stroke=\"#000000\" d=\"M7994,-251.7971C7994,-243.7887 7994,-234.8597 7994,-226.3198\"/>\n<polygon fill=\"#000000\" stroke=\"#000000\" points=\"7997.5001,-226.1841 7994,-216.1841 7990.5001,-226.1841 7997.5001,-226.1841\"/>\n</g>\n<!-- 120 -->\n<g id=\"node121\" class=\"node\">\n<title>120</title>\n<path fill=\"#f6d3ba\" stroke=\"#000000\" d=\"M8442.5,-216C8442.5,-216 8315.5,-216 8315.5,-216 8309.5,-216 8303.5,-210 8303.5,-204 8303.5,-204 8303.5,-175 8303.5,-175 8303.5,-169 8309.5,-163 8315.5,-163 8315.5,-163 8442.5,-163 8442.5,-163 8448.5,-163 8454.5,-169 8454.5,-175 8454.5,-175 8454.5,-204 8454.5,-204 8454.5,-210 8448.5,-216 8442.5,-216\"/>\n<text text-anchor=\"middle\" x=\"8379\" y=\"-200.8\" font-family=\"Helvetica,sans-Serif\" font-size=\"14.00\" fill=\"#000000\">hour_of_day &lt;= 21.5</text>\n<text text-anchor=\"middle\" x=\"8379\" y=\"-185.8\" font-family=\"Helvetica,sans-Serif\" font-size=\"14.00\" fill=\"#000000\">samples = 3.4%</text>\n<text text-anchor=\"middle\" x=\"8379\" y=\"-170.8\" font-family=\"Helvetica,sans-Serif\" font-size=\"14.00\" fill=\"#000000\">value = 17.2</text>\n</g>\n<!-- 112&#45;&gt;120 -->\n<g id=\"edge120\" class=\"edge\">\n<title>112&#45;&gt;120</title>\n<path fill=\"none\" stroke=\"#000000\" d=\"M8069.6042,-261.0227C8133.8635,-246.1679 8226.092,-224.8476 8293.1235,-209.352\"/>\n<polygon fill=\"#000000\" stroke=\"#000000\" points=\"8294.2855,-212.6757 8303.2402,-207.0133 8292.7088,-205.8556 8294.2855,-212.6757\"/>\n</g>\n<!-- 114 -->\n<g id=\"node115\" class=\"node\">\n<title>114</title>\n<path fill=\"#f0b48a\" stroke=\"#000000\" d=\"M7974,-127C7974,-127 7844,-127 7844,-127 7838,-127 7832,-121 7832,-115 7832,-115 7832,-86 7832,-86 7832,-80 7838,-74 7844,-74 7844,-74 7974,-74 7974,-74 7980,-74 7986,-80 7986,-86 7986,-86 7986,-115 7986,-115 7986,-121 7980,-127 7974,-127\"/>\n<text text-anchor=\"middle\" x=\"7909\" y=\"-111.8\" font-family=\"Helvetica,sans-Serif\" font-size=\"14.00\" fill=\"#000000\">is_workingday &lt;= 0.5</text>\n<text text-anchor=\"middle\" x=\"7909\" y=\"-96.8\" font-family=\"Helvetica,sans-Serif\" font-size=\"14.00\" fill=\"#000000\">samples = 10.2%</text>\n<text text-anchor=\"middle\" x=\"7909\" y=\"-81.8\" font-family=\"Helvetica,sans-Serif\" font-size=\"14.00\" fill=\"#000000\">value = 160.4</text>\n</g>\n<!-- 113&#45;&gt;114 -->\n<g id=\"edge114\" class=\"edge\">\n<title>113&#45;&gt;114</title>\n<path fill=\"none\" stroke=\"#000000\" d=\"M7968.4972,-162.7971C7960.0083,-153.9087 7950.4362,-143.8862 7941.4913,-134.5203\"/>\n<polygon fill=\"#000000\" stroke=\"#000000\" points=\"7943.9226,-131.9985 7934.4848,-127.1841 7938.8604,-136.8332 7943.9226,-131.9985\"/>\n</g>\n<!-- 117 -->\n<g id=\"node118\" class=\"node\">\n<title>117</title>\n<path fill=\"#e89050\" stroke=\"#000000\" d=\"M8143.5,-127C8143.5,-127 8016.5,-127 8016.5,-127 8010.5,-127 8004.5,-121 8004.5,-115 8004.5,-115 8004.5,-86 8004.5,-86 8004.5,-80 8010.5,-74 8016.5,-74 8016.5,-74 8143.5,-74 8143.5,-74 8149.5,-74 8155.5,-80 8155.5,-86 8155.5,-86 8155.5,-115 8155.5,-115 8155.5,-121 8149.5,-127 8143.5,-127\"/>\n<text text-anchor=\"middle\" x=\"8080\" y=\"-111.8\" font-family=\"Helvetica,sans-Serif\" font-size=\"14.00\" fill=\"#000000\">hour_of_day &lt;= 18.5</text>\n<text text-anchor=\"middle\" x=\"8080\" y=\"-96.8\" font-family=\"Helvetica,sans-Serif\" font-size=\"14.00\" fill=\"#000000\">samples = 6.7%</text>\n<text text-anchor=\"middle\" x=\"8080\" y=\"-81.8\" font-family=\"Helvetica,sans-Serif\" font-size=\"14.00\" fill=\"#000000\">value = 333.0</text>\n</g>\n<!-- 113&#45;&gt;117 -->\n<g id=\"edge117\" class=\"edge\">\n<title>113&#45;&gt;117</title>\n<path fill=\"none\" stroke=\"#000000\" d=\"M8019.8028,-162.7971C8028.3916,-153.9087 8038.0763,-143.8862 8047.1264,-134.5203\"/>\n<polygon fill=\"#000000\" stroke=\"#000000\" points=\"8049.7835,-136.8074 8054.2154,-127.1841 8044.7496,-131.9432 8049.7835,-136.8074\"/>\n</g>\n<!-- 115 -->\n<g id=\"node116\" class=\"node\">\n<title>115</title>\n<path fill=\"#eca571\" stroke=\"#000000\" d=\"M7836,-38C7836,-38 7740,-38 7740,-38 7734,-38 7728,-32 7728,-26 7728,-26 7728,-12 7728,-12 7728,-6 7734,0 7740,0 7740,0 7836,0 7836,0 7842,0 7848,-6 7848,-12 7848,-12 7848,-26 7848,-26 7848,-32 7842,-38 7836,-38\"/>\n<text text-anchor=\"middle\" x=\"7788\" y=\"-22.8\" font-family=\"Helvetica,sans-Serif\" font-size=\"14.00\" fill=\"#000000\">samples = 3.1%</text>\n<text text-anchor=\"middle\" x=\"7788\" y=\"-7.8\" font-family=\"Helvetica,sans-Serif\" font-size=\"14.00\" fill=\"#000000\">value = 234.6</text>\n</g>\n<!-- 114&#45;&gt;115 -->\n<g id=\"edge115\" class=\"edge\">\n<title>114&#45;&gt;115</title>\n<path fill=\"none\" stroke=\"#000000\" d=\"M7869.3801,-73.8139C7855.1108,-64.2027 7839.0752,-53.4019 7825.0349,-43.945\"/>\n<polygon fill=\"#000000\" stroke=\"#000000\" points=\"7826.8337,-40.9367 7816.5843,-38.2531 7822.9231,-46.7425 7826.8337,-40.9367\"/>\n</g>\n<!-- 116 -->\n<g id=\"node117\" class=\"node\">\n<title>116</title>\n<path fill=\"#f1bb95\" stroke=\"#000000\" d=\"M7974,-38C7974,-38 7878,-38 7878,-38 7872,-38 7866,-32 7866,-26 7866,-26 7866,-12 7866,-12 7866,-6 7872,0 7878,0 7878,0 7974,0 7974,0 7980,0 7986,-6 7986,-12 7986,-12 7986,-26 7986,-26 7986,-32 7980,-38 7974,-38\"/>\n<text text-anchor=\"middle\" x=\"7926\" y=\"-22.8\" font-family=\"Helvetica,sans-Serif\" font-size=\"14.00\" fill=\"#000000\">samples = 7.0%</text>\n<text text-anchor=\"middle\" x=\"7926\" y=\"-7.8\" font-family=\"Helvetica,sans-Serif\" font-size=\"14.00\" fill=\"#000000\">value = 127.2</text>\n</g>\n<!-- 114&#45;&gt;116 -->\n<g id=\"edge116\" class=\"edge\">\n<title>114&#45;&gt;116</title>\n<path fill=\"none\" stroke=\"#000000\" d=\"M7914.5664,-73.8139C7916.2686,-65.6535 7918.1497,-56.6354 7919.8861,-48.3105\"/>\n<polygon fill=\"#000000\" stroke=\"#000000\" points=\"7923.3683,-48.7571 7921.984,-38.2531 7916.5157,-47.3277 7923.3683,-48.7571\"/>\n</g>\n<!-- 118 -->\n<g id=\"node119\" class=\"node\">\n<title>118</title>\n<path fill=\"#e58139\" stroke=\"#000000\" d=\"M8112,-38C8112,-38 8016,-38 8016,-38 8010,-38 8004,-32 8004,-26 8004,-26 8004,-12 8004,-12 8004,-6 8010,0 8016,0 8016,0 8112,0 8112,0 8118,0 8124,-6 8124,-12 8124,-12 8124,-26 8124,-26 8124,-32 8118,-38 8112,-38\"/>\n<text text-anchor=\"middle\" x=\"8064\" y=\"-22.8\" font-family=\"Helvetica,sans-Serif\" font-size=\"14.00\" fill=\"#000000\">samples = 4.2%</text>\n<text text-anchor=\"middle\" x=\"8064\" y=\"-7.8\" font-family=\"Helvetica,sans-Serif\" font-size=\"14.00\" fill=\"#000000\">value = 401.3</text>\n</g>\n<!-- 117&#45;&gt;118 -->\n<g id=\"edge118\" class=\"edge\">\n<title>117&#45;&gt;118</title>\n<path fill=\"none\" stroke=\"#000000\" d=\"M8074.761,-73.8139C8073.159,-65.6535 8071.3886,-56.6354 8069.7542,-48.3105\"/>\n<polygon fill=\"#000000\" stroke=\"#000000\" points=\"8073.1407,-47.3915 8067.7797,-38.2531 8066.2718,-48.74 8073.1407,-47.3915\"/>\n</g>\n<!-- 119 -->\n<g id=\"node120\" class=\"node\">\n<title>119</title>\n<path fill=\"#eda775\" stroke=\"#000000\" d=\"M8250,-38C8250,-38 8154,-38 8154,-38 8148,-38 8142,-32 8142,-26 8142,-26 8142,-12 8142,-12 8142,-6 8148,0 8154,0 8154,0 8250,0 8250,0 8256,0 8262,-6 8262,-12 8262,-12 8262,-26 8262,-26 8262,-32 8256,-38 8250,-38\"/>\n<text text-anchor=\"middle\" x=\"8202\" y=\"-22.8\" font-family=\"Helvetica,sans-Serif\" font-size=\"14.00\" fill=\"#000000\">samples = 2.6%</text>\n<text text-anchor=\"middle\" x=\"8202\" y=\"-7.8\" font-family=\"Helvetica,sans-Serif\" font-size=\"14.00\" fill=\"#000000\">value = 223.7</text>\n</g>\n<!-- 117&#45;&gt;119 -->\n<g id=\"edge119\" class=\"edge\">\n<title>117&#45;&gt;119</title>\n<path fill=\"none\" stroke=\"#000000\" d=\"M8119.9474,-73.8139C8134.3346,-64.2027 8150.5026,-53.4019 8164.659,-43.945\"/>\n<polygon fill=\"#000000\" stroke=\"#000000\" points=\"8166.8084,-46.7183 8173.1795,-38.2531 8162.92,-40.8976 8166.8084,-46.7183\"/>\n</g>\n<!-- 121 -->\n<g id=\"node122\" class=\"node\">\n<title>121</title>\n<path fill=\"#f3c6a6\" stroke=\"#000000\" d=\"M8471,-127C8471,-127 8287,-127 8287,-127 8281,-127 8275,-121 8275,-115 8275,-115 8275,-86 8275,-86 8275,-80 8281,-74 8287,-74 8287,-74 8471,-74 8471,-74 8477,-74 8483,-80 8483,-86 8483,-86 8483,-115 8483,-115 8483,-121 8477,-127 8471,-127\"/>\n<text text-anchor=\"middle\" x=\"8379\" y=\"-111.8\" font-family=\"Helvetica,sans-Serif\" font-size=\"14.00\" fill=\"#000000\">feels_like_temperature &lt;= 0.6</text>\n<text text-anchor=\"middle\" x=\"8379\" y=\"-96.8\" font-family=\"Helvetica,sans-Serif\" font-size=\"14.00\" fill=\"#000000\">samples = 1.2%</text>\n<text text-anchor=\"middle\" x=\"8379\" y=\"-81.8\" font-family=\"Helvetica,sans-Serif\" font-size=\"14.00\" fill=\"#000000\">value = 77.1</text>\n</g>\n<!-- 120&#45;&gt;121 -->\n<g id=\"edge121\" class=\"edge\">\n<title>120&#45;&gt;121</title>\n<path fill=\"none\" stroke=\"#000000\" d=\"M8379,-162.7971C8379,-154.7887 8379,-145.8597 8379,-137.3198\"/>\n<polygon fill=\"#000000\" stroke=\"#000000\" points=\"8382.5001,-137.1841 8379,-127.1841 8375.5001,-137.1841 8382.5001,-137.1841\"/>\n</g>\n<!-- 124 -->\n<g id=\"node125\" class=\"node\">\n<title>124</title>\n<path fill=\"#f7dac5\" stroke=\"#000000\" d=\"M8679.5,-127C8679.5,-127 8552.5,-127 8552.5,-127 8546.5,-127 8540.5,-121 8540.5,-115 8540.5,-115 8540.5,-86 8540.5,-86 8540.5,-80 8546.5,-74 8552.5,-74 8552.5,-74 8679.5,-74 8679.5,-74 8685.5,-74 8691.5,-80 8691.5,-86 8691.5,-86 8691.5,-115 8691.5,-115 8691.5,-121 8685.5,-127 8679.5,-127\"/>\n<text text-anchor=\"middle\" x=\"8616\" y=\"-111.8\" font-family=\"Helvetica,sans-Serif\" font-size=\"14.00\" fill=\"#000000\">hour_of_day &lt;= 22.5</text>\n<text text-anchor=\"middle\" x=\"8616\" y=\"-96.8\" font-family=\"Helvetica,sans-Serif\" font-size=\"14.00\" fill=\"#000000\">samples = 2.2%</text>\n<text text-anchor=\"middle\" x=\"8616\" y=\"-81.8\" font-family=\"Helvetica,sans-Serif\" font-size=\"14.00\" fill=\"#000000\">value = &#45;14.8</text>\n</g>\n<!-- 120&#45;&gt;124 -->\n<g id=\"edge124\" class=\"edge\">\n<title>120&#45;&gt;124</title>\n<path fill=\"none\" stroke=\"#000000\" d=\"M8449.7868,-162.9176C8476.7516,-152.7916 8507.6733,-141.1797 8535.4762,-130.7389\"/>\n<polygon fill=\"#000000\" stroke=\"#000000\" points=\"8537.0375,-133.8913 8545.1687,-127.0991 8534.5766,-127.3381 8537.0375,-133.8913\"/>\n</g>\n<!-- 122 -->\n<g id=\"node123\" class=\"node\">\n<title>122</title>\n<path fill=\"#f5d0b4\" stroke=\"#000000\" d=\"M8388,-38C8388,-38 8292,-38 8292,-38 8286,-38 8280,-32 8280,-26 8280,-26 8280,-12 8280,-12 8280,-6 8286,0 8292,0 8292,0 8388,0 8388,0 8394,0 8400,-6 8400,-12 8400,-12 8400,-26 8400,-26 8400,-32 8394,-38 8388,-38\"/>\n<text text-anchor=\"middle\" x=\"8340\" y=\"-22.8\" font-family=\"Helvetica,sans-Serif\" font-size=\"14.00\" fill=\"#000000\">samples = 0.4%</text>\n<text text-anchor=\"middle\" x=\"8340\" y=\"-7.8\" font-family=\"Helvetica,sans-Serif\" font-size=\"14.00\" fill=\"#000000\">value = 33.2</text>\n</g>\n<!-- 121&#45;&gt;122 -->\n<g id=\"edge122\" class=\"edge\">\n<title>121&#45;&gt;122</title>\n<path fill=\"none\" stroke=\"#000000\" d=\"M8366.2299,-73.8139C8362.1948,-65.3815 8357.7214,-56.0333 8353.6287,-47.4804\"/>\n<polygon fill=\"#000000\" stroke=\"#000000\" points=\"8356.6868,-45.7627 8349.2131,-38.2531 8350.3725,-48.7843 8356.6868,-45.7627\"/>\n</g>\n<!-- 123 -->\n<g id=\"node124\" class=\"node\">\n<title>123</title>\n<path fill=\"#f2c29f\" stroke=\"#000000\" d=\"M8526,-38C8526,-38 8430,-38 8430,-38 8424,-38 8418,-32 8418,-26 8418,-26 8418,-12 8418,-12 8418,-6 8424,0 8430,0 8430,0 8526,0 8526,0 8532,0 8538,-6 8538,-12 8538,-12 8538,-26 8538,-26 8538,-32 8532,-38 8526,-38\"/>\n<text text-anchor=\"middle\" x=\"8478\" y=\"-22.8\" font-family=\"Helvetica,sans-Serif\" font-size=\"14.00\" fill=\"#000000\">samples = 0.8%</text>\n<text text-anchor=\"middle\" x=\"8478\" y=\"-7.8\" font-family=\"Helvetica,sans-Serif\" font-size=\"14.00\" fill=\"#000000\">value = 98.3</text>\n</g>\n<!-- 121&#45;&gt;123 -->\n<g id=\"edge123\" class=\"edge\">\n<title>121&#45;&gt;123</title>\n<path fill=\"none\" stroke=\"#000000\" d=\"M8411.4163,-73.8139C8422.7607,-64.4747 8435.4697,-54.0123 8446.7195,-44.7511\"/>\n<polygon fill=\"#000000\" stroke=\"#000000\" points=\"8449.1169,-47.311 8454.6128,-38.2531 8444.6679,-41.9066 8449.1169,-47.311\"/>\n</g>\n<!-- 125 -->\n<g id=\"node126\" class=\"node\">\n<title>125</title>\n<path fill=\"#f6d4bb\" stroke=\"#000000\" d=\"M8664,-38C8664,-38 8568,-38 8568,-38 8562,-38 8556,-32 8556,-26 8556,-26 8556,-12 8556,-12 8556,-6 8562,0 8568,0 8568,0 8664,0 8664,0 8670,0 8676,-6 8676,-12 8676,-12 8676,-26 8676,-26 8676,-32 8670,-38 8664,-38\"/>\n<text text-anchor=\"middle\" x=\"8616\" y=\"-22.8\" font-family=\"Helvetica,sans-Serif\" font-size=\"14.00\" fill=\"#000000\">samples = 1.2%</text>\n<text text-anchor=\"middle\" x=\"8616\" y=\"-7.8\" font-family=\"Helvetica,sans-Serif\" font-size=\"14.00\" fill=\"#000000\">value = 14.6</text>\n</g>\n<!-- 124&#45;&gt;125 -->\n<g id=\"edge125\" class=\"edge\">\n<title>124&#45;&gt;125</title>\n<path fill=\"none\" stroke=\"#000000\" d=\"M8616,-73.8139C8616,-65.6535 8616,-56.6354 8616,-48.3105\"/>\n<polygon fill=\"#000000\" stroke=\"#000000\" points=\"8619.5001,-48.253 8616,-38.2531 8612.5001,-48.2531 8619.5001,-48.253\"/>\n</g>\n<!-- 126 -->\n<g id=\"node127\" class=\"node\">\n<title>126</title>\n<path fill=\"#f9e1d1\" stroke=\"#000000\" d=\"M8802,-38C8802,-38 8706,-38 8706,-38 8700,-38 8694,-32 8694,-26 8694,-26 8694,-12 8694,-12 8694,-6 8700,0 8706,0 8706,0 8802,0 8802,0 8808,0 8814,-6 8814,-12 8814,-12 8814,-26 8814,-26 8814,-32 8808,-38 8802,-38\"/>\n<text text-anchor=\"middle\" x=\"8754\" y=\"-22.8\" font-family=\"Helvetica,sans-Serif\" font-size=\"14.00\" fill=\"#000000\">samples = 1.0%</text>\n<text text-anchor=\"middle\" x=\"8754\" y=\"-7.8\" font-family=\"Helvetica,sans-Serif\" font-size=\"14.00\" fill=\"#000000\">value = &#45;50.8</text>\n</g>\n<!-- 124&#45;&gt;126 -->\n<g id=\"edge126\" class=\"edge\">\n<title>124&#45;&gt;126</title>\n<path fill=\"none\" stroke=\"#000000\" d=\"M8661.1864,-73.8139C8677.7675,-64.0214 8696.4397,-52.9939 8712.6658,-43.4112\"/>\n<polygon fill=\"#000000\" stroke=\"#000000\" points=\"8714.569,-46.352 8721.3997,-38.2531 8711.0094,-40.3246 8714.569,-46.352\"/>\n</g>\n</g>\n</svg>\n"
          },
          "metadata": {
            "tags": []
          },
          "execution_count": 26
        }
      ]
    },
    {
      "cell_type": "markdown",
      "metadata": {
        "id": "UDhu91aa8vuw"
      },
      "source": [
        "# Inference"
      ]
    },
    {
      "cell_type": "code",
      "metadata": {
        "id": "EiQwrb7TK40n",
        "outputId": "709d749f-bc0d-4b68-c2c4-8c1a0197eca6",
        "colab": {
          "base_uri": "https://localhost:8080/",
          "height": 407
        }
      },
      "source": [
        "test_predictions = X_test.copy()\n",
        "# real output (rented_bikes) from test dataset\n",
        "test_predictions[\"rented_bikes\"] = y_test\n",
        "\n",
        "# add \"predicted_rented_bikes\" from test dataset\n",
        "test_predictions[\"predicted_rented_bikes\"] = best_model.predict(X_test).astype(int)\n",
        "\n",
        "# show results\n",
        "test_predictions"
      ],
      "execution_count": null,
      "outputs": [
        {
          "output_type": "execute_result",
          "data": {
            "text/html": [
              "<div>\n",
              "<style scoped>\n",
              "    .dataframe tbody tr th:only-of-type {\n",
              "        vertical-align: middle;\n",
              "    }\n",
              "\n",
              "    .dataframe tbody tr th {\n",
              "        vertical-align: top;\n",
              "    }\n",
              "\n",
              "    .dataframe thead th {\n",
              "        text-align: right;\n",
              "    }\n",
              "</style>\n",
              "<table border=\"1\" class=\"dataframe\">\n",
              "  <thead>\n",
              "    <tr style=\"text-align: right;\">\n",
              "      <th></th>\n",
              "      <th>season</th>\n",
              "      <th>year</th>\n",
              "      <th>month</th>\n",
              "      <th>hour_of_day</th>\n",
              "      <th>is_holiday</th>\n",
              "      <th>weekday</th>\n",
              "      <th>is_workingday</th>\n",
              "      <th>weather_situation</th>\n",
              "      <th>temperature</th>\n",
              "      <th>feels_like_temperature</th>\n",
              "      <th>humidity</th>\n",
              "      <th>windspeed</th>\n",
              "      <th>rented_bikes</th>\n",
              "      <th>predicted_rented_bikes</th>\n",
              "    </tr>\n",
              "  </thead>\n",
              "  <tbody>\n",
              "    <tr>\n",
              "      <th>12830</th>\n",
              "      <td>3</td>\n",
              "      <td>1</td>\n",
              "      <td>6</td>\n",
              "      <td>19</td>\n",
              "      <td>0</td>\n",
              "      <td>6</td>\n",
              "      <td>0</td>\n",
              "      <td>1</td>\n",
              "      <td>0.80</td>\n",
              "      <td>0.6970</td>\n",
              "      <td>0.27</td>\n",
              "      <td>0.1940</td>\n",
              "      <td>425</td>\n",
              "      <td>397</td>\n",
              "    </tr>\n",
              "    <tr>\n",
              "      <th>8688</th>\n",
              "      <td>1</td>\n",
              "      <td>1</td>\n",
              "      <td>1</td>\n",
              "      <td>20</td>\n",
              "      <td>1</td>\n",
              "      <td>1</td>\n",
              "      <td>0</td>\n",
              "      <td>1</td>\n",
              "      <td>0.24</td>\n",
              "      <td>0.2273</td>\n",
              "      <td>0.41</td>\n",
              "      <td>0.2239</td>\n",
              "      <td>88</td>\n",
              "      <td>99</td>\n",
              "    </tr>\n",
              "    <tr>\n",
              "      <th>7091</th>\n",
              "      <td>4</td>\n",
              "      <td>0</td>\n",
              "      <td>10</td>\n",
              "      <td>2</td>\n",
              "      <td>0</td>\n",
              "      <td>5</td>\n",
              "      <td>1</td>\n",
              "      <td>1</td>\n",
              "      <td>0.32</td>\n",
              "      <td>0.3030</td>\n",
              "      <td>0.66</td>\n",
              "      <td>0.2836</td>\n",
              "      <td>4</td>\n",
              "      <td>13</td>\n",
              "    </tr>\n",
              "    <tr>\n",
              "      <th>12230</th>\n",
              "      <td>2</td>\n",
              "      <td>1</td>\n",
              "      <td>5</td>\n",
              "      <td>19</td>\n",
              "      <td>0</td>\n",
              "      <td>2</td>\n",
              "      <td>1</td>\n",
              "      <td>1</td>\n",
              "      <td>0.78</td>\n",
              "      <td>0.7121</td>\n",
              "      <td>0.52</td>\n",
              "      <td>0.3582</td>\n",
              "      <td>526</td>\n",
              "      <td>564</td>\n",
              "    </tr>\n",
              "    <tr>\n",
              "      <th>431</th>\n",
              "      <td>1</td>\n",
              "      <td>0</td>\n",
              "      <td>1</td>\n",
              "      <td>0</td>\n",
              "      <td>0</td>\n",
              "      <td>4</td>\n",
              "      <td>1</td>\n",
              "      <td>1</td>\n",
              "      <td>0.26</td>\n",
              "      <td>0.2273</td>\n",
              "      <td>0.56</td>\n",
              "      <td>0.3881</td>\n",
              "      <td>13</td>\n",
              "      <td>10</td>\n",
              "    </tr>\n",
              "    <tr>\n",
              "      <th>...</th>\n",
              "      <td>...</td>\n",
              "      <td>...</td>\n",
              "      <td>...</td>\n",
              "      <td>...</td>\n",
              "      <td>...</td>\n",
              "      <td>...</td>\n",
              "      <td>...</td>\n",
              "      <td>...</td>\n",
              "      <td>...</td>\n",
              "      <td>...</td>\n",
              "      <td>...</td>\n",
              "      <td>...</td>\n",
              "      <td>...</td>\n",
              "      <td>...</td>\n",
              "    </tr>\n",
              "    <tr>\n",
              "      <th>12749</th>\n",
              "      <td>2</td>\n",
              "      <td>1</td>\n",
              "      <td>6</td>\n",
              "      <td>10</td>\n",
              "      <td>0</td>\n",
              "      <td>3</td>\n",
              "      <td>1</td>\n",
              "      <td>1</td>\n",
              "      <td>0.82</td>\n",
              "      <td>0.7727</td>\n",
              "      <td>0.52</td>\n",
              "      <td>0.1343</td>\n",
              "      <td>167</td>\n",
              "      <td>182</td>\n",
              "    </tr>\n",
              "    <tr>\n",
              "      <th>11476</th>\n",
              "      <td>2</td>\n",
              "      <td>1</td>\n",
              "      <td>4</td>\n",
              "      <td>9</td>\n",
              "      <td>0</td>\n",
              "      <td>6</td>\n",
              "      <td>0</td>\n",
              "      <td>2</td>\n",
              "      <td>0.38</td>\n",
              "      <td>0.3939</td>\n",
              "      <td>0.37</td>\n",
              "      <td>0.0000</td>\n",
              "      <td>214</td>\n",
              "      <td>241</td>\n",
              "    </tr>\n",
              "    <tr>\n",
              "      <th>12847</th>\n",
              "      <td>3</td>\n",
              "      <td>1</td>\n",
              "      <td>6</td>\n",
              "      <td>12</td>\n",
              "      <td>0</td>\n",
              "      <td>0</td>\n",
              "      <td>0</td>\n",
              "      <td>1</td>\n",
              "      <td>0.80</td>\n",
              "      <td>0.6970</td>\n",
              "      <td>0.33</td>\n",
              "      <td>0.2239</td>\n",
              "      <td>556</td>\n",
              "      <td>555</td>\n",
              "    </tr>\n",
              "    <tr>\n",
              "      <th>16721</th>\n",
              "      <td>4</td>\n",
              "      <td>1</td>\n",
              "      <td>12</td>\n",
              "      <td>12</td>\n",
              "      <td>0</td>\n",
              "      <td>2</td>\n",
              "      <td>1</td>\n",
              "      <td>1</td>\n",
              "      <td>0.52</td>\n",
              "      <td>0.5000</td>\n",
              "      <td>0.68</td>\n",
              "      <td>0.1940</td>\n",
              "      <td>312</td>\n",
              "      <td>297</td>\n",
              "    </tr>\n",
              "    <tr>\n",
              "      <th>9511</th>\n",
              "      <td>1</td>\n",
              "      <td>1</td>\n",
              "      <td>2</td>\n",
              "      <td>6</td>\n",
              "      <td>0</td>\n",
              "      <td>1</td>\n",
              "      <td>1</td>\n",
              "      <td>1</td>\n",
              "      <td>0.16</td>\n",
              "      <td>0.1818</td>\n",
              "      <td>0.86</td>\n",
              "      <td>0.1045</td>\n",
              "      <td>72</td>\n",
              "      <td>74</td>\n",
              "    </tr>\n",
              "  </tbody>\n",
              "</table>\n",
              "<p>5214 rows × 14 columns</p>\n",
              "</div>"
            ],
            "text/plain": [
              "       season  year  month  ...  windspeed  rented_bikes  predicted_rented_bikes\n",
              "12830       3     1      6  ...     0.1940           425                     397\n",
              "8688        1     1      1  ...     0.2239            88                      99\n",
              "7091        4     0     10  ...     0.2836             4                      13\n",
              "12230       2     1      5  ...     0.3582           526                     564\n",
              "431         1     0      1  ...     0.3881            13                      10\n",
              "...       ...   ...    ...  ...        ...           ...                     ...\n",
              "12749       2     1      6  ...     0.1343           167                     182\n",
              "11476       2     1      4  ...     0.0000           214                     241\n",
              "12847       3     1      6  ...     0.2239           556                     555\n",
              "16721       4     1     12  ...     0.1940           312                     297\n",
              "9511        1     1      2  ...     0.1045            72                      74\n",
              "\n",
              "[5214 rows x 14 columns]"
            ]
          },
          "metadata": {
            "tags": []
          },
          "execution_count": 27
        }
      ]
    },
    {
      "cell_type": "code",
      "metadata": {
        "id": "SwfQEr_NGlDa",
        "outputId": "e153d67b-b13f-4b13-bbe9-542eed7442a8",
        "colab": {
          "base_uri": "https://localhost:8080/",
          "height": 911
        }
      },
      "source": [
        "# plot truth vs prediction values\n",
        "test_predictions.plot(\n",
        "    kind=\"scatter\",\n",
        "    x=\"rented_bikes\",\n",
        "    y=\"predicted_rented_bikes\",\n",
        "    title=\"Rented bikes vs predicted rented bikes\",\n",
        "    figsize=(15, 15),\n",
        ")"
      ],
      "execution_count": null,
      "outputs": [
        {
          "output_type": "execute_result",
          "data": {
            "text/plain": [
              "<matplotlib.axes._subplots.AxesSubplot at 0x7ffa18b8aa20>"
            ]
          },
          "metadata": {
            "tags": []
          },
          "execution_count": 28
        },
        {
          "output_type": "display_data",
          "data": {
            "image/png": "[encoded data removed]",
            "text/plain": [
              "<Figure size 1080x1080 with 1 Axes>"
            ]
          },
          "metadata": {
            "tags": [],
            "needs_background": "light"
          }
        }
      ]
    },
    {
      "cell_type": "markdown",
      "metadata": {
        "id": "n76_rUaul1oA"
      },
      "source": [
        "# Model Serving\n",
        "\n",
        "Reference: https://www.mlflow.org/docs/latest/models.html"
      ]
    },
    {
      "cell_type": "code",
      "metadata": {
        "id": "gIp8mJHXNbJR"
      },
      "source": [
        "get_ipython().system_raw(f\"mlflow models serve --model-uri {best_model_uri} --host 0.0.0.0 --port 5001 --workers 1 --no-conda &\")\n",
        "!sleep 5"
      ],
      "execution_count": null,
      "outputs": []
    },
    {
      "cell_type": "code",
      "metadata": {
        "id": "qJlIxKfGzQC5"
      },
      "source": [
        "# alternative method\n",
        "# import mlflow.models.cli\n",
        "# mlflow.models.cli.serve([\"--model-uri\", best_model_uri, \"--no-conda\", \"--host\", \"0.0.0.0\", \"--port\", 5005, \"--workers\", 1])"
      ],
      "execution_count": null,
      "outputs": []
    },
    {
      "cell_type": "markdown",
      "metadata": {
        "id": "U5cDsIzuU5rO"
      },
      "source": [
        "### REST API request"
      ]
    },
    {
      "cell_type": "code",
      "metadata": {
        "id": "8D_kKKrgPVBb",
        "outputId": "ffa97db8-1e52-4bd6-f2e4-fe16efec6d86",
        "colab": {
          "base_uri": "https://localhost:8080/",
          "height": 35
        }
      },
      "source": [
        "%%bash\n",
        "curl --silent --show-error 'http://localhost:5001/invocations' -H 'Content-Type: application/json' -d '{\n",
        "    \"columns\": [\"season\", \"year\", \"month\", \"hour_of_day\", \"is_holiday\", \"weekday\", \"is_workingday\", \"weather_situation\", \"temperature\", \"feels_like_temperature\", \"humidity\", \"windspeed\"],\n",
        "    \"data\": [[1, 0, 1, 0, 0, 6, 0, 1, 0.24, 0.2879, 0.81, 0.0000]]\n",
        "}'"
      ],
      "execution_count": null,
      "outputs": [
        {
          "output_type": "stream",
          "text": [
            "[35.6162009480556]"
          ],
          "name": "stdout"
        }
      ]
    }
  ]
}